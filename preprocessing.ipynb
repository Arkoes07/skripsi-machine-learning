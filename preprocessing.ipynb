{
 "cells": [
  {
   "cell_type": "markdown",
   "metadata": {},
   "source": [
    "# Data Preprocessing\n",
    "**By: M. Alwi Sukra**"
   ]
  },
  {
   "cell_type": "markdown",
   "metadata": {},
   "source": [
    "Preprocess transformed data until prepared for machine learning algorithm"
   ]
  },
  {
   "cell_type": "markdown",
   "metadata": {},
   "source": [
    "#### import useful libraries"
   ]
  },
  {
   "cell_type": "code",
   "execution_count": 1,
   "metadata": {},
   "outputs": [],
   "source": [
    "import matplotlib.pyplot as plt\n",
    "import numpy as np\n",
    "import pandas as pd\n",
    "import random\n",
    "import seaborn as sns\n",
    "import time\n",
    "from collections import deque"
   ]
  },
  {
   "cell_type": "markdown",
   "metadata": {},
   "source": [
    "#### get transformed data"
   ]
  },
  {
   "cell_type": "code",
   "execution_count": 2,
   "metadata": {},
   "outputs": [],
   "source": [
    "df = pd.read_csv(\"transformed_data/1592836941.1897974_preprocessed-data.csv\", index_col=False)"
   ]
  },
  {
   "cell_type": "code",
   "execution_count": 3,
   "metadata": {},
   "outputs": [
    {
     "data": {
      "text/html": [
       "<div>\n",
       "<style scoped>\n",
       "    .dataframe tbody tr th:only-of-type {\n",
       "        vertical-align: middle;\n",
       "    }\n",
       "\n",
       "    .dataframe tbody tr th {\n",
       "        vertical-align: top;\n",
       "    }\n",
       "\n",
       "    .dataframe thead th {\n",
       "        text-align: right;\n",
       "    }\n",
       "</style>\n",
       "<table border=\"1\" class=\"dataframe\">\n",
       "  <thead>\n",
       "    <tr style=\"text-align: right;\">\n",
       "      <th></th>\n",
       "      <th>frame</th>\n",
       "      <th>subject</th>\n",
       "      <th>class_label</th>\n",
       "      <th>rEar_norm</th>\n",
       "      <th>lEar_norm</th>\n",
       "      <th>mar_norm</th>\n",
       "      <th>perclos</th>\n",
       "      <th>microsleep_rate</th>\n",
       "      <th>yawning_rate</th>\n",
       "    </tr>\n",
       "  </thead>\n",
       "  <tbody>\n",
       "    <tr>\n",
       "      <th>0</th>\n",
       "      <td>4484</td>\n",
       "      <td>1</td>\n",
       "      <td>0</td>\n",
       "      <td>0.582719</td>\n",
       "      <td>0.622472</td>\n",
       "      <td>0.216977</td>\n",
       "      <td>0.033683</td>\n",
       "      <td>0.0</td>\n",
       "      <td>0.0</td>\n",
       "    </tr>\n",
       "    <tr>\n",
       "      <th>1</th>\n",
       "      <td>4485</td>\n",
       "      <td>1</td>\n",
       "      <td>0</td>\n",
       "      <td>0.576412</td>\n",
       "      <td>0.601768</td>\n",
       "      <td>0.210735</td>\n",
       "      <td>0.033683</td>\n",
       "      <td>0.0</td>\n",
       "      <td>0.0</td>\n",
       "    </tr>\n",
       "    <tr>\n",
       "      <th>2</th>\n",
       "      <td>4486</td>\n",
       "      <td>1</td>\n",
       "      <td>0</td>\n",
       "      <td>0.498003</td>\n",
       "      <td>0.554422</td>\n",
       "      <td>0.201034</td>\n",
       "      <td>0.033460</td>\n",
       "      <td>0.0</td>\n",
       "      <td>0.0</td>\n",
       "    </tr>\n",
       "    <tr>\n",
       "      <th>3</th>\n",
       "      <td>4487</td>\n",
       "      <td>1</td>\n",
       "      <td>0</td>\n",
       "      <td>0.595975</td>\n",
       "      <td>0.581950</td>\n",
       "      <td>0.208411</td>\n",
       "      <td>0.033237</td>\n",
       "      <td>0.0</td>\n",
       "      <td>0.0</td>\n",
       "    </tr>\n",
       "    <tr>\n",
       "      <th>4</th>\n",
       "      <td>4488</td>\n",
       "      <td>1</td>\n",
       "      <td>0</td>\n",
       "      <td>0.549539</td>\n",
       "      <td>0.534910</td>\n",
       "      <td>0.200352</td>\n",
       "      <td>0.033237</td>\n",
       "      <td>0.0</td>\n",
       "      <td>0.0</td>\n",
       "    </tr>\n",
       "  </tbody>\n",
       "</table>\n",
       "</div>"
      ],
      "text/plain": [
       "   frame  subject  class_label  rEar_norm  lEar_norm  mar_norm   perclos  \\\n",
       "0   4484        1            0   0.582719   0.622472  0.216977  0.033683   \n",
       "1   4485        1            0   0.576412   0.601768  0.210735  0.033683   \n",
       "2   4486        1            0   0.498003   0.554422  0.201034  0.033460   \n",
       "3   4487        1            0   0.595975   0.581950  0.208411  0.033237   \n",
       "4   4488        1            0   0.549539   0.534910  0.200352  0.033237   \n",
       "\n",
       "   microsleep_rate  yawning_rate  \n",
       "0              0.0           0.0  \n",
       "1              0.0           0.0  \n",
       "2              0.0           0.0  \n",
       "3              0.0           0.0  \n",
       "4              0.0           0.0  "
      ]
     },
     "execution_count": 3,
     "metadata": {},
     "output_type": "execute_result"
    }
   ],
   "source": [
    "df.head()"
   ]
  },
  {
   "cell_type": "code",
   "execution_count": 4,
   "metadata": {},
   "outputs": [],
   "source": [
    "df_identical = pd.read_csv(\"transformed_data/1592836941.1897974_preprocessed-data-identical_fps.csv\", index_col=False)"
   ]
  },
  {
   "cell_type": "code",
   "execution_count": 5,
   "metadata": {},
   "outputs": [
    {
     "data": {
      "text/html": [
       "<div>\n",
       "<style scoped>\n",
       "    .dataframe tbody tr th:only-of-type {\n",
       "        vertical-align: middle;\n",
       "    }\n",
       "\n",
       "    .dataframe tbody tr th {\n",
       "        vertical-align: top;\n",
       "    }\n",
       "\n",
       "    .dataframe thead th {\n",
       "        text-align: right;\n",
       "    }\n",
       "</style>\n",
       "<table border=\"1\" class=\"dataframe\">\n",
       "  <thead>\n",
       "    <tr style=\"text-align: right;\">\n",
       "      <th></th>\n",
       "      <th>frame</th>\n",
       "      <th>subject</th>\n",
       "      <th>class_label</th>\n",
       "      <th>rEar_norm</th>\n",
       "      <th>lEar_norm</th>\n",
       "      <th>mar_norm</th>\n",
       "      <th>perclos</th>\n",
       "      <th>microsleep_rate</th>\n",
       "      <th>yawning_rate</th>\n",
       "    </tr>\n",
       "  </thead>\n",
       "  <tbody>\n",
       "    <tr>\n",
       "      <th>0</th>\n",
       "      <td>4321</td>\n",
       "      <td>1</td>\n",
       "      <td>0</td>\n",
       "      <td>0.535363</td>\n",
       "      <td>0.553641</td>\n",
       "      <td>0.098949</td>\n",
       "      <td>0.030556</td>\n",
       "      <td>0.0</td>\n",
       "      <td>0.0</td>\n",
       "    </tr>\n",
       "    <tr>\n",
       "      <th>1</th>\n",
       "      <td>4324</td>\n",
       "      <td>1</td>\n",
       "      <td>0</td>\n",
       "      <td>0.547988</td>\n",
       "      <td>0.562705</td>\n",
       "      <td>0.083339</td>\n",
       "      <td>0.030556</td>\n",
       "      <td>0.0</td>\n",
       "      <td>0.0</td>\n",
       "    </tr>\n",
       "    <tr>\n",
       "      <th>2</th>\n",
       "      <td>4327</td>\n",
       "      <td>1</td>\n",
       "      <td>0</td>\n",
       "      <td>0.576507</td>\n",
       "      <td>0.554961</td>\n",
       "      <td>0.112021</td>\n",
       "      <td>0.030556</td>\n",
       "      <td>0.0</td>\n",
       "      <td>0.0</td>\n",
       "    </tr>\n",
       "    <tr>\n",
       "      <th>3</th>\n",
       "      <td>4330</td>\n",
       "      <td>1</td>\n",
       "      <td>0</td>\n",
       "      <td>0.555828</td>\n",
       "      <td>0.533281</td>\n",
       "      <td>0.085486</td>\n",
       "      <td>0.030556</td>\n",
       "      <td>0.0</td>\n",
       "      <td>0.0</td>\n",
       "    </tr>\n",
       "    <tr>\n",
       "      <th>4</th>\n",
       "      <td>4333</td>\n",
       "      <td>1</td>\n",
       "      <td>0</td>\n",
       "      <td>0.535523</td>\n",
       "      <td>0.520933</td>\n",
       "      <td>0.084005</td>\n",
       "      <td>0.030556</td>\n",
       "      <td>0.0</td>\n",
       "      <td>0.0</td>\n",
       "    </tr>\n",
       "  </tbody>\n",
       "</table>\n",
       "</div>"
      ],
      "text/plain": [
       "   frame  subject  class_label  rEar_norm  lEar_norm  mar_norm   perclos  \\\n",
       "0   4321        1            0   0.535363   0.553641  0.098949  0.030556   \n",
       "1   4324        1            0   0.547988   0.562705  0.083339  0.030556   \n",
       "2   4327        1            0   0.576507   0.554961  0.112021  0.030556   \n",
       "3   4330        1            0   0.555828   0.533281  0.085486  0.030556   \n",
       "4   4333        1            0   0.535523   0.520933  0.084005  0.030556   \n",
       "\n",
       "   microsleep_rate  yawning_rate  \n",
       "0              0.0           0.0  \n",
       "1              0.0           0.0  \n",
       "2              0.0           0.0  \n",
       "3              0.0           0.0  \n",
       "4              0.0           0.0  "
      ]
     },
     "execution_count": 5,
     "metadata": {},
     "output_type": "execute_result"
    }
   ],
   "source": [
    "df_identical.head()"
   ]
  },
  {
   "cell_type": "markdown",
   "metadata": {},
   "source": [
    "## Balancing Data"
   ]
  },
  {
   "cell_type": "markdown",
   "metadata": {},
   "source": [
    "Balance both original fps and identical fps data so that **for each subject has the same amount of data class 0 and class 1**"
   ]
  },
  {
   "cell_type": "markdown",
   "metadata": {},
   "source": [
    "#### get fps info"
   ]
  },
  {
   "cell_type": "code",
   "execution_count": 6,
   "metadata": {},
   "outputs": [],
   "source": [
    "FPS_PATH = \"D:/datasets/ngantuk/fps_info.txt\""
   ]
  },
  {
   "cell_type": "code",
   "execution_count": 7,
   "metadata": {},
   "outputs": [
    {
     "data": {
      "text/html": [
       "<div>\n",
       "<style scoped>\n",
       "    .dataframe tbody tr th:only-of-type {\n",
       "        vertical-align: middle;\n",
       "    }\n",
       "\n",
       "    .dataframe tbody tr th {\n",
       "        vertical-align: top;\n",
       "    }\n",
       "\n",
       "    .dataframe thead th {\n",
       "        text-align: right;\n",
       "    }\n",
       "</style>\n",
       "<table border=\"1\" class=\"dataframe\">\n",
       "  <thead>\n",
       "    <tr style=\"text-align: right;\">\n",
       "      <th></th>\n",
       "      <th>subject</th>\n",
       "      <th>class_label</th>\n",
       "      <th>fps</th>\n",
       "    </tr>\n",
       "  </thead>\n",
       "  <tbody>\n",
       "    <tr>\n",
       "      <th>0</th>\n",
       "      <td>1</td>\n",
       "      <td>0</td>\n",
       "      <td>24.91</td>\n",
       "    </tr>\n",
       "    <tr>\n",
       "      <th>1</th>\n",
       "      <td>1</td>\n",
       "      <td>1</td>\n",
       "      <td>24.91</td>\n",
       "    </tr>\n",
       "    <tr>\n",
       "      <th>2</th>\n",
       "      <td>2</td>\n",
       "      <td>0</td>\n",
       "      <td>30.00</td>\n",
       "    </tr>\n",
       "    <tr>\n",
       "      <th>3</th>\n",
       "      <td>2</td>\n",
       "      <td>1</td>\n",
       "      <td>30.00</td>\n",
       "    </tr>\n",
       "    <tr>\n",
       "      <th>4</th>\n",
       "      <td>3</td>\n",
       "      <td>0</td>\n",
       "      <td>30.03</td>\n",
       "    </tr>\n",
       "  </tbody>\n",
       "</table>\n",
       "</div>"
      ],
      "text/plain": [
       "   subject  class_label    fps\n",
       "0        1            0  24.91\n",
       "1        1            1  24.91\n",
       "2        2            0  30.00\n",
       "3        2            1  30.00\n",
       "4        3            0  30.03"
      ]
     },
     "execution_count": 7,
     "metadata": {},
     "output_type": "execute_result"
    }
   ],
   "source": [
    "df_fps = pd.read_csv(FPS_PATH, names=['subject','class_label','fps'], delimiter=';', index_col=False)\n",
    "df_fps.head()"
   ]
  },
  {
   "cell_type": "markdown",
   "metadata": {},
   "source": [
    "Get data **just for the first 2 minutes**"
   ]
  },
  {
   "cell_type": "code",
   "execution_count": 8,
   "metadata": {},
   "outputs": [],
   "source": [
    "MINUTES_LENGTH = 2"
   ]
  },
  {
   "cell_type": "markdown",
   "metadata": {},
   "source": [
    "#### normal data"
   ]
  },
  {
   "cell_type": "code",
   "execution_count": 9,
   "metadata": {},
   "outputs": [],
   "source": [
    "dfs_balanced = []"
   ]
  },
  {
   "cell_type": "code",
   "execution_count": 10,
   "metadata": {},
   "outputs": [],
   "source": [
    "for subject, df_subject in df.groupby('subject'):\n",
    "    min_fps = min(df_fps.loc[(df_fps['subject'] == subject)]['fps'].values)\n",
    "    window_size = int(min_fps * 60 * MINUTES_LENGTH) + 1\n",
    "    for class_label, df_class in df_subject.groupby('class_label'):\n",
    "        _df = pd.DataFrame(df_class).reset_index(drop=True)\n",
    "        dfs_balanced.append(_df.iloc[:window_size])"
   ]
  },
  {
   "cell_type": "code",
   "execution_count": 11,
   "metadata": {},
   "outputs": [],
   "source": [
    "df_balanced = pd.concat(dfs_balanced)"
   ]
  },
  {
   "cell_type": "code",
   "execution_count": 12,
   "metadata": {},
   "outputs": [
    {
     "data": {
      "text/html": [
       "<div>\n",
       "<style scoped>\n",
       "    .dataframe tbody tr th:only-of-type {\n",
       "        vertical-align: middle;\n",
       "    }\n",
       "\n",
       "    .dataframe tbody tr th {\n",
       "        vertical-align: top;\n",
       "    }\n",
       "\n",
       "    .dataframe thead th {\n",
       "        text-align: right;\n",
       "    }\n",
       "</style>\n",
       "<table border=\"1\" class=\"dataframe\">\n",
       "  <thead>\n",
       "    <tr style=\"text-align: right;\">\n",
       "      <th></th>\n",
       "      <th>frame</th>\n",
       "      <th>subject</th>\n",
       "      <th>class_label</th>\n",
       "      <th>rEar_norm</th>\n",
       "      <th>lEar_norm</th>\n",
       "      <th>mar_norm</th>\n",
       "      <th>perclos</th>\n",
       "      <th>microsleep_rate</th>\n",
       "      <th>yawning_rate</th>\n",
       "    </tr>\n",
       "  </thead>\n",
       "  <tbody>\n",
       "    <tr>\n",
       "      <th>0</th>\n",
       "      <td>4484</td>\n",
       "      <td>1</td>\n",
       "      <td>0</td>\n",
       "      <td>0.582719</td>\n",
       "      <td>0.622472</td>\n",
       "      <td>0.216977</td>\n",
       "      <td>0.033683</td>\n",
       "      <td>0.0</td>\n",
       "      <td>0.0</td>\n",
       "    </tr>\n",
       "    <tr>\n",
       "      <th>1</th>\n",
       "      <td>4485</td>\n",
       "      <td>1</td>\n",
       "      <td>0</td>\n",
       "      <td>0.576412</td>\n",
       "      <td>0.601768</td>\n",
       "      <td>0.210735</td>\n",
       "      <td>0.033683</td>\n",
       "      <td>0.0</td>\n",
       "      <td>0.0</td>\n",
       "    </tr>\n",
       "    <tr>\n",
       "      <th>2</th>\n",
       "      <td>4486</td>\n",
       "      <td>1</td>\n",
       "      <td>0</td>\n",
       "      <td>0.498003</td>\n",
       "      <td>0.554422</td>\n",
       "      <td>0.201034</td>\n",
       "      <td>0.033460</td>\n",
       "      <td>0.0</td>\n",
       "      <td>0.0</td>\n",
       "    </tr>\n",
       "    <tr>\n",
       "      <th>3</th>\n",
       "      <td>4487</td>\n",
       "      <td>1</td>\n",
       "      <td>0</td>\n",
       "      <td>0.595975</td>\n",
       "      <td>0.581950</td>\n",
       "      <td>0.208411</td>\n",
       "      <td>0.033237</td>\n",
       "      <td>0.0</td>\n",
       "      <td>0.0</td>\n",
       "    </tr>\n",
       "    <tr>\n",
       "      <th>4</th>\n",
       "      <td>4488</td>\n",
       "      <td>1</td>\n",
       "      <td>0</td>\n",
       "      <td>0.549539</td>\n",
       "      <td>0.534910</td>\n",
       "      <td>0.200352</td>\n",
       "      <td>0.033237</td>\n",
       "      <td>0.0</td>\n",
       "      <td>0.0</td>\n",
       "    </tr>\n",
       "  </tbody>\n",
       "</table>\n",
       "</div>"
      ],
      "text/plain": [
       "   frame  subject  class_label  rEar_norm  lEar_norm  mar_norm   perclos  \\\n",
       "0   4484        1            0   0.582719   0.622472  0.216977  0.033683   \n",
       "1   4485        1            0   0.576412   0.601768  0.210735  0.033683   \n",
       "2   4486        1            0   0.498003   0.554422  0.201034  0.033460   \n",
       "3   4487        1            0   0.595975   0.581950  0.208411  0.033237   \n",
       "4   4488        1            0   0.549539   0.534910  0.200352  0.033237   \n",
       "\n",
       "   microsleep_rate  yawning_rate  \n",
       "0              0.0           0.0  \n",
       "1              0.0           0.0  \n",
       "2              0.0           0.0  \n",
       "3              0.0           0.0  \n",
       "4              0.0           0.0  "
      ]
     },
     "execution_count": 12,
     "metadata": {},
     "output_type": "execute_result"
    }
   ],
   "source": [
    "df_balanced.head()"
   ]
  },
  {
   "cell_type": "code",
   "execution_count": 13,
   "metadata": {},
   "outputs": [
    {
     "data": {
      "text/plain": [
       "class_label\n",
       "0    28267\n",
       "1    28267\n",
       "Name: frame, dtype: int64"
      ]
     },
     "execution_count": 13,
     "metadata": {},
     "output_type": "execute_result"
    }
   ],
   "source": [
    "df_balanced.groupby('class_label').count()['frame']"
   ]
  },
  {
   "cell_type": "markdown",
   "metadata": {},
   "source": [
    "#### fps identical data"
   ]
  },
  {
   "cell_type": "code",
   "execution_count": 14,
   "metadata": {},
   "outputs": [],
   "source": [
    "dfs_identical_balanced = []"
   ]
  },
  {
   "cell_type": "code",
   "execution_count": 15,
   "metadata": {},
   "outputs": [],
   "source": [
    "FPS = 8\n",
    "WINDOW_SIZE = int(FPS * 60 * MINUTES_LENGTH) + 1"
   ]
  },
  {
   "cell_type": "code",
   "execution_count": 16,
   "metadata": {},
   "outputs": [],
   "source": [
    "for subject, df_subject in df_identical.groupby('subject'):\n",
    "    for class_label, df_class in df_subject.groupby('class_label'):\n",
    "        _df = pd.DataFrame(df_class).reset_index(drop=True)\n",
    "        dfs_identical_balanced.append(_df.iloc[:WINDOW_SIZE])"
   ]
  },
  {
   "cell_type": "code",
   "execution_count": 17,
   "metadata": {},
   "outputs": [],
   "source": [
    "df_identical_balanced = pd.concat(dfs_identical_balanced)"
   ]
  },
  {
   "cell_type": "code",
   "execution_count": 18,
   "metadata": {},
   "outputs": [
    {
     "data": {
      "text/html": [
       "<div>\n",
       "<style scoped>\n",
       "    .dataframe tbody tr th:only-of-type {\n",
       "        vertical-align: middle;\n",
       "    }\n",
       "\n",
       "    .dataframe tbody tr th {\n",
       "        vertical-align: top;\n",
       "    }\n",
       "\n",
       "    .dataframe thead th {\n",
       "        text-align: right;\n",
       "    }\n",
       "</style>\n",
       "<table border=\"1\" class=\"dataframe\">\n",
       "  <thead>\n",
       "    <tr style=\"text-align: right;\">\n",
       "      <th></th>\n",
       "      <th>frame</th>\n",
       "      <th>subject</th>\n",
       "      <th>class_label</th>\n",
       "      <th>rEar_norm</th>\n",
       "      <th>lEar_norm</th>\n",
       "      <th>mar_norm</th>\n",
       "      <th>perclos</th>\n",
       "      <th>microsleep_rate</th>\n",
       "      <th>yawning_rate</th>\n",
       "    </tr>\n",
       "  </thead>\n",
       "  <tbody>\n",
       "    <tr>\n",
       "      <th>0</th>\n",
       "      <td>4321</td>\n",
       "      <td>1</td>\n",
       "      <td>0</td>\n",
       "      <td>0.535363</td>\n",
       "      <td>0.553641</td>\n",
       "      <td>0.098949</td>\n",
       "      <td>0.030556</td>\n",
       "      <td>0.0</td>\n",
       "      <td>0.0</td>\n",
       "    </tr>\n",
       "    <tr>\n",
       "      <th>1</th>\n",
       "      <td>4324</td>\n",
       "      <td>1</td>\n",
       "      <td>0</td>\n",
       "      <td>0.547988</td>\n",
       "      <td>0.562705</td>\n",
       "      <td>0.083339</td>\n",
       "      <td>0.030556</td>\n",
       "      <td>0.0</td>\n",
       "      <td>0.0</td>\n",
       "    </tr>\n",
       "    <tr>\n",
       "      <th>2</th>\n",
       "      <td>4327</td>\n",
       "      <td>1</td>\n",
       "      <td>0</td>\n",
       "      <td>0.576507</td>\n",
       "      <td>0.554961</td>\n",
       "      <td>0.112021</td>\n",
       "      <td>0.030556</td>\n",
       "      <td>0.0</td>\n",
       "      <td>0.0</td>\n",
       "    </tr>\n",
       "    <tr>\n",
       "      <th>3</th>\n",
       "      <td>4330</td>\n",
       "      <td>1</td>\n",
       "      <td>0</td>\n",
       "      <td>0.555828</td>\n",
       "      <td>0.533281</td>\n",
       "      <td>0.085486</td>\n",
       "      <td>0.030556</td>\n",
       "      <td>0.0</td>\n",
       "      <td>0.0</td>\n",
       "    </tr>\n",
       "    <tr>\n",
       "      <th>4</th>\n",
       "      <td>4333</td>\n",
       "      <td>1</td>\n",
       "      <td>0</td>\n",
       "      <td>0.535523</td>\n",
       "      <td>0.520933</td>\n",
       "      <td>0.084005</td>\n",
       "      <td>0.030556</td>\n",
       "      <td>0.0</td>\n",
       "      <td>0.0</td>\n",
       "    </tr>\n",
       "  </tbody>\n",
       "</table>\n",
       "</div>"
      ],
      "text/plain": [
       "   frame  subject  class_label  rEar_norm  lEar_norm  mar_norm   perclos  \\\n",
       "0   4321        1            0   0.535363   0.553641  0.098949  0.030556   \n",
       "1   4324        1            0   0.547988   0.562705  0.083339  0.030556   \n",
       "2   4327        1            0   0.576507   0.554961  0.112021  0.030556   \n",
       "3   4330        1            0   0.555828   0.533281  0.085486  0.030556   \n",
       "4   4333        1            0   0.535523   0.520933  0.084005  0.030556   \n",
       "\n",
       "   microsleep_rate  yawning_rate  \n",
       "0              0.0           0.0  \n",
       "1              0.0           0.0  \n",
       "2              0.0           0.0  \n",
       "3              0.0           0.0  \n",
       "4              0.0           0.0  "
      ]
     },
     "execution_count": 18,
     "metadata": {},
     "output_type": "execute_result"
    }
   ],
   "source": [
    "df_identical_balanced.head()"
   ]
  },
  {
   "cell_type": "code",
   "execution_count": 19,
   "metadata": {},
   "outputs": [
    {
     "data": {
      "text/plain": [
       "class_label\n",
       "0    9610\n",
       "1    9610\n",
       "Name: frame, dtype: int64"
      ]
     },
     "execution_count": 19,
     "metadata": {},
     "output_type": "execute_result"
    }
   ],
   "source": [
    "df_identical_balanced.groupby('class_label').count()['frame']"
   ]
  },
  {
   "cell_type": "markdown",
   "metadata": {},
   "source": [
    "#### visualize balanced normal data"
   ]
  },
  {
   "cell_type": "code",
   "execution_count": 20,
   "metadata": {},
   "outputs": [],
   "source": [
    "df_balanced_count = df_balanced.groupby(['subject','class_label']).count().reset_index()"
   ]
  },
  {
   "cell_type": "code",
   "execution_count": 21,
   "metadata": {},
   "outputs": [
    {
     "data": {
      "text/plain": [
       "<matplotlib.axes._subplots.AxesSubplot at 0x1db39109508>"
      ]
     },
     "execution_count": 21,
     "metadata": {},
     "output_type": "execute_result"
    },
    {
     "data": {
      "image/png": "[encoded data removed]",
      "text/plain": [
       "<Figure size 432x288 with 1 Axes>"
      ]
     },
     "metadata": {
      "needs_background": "light"
     },
     "output_type": "display_data"
    }
   ],
   "source": [
    "sns.barplot(x='subject',y='frame',data=df_balanced_count,hue='class_label')"
   ]
  },
  {
   "cell_type": "markdown",
   "metadata": {},
   "source": [
    "#### visualize balanced identical fps data"
   ]
  },
  {
   "cell_type": "code",
   "execution_count": 22,
   "metadata": {},
   "outputs": [],
   "source": [
    "df_identical_balanced_count = df_identical_balanced.groupby(['subject','class_label']).count().reset_index()"
   ]
  },
  {
   "cell_type": "code",
   "execution_count": 23,
   "metadata": {},
   "outputs": [
    {
     "data": {
      "text/plain": [
       "<matplotlib.axes._subplots.AxesSubplot at 0x1db38a79bc8>"
      ]
     },
     "execution_count": 23,
     "metadata": {},
     "output_type": "execute_result"
    },
    {
     "data": {
      "image/png": "[encoded data removed]",
      "text/plain": [
       "<Figure size 432x288 with 1 Axes>"
      ]
     },
     "metadata": {
      "needs_background": "light"
     },
     "output_type": "display_data"
    }
   ],
   "source": [
    "sns.barplot(x='subject',y='frame',data=df_identical_balanced_count,hue='class_label')"
   ]
  },
  {
   "cell_type": "markdown",
   "metadata": {},
   "source": [
    "## Data Preparation for ANN"
   ]
  },
  {
   "cell_type": "markdown",
   "metadata": {},
   "source": [
    "#### get data"
   ]
  },
  {
   "cell_type": "code",
   "execution_count": 24,
   "metadata": {},
   "outputs": [],
   "source": [
    "df_ann = df_balanced[df_balanced.columns[2:]]"
   ]
  },
  {
   "cell_type": "markdown",
   "metadata": {},
   "source": [
    "#### shuffle data"
   ]
  },
  {
   "cell_type": "code",
   "execution_count": 25,
   "metadata": {},
   "outputs": [],
   "source": [
    "df_ann = df_ann.sample(frac=1).reset_index(drop=True)"
   ]
  },
  {
   "cell_type": "code",
   "execution_count": 26,
   "metadata": {},
   "outputs": [
    {
     "data": {
      "text/html": [
       "<div>\n",
       "<style scoped>\n",
       "    .dataframe tbody tr th:only-of-type {\n",
       "        vertical-align: middle;\n",
       "    }\n",
       "\n",
       "    .dataframe tbody tr th {\n",
       "        vertical-align: top;\n",
       "    }\n",
       "\n",
       "    .dataframe thead th {\n",
       "        text-align: right;\n",
       "    }\n",
       "</style>\n",
       "<table border=\"1\" class=\"dataframe\">\n",
       "  <thead>\n",
       "    <tr style=\"text-align: right;\">\n",
       "      <th></th>\n",
       "      <th>class_label</th>\n",
       "      <th>rEar_norm</th>\n",
       "      <th>lEar_norm</th>\n",
       "      <th>mar_norm</th>\n",
       "      <th>perclos</th>\n",
       "      <th>microsleep_rate</th>\n",
       "      <th>yawning_rate</th>\n",
       "    </tr>\n",
       "  </thead>\n",
       "  <tbody>\n",
       "    <tr>\n",
       "      <th>0</th>\n",
       "      <td>0</td>\n",
       "      <td>0.402614</td>\n",
       "      <td>0.454788</td>\n",
       "      <td>0.046436</td>\n",
       "      <td>0.184695</td>\n",
       "      <td>0.000000</td>\n",
       "      <td>0.0</td>\n",
       "    </tr>\n",
       "    <tr>\n",
       "      <th>1</th>\n",
       "      <td>0</td>\n",
       "      <td>0.413968</td>\n",
       "      <td>0.460723</td>\n",
       "      <td>0.163730</td>\n",
       "      <td>0.337116</td>\n",
       "      <td>0.000000</td>\n",
       "      <td>0.0</td>\n",
       "    </tr>\n",
       "    <tr>\n",
       "      <th>2</th>\n",
       "      <td>1</td>\n",
       "      <td>0.511867</td>\n",
       "      <td>0.510833</td>\n",
       "      <td>0.152423</td>\n",
       "      <td>0.213519</td>\n",
       "      <td>0.005556</td>\n",
       "      <td>0.0</td>\n",
       "    </tr>\n",
       "    <tr>\n",
       "      <th>3</th>\n",
       "      <td>1</td>\n",
       "      <td>0.354118</td>\n",
       "      <td>0.336673</td>\n",
       "      <td>0.050139</td>\n",
       "      <td>0.215185</td>\n",
       "      <td>0.005556</td>\n",
       "      <td>0.0</td>\n",
       "    </tr>\n",
       "    <tr>\n",
       "      <th>4</th>\n",
       "      <td>1</td>\n",
       "      <td>0.493931</td>\n",
       "      <td>0.500454</td>\n",
       "      <td>0.041683</td>\n",
       "      <td>0.231556</td>\n",
       "      <td>0.000000</td>\n",
       "      <td>0.0</td>\n",
       "    </tr>\n",
       "  </tbody>\n",
       "</table>\n",
       "</div>"
      ],
      "text/plain": [
       "   class_label  rEar_norm  lEar_norm  mar_norm   perclos  microsleep_rate  \\\n",
       "0            0   0.402614   0.454788  0.046436  0.184695         0.000000   \n",
       "1            0   0.413968   0.460723  0.163730  0.337116         0.000000   \n",
       "2            1   0.511867   0.510833  0.152423  0.213519         0.005556   \n",
       "3            1   0.354118   0.336673  0.050139  0.215185         0.005556   \n",
       "4            1   0.493931   0.500454  0.041683  0.231556         0.000000   \n",
       "\n",
       "   yawning_rate  \n",
       "0           0.0  \n",
       "1           0.0  \n",
       "2           0.0  \n",
       "3           0.0  \n",
       "4           0.0  "
      ]
     },
     "execution_count": 26,
     "metadata": {},
     "output_type": "execute_result"
    }
   ],
   "source": [
    "df_ann.head()"
   ]
  },
  {
   "cell_type": "markdown",
   "metadata": {},
   "source": [
    "#### split data"
   ]
  },
  {
   "cell_type": "code",
   "execution_count": 27,
   "metadata": {},
   "outputs": [],
   "source": [
    "SPLIT_RATIO = 0.8"
   ]
  },
  {
   "cell_type": "code",
   "execution_count": 28,
   "metadata": {},
   "outputs": [],
   "source": [
    "length = len(df_ann)"
   ]
  },
  {
   "cell_type": "code",
   "execution_count": 29,
   "metadata": {},
   "outputs": [],
   "source": [
    "split_index = int(0.8*length)"
   ]
  },
  {
   "cell_type": "code",
   "execution_count": 30,
   "metadata": {},
   "outputs": [
    {
     "name": "stdout",
     "output_type": "stream",
     "text": [
      "from a total of 56534, data is split by 0.8 ratio into 45227 train data and 11307 test data\n"
     ]
    }
   ],
   "source": [
    "print(f\"from a total of {length}, data is split by {SPLIT_RATIO} ratio into {split_index} train data and {length-split_index} test data\")"
   ]
  },
  {
   "cell_type": "code",
   "execution_count": 31,
   "metadata": {},
   "outputs": [],
   "source": [
    "train = df_ann.iloc[:split_index].values\n",
    "test = df_ann.iloc[split_index:].values"
   ]
  },
  {
   "cell_type": "markdown",
   "metadata": {},
   "source": [
    "#### seperate into x and y"
   ]
  },
  {
   "cell_type": "code",
   "execution_count": 32,
   "metadata": {},
   "outputs": [],
   "source": [
    "def ann_xy_separator(data, start_idx = 1, end_idx = 8):\n",
    "    X = []\n",
    "    y = []\n",
    "    for row in data:\n",
    "        X.append(row[start_idx:end_idx])\n",
    "        y.append(int(row[0]))\n",
    "    return np.array(X), np.array(y)"
   ]
  },
  {
   "cell_type": "code",
   "execution_count": 33,
   "metadata": {},
   "outputs": [
    {
     "name": "stdout",
     "output_type": "stream",
     "text": [
      "Wall time: 186 ms\n"
     ]
    }
   ],
   "source": [
    "%%time\n",
    "# all feature\n",
    "X_train_all, y_train_all = ann_xy_separator(data=train)\n",
    "X_test_all, y_test_all = ann_xy_separator(data=test)\n",
    "# only base feature\n",
    "X_train_base, y_train_base = ann_xy_separator(data=train, end_idx=4)\n",
    "X_test_base, y_test_base = ann_xy_separator(data=test, end_idx=4)\n",
    "# only aggregate feature\n",
    "X_train_agg, y_train_agg = ann_xy_separator(data=train, start_idx=4)\n",
    "X_test_agg, y_test_agg = ann_xy_separator(data=test, start_idx=4)"
   ]
  },
  {
   "cell_type": "markdown",
   "metadata": {},
   "source": [
    "#### data spotlight"
   ]
  },
  {
   "cell_type": "code",
   "execution_count": 34,
   "metadata": {},
   "outputs": [
    {
     "name": "stdout",
     "output_type": "stream",
     "text": [
      "[0.60191551 0.598114   0.14043675 0.07656741 0.         0.        ] \n",
      " [0.60191551 0.598114   0.14043675] \n",
      " [0.07656741 0.         0.        ]\n"
     ]
    }
   ],
   "source": [
    "print(X_train_all[20],'\\n',X_train_base[20],'\\n',X_train_agg[20])"
   ]
  },
  {
   "cell_type": "code",
   "execution_count": 35,
   "metadata": {},
   "outputs": [
    {
     "name": "stdout",
     "output_type": "stream",
     "text": [
      "0 \n",
      " 0 \n",
      " 0\n"
     ]
    }
   ],
   "source": [
    "print(y_train_all[20],'\\n',y_train_base[20],'\\n',y_train_agg[20])"
   ]
  },
  {
   "cell_type": "markdown",
   "metadata": {},
   "source": [
    "#### save data"
   ]
  },
  {
   "cell_type": "code",
   "execution_count": 36,
   "metadata": {},
   "outputs": [],
   "source": [
    "prefix='dataset/ann'\n",
    "# all feature\n",
    "np.save(file=f'{prefix}-all-X_train', arr=X_train_all)\n",
    "np.save(file=f'{prefix}-all-y_train', arr=y_train_all)\n",
    "np.save(file=f'{prefix}-all-X_test', arr=X_test_all)\n",
    "np.save(file=f'{prefix}-all-y_test', arr=y_test_all)\n",
    "# only base feature\n",
    "np.save(file=f'{prefix}-base-X_train', arr=X_train_base)\n",
    "np.save(file=f'{prefix}-base-y_train', arr=y_train_base)\n",
    "np.save(file=f'{prefix}-base-X_test', arr=X_test_base)\n",
    "np.save(file=f'{prefix}-base-y_test', arr=y_test_base)\n",
    "# only aggregate feature\n",
    "np.save(file=f'{prefix}-agg-X_train', arr=X_train_agg)\n",
    "np.save(file=f'{prefix}-agg-y_train', arr=y_train_agg)\n",
    "np.save(file=f'{prefix}-agg-X_test', arr=X_test_agg)\n",
    "np.save(file=f'{prefix}-agg-y_test', arr=y_test_agg)"
   ]
  },
  {
   "cell_type": "markdown",
   "metadata": {},
   "source": [
    "## Data Preparation for LSTM"
   ]
  },
  {
   "cell_type": "markdown",
   "metadata": {},
   "source": [
    "**Data for LSTM is difference with data for ANN**. ANN required one frame for input at a time, while **LSTM requuired sequential collection of frame** for an input at a time. So first we need to sequentialize the data. the **window of sequentiial data is one minutes**"
   ]
  },
  {
   "cell_type": "code",
   "execution_count": 37,
   "metadata": {},
   "outputs": [],
   "source": [
    "MINUTES_LENGTH = 1\n",
    "FPS = 8\n",
    "SEQ_LEN = int(FPS * 60 * MINUTES_LENGTH)"
   ]
  },
  {
   "cell_type": "markdown",
   "metadata": {},
   "source": [
    "#### defince function to make a sequencial window"
   ]
  },
  {
   "cell_type": "code",
   "execution_count": 38,
   "metadata": {},
   "outputs": [],
   "source": [
    "def sequencialize(df, seq_len, label):\n",
    "    sequential_data = []\n",
    "    prev = deque(maxlen=seq_len)\n",
    "    for row in df.values:\n",
    "        prev.append([data for data in row[3:]])\n",
    "        if len(prev) == seq_len:\n",
    "            sequential_data.append([np.array(prev),label])\n",
    "    return sequential_data"
   ]
  },
  {
   "cell_type": "markdown",
   "metadata": {},
   "source": [
    "#### get data"
   ]
  },
  {
   "cell_type": "code",
   "execution_count": 39,
   "metadata": {},
   "outputs": [],
   "source": [
    "seq_datas = []"
   ]
  },
  {
   "cell_type": "code",
   "execution_count": 40,
   "metadata": {},
   "outputs": [],
   "source": [
    "for subject, df_subject in df_identical_balanced.groupby('subject'):\n",
    "    for class_label, df_class in df_subject.groupby('class_label'):\n",
    "        _df = pd.DataFrame(df_class)\n",
    "        seq_data = sequencialize(_df, SEQ_LEN, class_label)\n",
    "        seq_datas.extend(seq_data)"
   ]
  },
  {
   "cell_type": "markdown",
   "metadata": {},
   "source": [
    "#### shuffle data"
   ]
  },
  {
   "cell_type": "code",
   "execution_count": 41,
   "metadata": {},
   "outputs": [],
   "source": [
    "random.shuffle(seq_datas)"
   ]
  },
  {
   "cell_type": "markdown",
   "metadata": {},
   "source": [
    "#### split data"
   ]
  },
  {
   "cell_type": "code",
   "execution_count": 42,
   "metadata": {},
   "outputs": [],
   "source": [
    "SPLIT_RATIO = 0.8"
   ]
  },
  {
   "cell_type": "code",
   "execution_count": 43,
   "metadata": {},
   "outputs": [],
   "source": [
    "length = len(seq_datas)"
   ]
  },
  {
   "cell_type": "code",
   "execution_count": 44,
   "metadata": {},
   "outputs": [],
   "source": [
    "split_index = int(0.8*length)"
   ]
  },
  {
   "cell_type": "code",
   "execution_count": 45,
   "metadata": {},
   "outputs": [
    {
     "name": "stdout",
     "output_type": "stream",
     "text": [
      "from a total of 9640, data is split by 0.8 ratio into 7712 train data and 1928 test data\n"
     ]
    }
   ],
   "source": [
    "print(f\"from a total of {length}, data is split by {SPLIT_RATIO} ratio into {split_index} train data and {length-split_index} test data\")"
   ]
  },
  {
   "cell_type": "code",
   "execution_count": 46,
   "metadata": {},
   "outputs": [],
   "source": [
    "train = seq_datas[:split_index]\n",
    "test = seq_datas[split_index:]"
   ]
  },
  {
   "cell_type": "markdown",
   "metadata": {},
   "source": [
    "#### seperate into x and y"
   ]
  },
  {
   "cell_type": "code",
   "execution_count": 47,
   "metadata": {},
   "outputs": [],
   "source": [
    "def lstm_xy_separator(data, start_idx = 0, end_idx = 7):\n",
    "    X = []\n",
    "    y = []\n",
    "    for seq, label in data:\n",
    "        if(start_idx == 0 and end_idx == 7):\n",
    "            X.append(seq)\n",
    "        else:\n",
    "            X.append([attr[start_idx:end_idx] for attr in seq])\n",
    "        y.append(int(label))\n",
    "    return np.array(X), np.array(y)"
   ]
  },
  {
   "cell_type": "code",
   "execution_count": 48,
   "metadata": {},
   "outputs": [
    {
     "name": "stdout",
     "output_type": "stream",
     "text": [
      "Wall time: 6.74 s\n"
     ]
    }
   ],
   "source": [
    "%%time\n",
    "# all feature\n",
    "X_train_all, y_train_all = lstm_xy_separator(data=train)\n",
    "X_test_all, y_test_all = lstm_xy_separator(data=test)\n",
    "# only base feature\n",
    "X_train_base, y_train_base = lstm_xy_separator(data=train, end_idx=3)\n",
    "X_test_base, y_test_base = lstm_xy_separator(data=test, end_idx=3)\n",
    "# only aggregate feature\n",
    "X_train_agg, y_train_agg = lstm_xy_separator(data=train, start_idx=3)\n",
    "X_test_agg, y_test_agg = lstm_xy_separator(data=test, start_idx=3)"
   ]
  },
  {
   "cell_type": "markdown",
   "metadata": {},
   "source": [
    "#### data spotlight"
   ]
  },
  {
   "cell_type": "code",
   "execution_count": 49,
   "metadata": {},
   "outputs": [
    {
     "name": "stdout",
     "output_type": "stream",
     "text": [
      "[[0.41725241 0.42283555 0.06540904 0.31805556 0.07222222 0.        ]\n",
      " [0.47797097 0.51280316 0.09436597 0.31875    0.07222222 0.        ]\n",
      " [0.48937226 0.48608813 0.06633803 0.31875    0.07222222 0.        ]\n",
      " [0.46685361 0.50968438 0.06592099 0.31875    0.07222222 0.        ]\n",
      " [0.48937226 0.47148418 0.06586638 0.31875    0.07222222 0.        ]] \n",
      " [[0.41725241 0.42283555 0.06540904]\n",
      " [0.47797097 0.51280316 0.09436597]\n",
      " [0.48937226 0.48608813 0.06633803]\n",
      " [0.46685361 0.50968438 0.06592099]\n",
      " [0.48937226 0.47148418 0.06586638]] \n",
      " [[0.31805556 0.07222222 0.        ]\n",
      " [0.31875    0.07222222 0.        ]\n",
      " [0.31875    0.07222222 0.        ]\n",
      " [0.31875    0.07222222 0.        ]\n",
      " [0.31875    0.07222222 0.        ]]\n"
     ]
    }
   ],
   "source": [
    "print(X_train_all[100][:5],'\\n',X_train_base[100][:5],'\\n',X_train_agg[100][:5])"
   ]
  },
  {
   "cell_type": "code",
   "execution_count": 50,
   "metadata": {},
   "outputs": [
    {
     "name": "stdout",
     "output_type": "stream",
     "text": [
      "1 \n",
      " 1 \n",
      " 1\n"
     ]
    }
   ],
   "source": [
    "print(y_train_all[100],'\\n',y_train_base[100],'\\n',y_train_agg[100])"
   ]
  },
  {
   "cell_type": "markdown",
   "metadata": {},
   "source": [
    "#### save data"
   ]
  },
  {
   "cell_type": "code",
   "execution_count": 51,
   "metadata": {},
   "outputs": [],
   "source": [
    "prefix='dataset/lstm'\n",
    "# all feature\n",
    "np.save(file=f'{prefix}-all-X_train', arr=X_train_all)\n",
    "np.save(file=f'{prefix}-all-y_train', arr=y_train_all)\n",
    "np.save(file=f'{prefix}-all-X_test', arr=X_test_all)\n",
    "np.save(file=f'{prefix}-all-y_test', arr=y_test_all)\n",
    "# only base feature\n",
    "np.save(file=f'{prefix}-base-X_train', arr=X_train_base)\n",
    "np.save(file=f'{prefix}-base-y_train', arr=y_train_base)\n",
    "np.save(file=f'{prefix}-base-X_test', arr=X_test_base)\n",
    "np.save(file=f'{prefix}-base-y_test', arr=y_test_base)\n",
    "# only aggregate feature\n",
    "np.save(file=f'{prefix}-agg-X_train', arr=X_train_agg)\n",
    "np.save(file=f'{prefix}-agg-y_train', arr=y_train_agg)\n",
    "np.save(file=f'{prefix}-agg-X_test', arr=X_test_agg)\n",
    "np.save(file=f'{prefix}-agg-y_test', arr=y_test_agg)"
   ]
  },
  {
   "cell_type": "code",
   "execution_count": null,
   "metadata": {},
   "outputs": [],
   "source": []
  }
 ],
 "metadata": {
  "kernelspec": {
   "display_name": "Python 3",
   "language": "python",
   "name": "python3"
  },
  "language_info": {
   "codemirror_mode": {
    "name": "ipython",
    "version": 3
   },
   "file_extension": ".py",
   "mimetype": "text/x-python",
   "name": "python",
   "nbconvert_exporter": "python",
   "pygments_lexer": "ipython3",
   "version": "3.7.7"
  }
 },
 "nbformat": 4,
 "nbformat_minor": 4
}
