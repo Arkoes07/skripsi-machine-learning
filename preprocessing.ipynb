{
 "cells": [
  {
   "cell_type": "markdown",
   "metadata": {},
   "source": [
    "# Data Preprocessing\n",
    "**By: M. Alwi Sukra**"
   ]
  },
  {
   "cell_type": "markdown",
   "metadata": {},
   "source": [
    "Preprocess transformed data until prepared for machine learning algorithm"
   ]
  },
  {
   "cell_type": "markdown",
   "metadata": {},
   "source": [
    "#### import useful libraries"
   ]
  },
  {
   "cell_type": "code",
   "execution_count": 53,
   "metadata": {},
   "outputs": [],
   "source": [
    "import matplotlib.pyplot as plt\n",
    "import numpy as np\n",
    "import pandas as pd\n",
    "import random\n",
    "import seaborn as sns\n",
    "import time\n",
    "from collections import deque"
   ]
  },
  {
   "cell_type": "markdown",
   "metadata": {},
   "source": [
    "#### get transformed data"
   ]
  },
  {
   "cell_type": "code",
   "execution_count": 54,
   "metadata": {},
   "outputs": [],
   "source": [
    "df = pd.read_csv(\"transformed_data/1592258074.4628286-preprocessed_data.csv\", index_col=False)"
   ]
  },
  {
   "cell_type": "code",
   "execution_count": 55,
   "metadata": {},
   "outputs": [
    {
     "data": {
      "text/html": [
       "<div>\n",
       "<style scoped>\n",
       "    .dataframe tbody tr th:only-of-type {\n",
       "        vertical-align: middle;\n",
       "    }\n",
       "\n",
       "    .dataframe tbody tr th {\n",
       "        vertical-align: top;\n",
       "    }\n",
       "\n",
       "    .dataframe thead th {\n",
       "        text-align: right;\n",
       "    }\n",
       "</style>\n",
       "<table border=\"1\" class=\"dataframe\">\n",
       "  <thead>\n",
       "    <tr style=\"text-align: right;\">\n",
       "      <th></th>\n",
       "      <th>frame</th>\n",
       "      <th>subject</th>\n",
       "      <th>class_label</th>\n",
       "      <th>rEar_norm</th>\n",
       "      <th>lEar_norm</th>\n",
       "      <th>mar_norm</th>\n",
       "      <th>calc_eye_state</th>\n",
       "      <th>calc_mouth_state</th>\n",
       "      <th>perclos</th>\n",
       "      <th>microsleep_rate</th>\n",
       "      <th>yawning_rate</th>\n",
       "      <th>mean_rEar</th>\n",
       "      <th>mean_lEar</th>\n",
       "      <th>mean_mar</th>\n",
       "      <th>std_rEar</th>\n",
       "      <th>std_lEar</th>\n",
       "      <th>std_mar</th>\n",
       "    </tr>\n",
       "  </thead>\n",
       "  <tbody>\n",
       "    <tr>\n",
       "      <th>0</th>\n",
       "      <td>4484</td>\n",
       "      <td>1</td>\n",
       "      <td>0</td>\n",
       "      <td>0.522064</td>\n",
       "      <td>0.441550</td>\n",
       "      <td>0.125197</td>\n",
       "      <td>1</td>\n",
       "      <td>0</td>\n",
       "      <td>0.031452</td>\n",
       "      <td>0.0</td>\n",
       "      <td>0.0</td>\n",
       "      <td>0.29129</td>\n",
       "      <td>0.291249</td>\n",
       "      <td>0.038115</td>\n",
       "      <td>0.055507</td>\n",
       "      <td>0.055657</td>\n",
       "      <td>0.066271</td>\n",
       "    </tr>\n",
       "    <tr>\n",
       "      <th>1</th>\n",
       "      <td>4485</td>\n",
       "      <td>1</td>\n",
       "      <td>0</td>\n",
       "      <td>0.518227</td>\n",
       "      <td>0.430843</td>\n",
       "      <td>0.122614</td>\n",
       "      <td>1</td>\n",
       "      <td>0</td>\n",
       "      <td>0.031452</td>\n",
       "      <td>0.0</td>\n",
       "      <td>0.0</td>\n",
       "      <td>0.29129</td>\n",
       "      <td>0.291249</td>\n",
       "      <td>0.038115</td>\n",
       "      <td>0.055507</td>\n",
       "      <td>0.055657</td>\n",
       "      <td>0.066271</td>\n",
       "    </tr>\n",
       "    <tr>\n",
       "      <th>2</th>\n",
       "      <td>4486</td>\n",
       "      <td>1</td>\n",
       "      <td>0</td>\n",
       "      <td>0.470524</td>\n",
       "      <td>0.406359</td>\n",
       "      <td>0.118601</td>\n",
       "      <td>1</td>\n",
       "      <td>0</td>\n",
       "      <td>0.031452</td>\n",
       "      <td>0.0</td>\n",
       "      <td>0.0</td>\n",
       "      <td>0.29129</td>\n",
       "      <td>0.291249</td>\n",
       "      <td>0.038115</td>\n",
       "      <td>0.055507</td>\n",
       "      <td>0.055657</td>\n",
       "      <td>0.066271</td>\n",
       "    </tr>\n",
       "    <tr>\n",
       "      <th>3</th>\n",
       "      <td>4487</td>\n",
       "      <td>1</td>\n",
       "      <td>0</td>\n",
       "      <td>0.530129</td>\n",
       "      <td>0.420594</td>\n",
       "      <td>0.121653</td>\n",
       "      <td>1</td>\n",
       "      <td>0</td>\n",
       "      <td>0.031229</td>\n",
       "      <td>0.0</td>\n",
       "      <td>0.0</td>\n",
       "      <td>0.29129</td>\n",
       "      <td>0.291249</td>\n",
       "      <td>0.038115</td>\n",
       "      <td>0.055507</td>\n",
       "      <td>0.055657</td>\n",
       "      <td>0.066271</td>\n",
       "    </tr>\n",
       "    <tr>\n",
       "      <th>4</th>\n",
       "      <td>4488</td>\n",
       "      <td>1</td>\n",
       "      <td>0</td>\n",
       "      <td>0.501878</td>\n",
       "      <td>0.396268</td>\n",
       "      <td>0.118319</td>\n",
       "      <td>1</td>\n",
       "      <td>0</td>\n",
       "      <td>0.031229</td>\n",
       "      <td>0.0</td>\n",
       "      <td>0.0</td>\n",
       "      <td>0.29129</td>\n",
       "      <td>0.291249</td>\n",
       "      <td>0.038115</td>\n",
       "      <td>0.055507</td>\n",
       "      <td>0.055657</td>\n",
       "      <td>0.066271</td>\n",
       "    </tr>\n",
       "  </tbody>\n",
       "</table>\n",
       "</div>"
      ],
      "text/plain": [
       "   frame  subject  class_label  rEar_norm  lEar_norm  mar_norm  \\\n",
       "0   4484        1            0   0.522064   0.441550  0.125197   \n",
       "1   4485        1            0   0.518227   0.430843  0.122614   \n",
       "2   4486        1            0   0.470524   0.406359  0.118601   \n",
       "3   4487        1            0   0.530129   0.420594  0.121653   \n",
       "4   4488        1            0   0.501878   0.396268  0.118319   \n",
       "\n",
       "   calc_eye_state  calc_mouth_state   perclos  microsleep_rate  yawning_rate  \\\n",
       "0               1                 0  0.031452              0.0           0.0   \n",
       "1               1                 0  0.031452              0.0           0.0   \n",
       "2               1                 0  0.031452              0.0           0.0   \n",
       "3               1                 0  0.031229              0.0           0.0   \n",
       "4               1                 0  0.031229              0.0           0.0   \n",
       "\n",
       "   mean_rEar  mean_lEar  mean_mar  std_rEar  std_lEar   std_mar  \n",
       "0    0.29129   0.291249  0.038115  0.055507  0.055657  0.066271  \n",
       "1    0.29129   0.291249  0.038115  0.055507  0.055657  0.066271  \n",
       "2    0.29129   0.291249  0.038115  0.055507  0.055657  0.066271  \n",
       "3    0.29129   0.291249  0.038115  0.055507  0.055657  0.066271  \n",
       "4    0.29129   0.291249  0.038115  0.055507  0.055657  0.066271  "
      ]
     },
     "execution_count": 55,
     "metadata": {},
     "output_type": "execute_result"
    }
   ],
   "source": [
    "df.head()"
   ]
  },
  {
   "cell_type": "code",
   "execution_count": 56,
   "metadata": {},
   "outputs": [],
   "source": [
    "df_identical = pd.read_csv(\"transformed_data/1592258075.9017363-identical_fps-preprocessed_data.csv\", index_col=False)"
   ]
  },
  {
   "cell_type": "code",
   "execution_count": 57,
   "metadata": {},
   "outputs": [
    {
     "data": {
      "text/html": [
       "<div>\n",
       "<style scoped>\n",
       "    .dataframe tbody tr th:only-of-type {\n",
       "        vertical-align: middle;\n",
       "    }\n",
       "\n",
       "    .dataframe tbody tr th {\n",
       "        vertical-align: top;\n",
       "    }\n",
       "\n",
       "    .dataframe thead th {\n",
       "        text-align: right;\n",
       "    }\n",
       "</style>\n",
       "<table border=\"1\" class=\"dataframe\">\n",
       "  <thead>\n",
       "    <tr style=\"text-align: right;\">\n",
       "      <th></th>\n",
       "      <th>frame</th>\n",
       "      <th>subject</th>\n",
       "      <th>class_label</th>\n",
       "      <th>rEar_norm</th>\n",
       "      <th>lEar_norm</th>\n",
       "      <th>mar_norm</th>\n",
       "      <th>calc_eye_state</th>\n",
       "      <th>calc_mouth_state</th>\n",
       "      <th>perclos</th>\n",
       "      <th>microsleep_rate</th>\n",
       "      <th>yawning_rate</th>\n",
       "      <th>mean_rEar</th>\n",
       "      <th>mean_lEar</th>\n",
       "      <th>mean_mar</th>\n",
       "      <th>std_rEar</th>\n",
       "      <th>std_lEar</th>\n",
       "      <th>std_mar</th>\n",
       "    </tr>\n",
       "  </thead>\n",
       "  <tbody>\n",
       "    <tr>\n",
       "      <th>0</th>\n",
       "      <td>4321</td>\n",
       "      <td>1</td>\n",
       "      <td>0</td>\n",
       "      <td>0.493253</td>\n",
       "      <td>0.405955</td>\n",
       "      <td>0.076367</td>\n",
       "      <td>1</td>\n",
       "      <td>0</td>\n",
       "      <td>0.027778</td>\n",
       "      <td>0.0</td>\n",
       "      <td>0.0</td>\n",
       "      <td>0.29129</td>\n",
       "      <td>0.291249</td>\n",
       "      <td>0.038115</td>\n",
       "      <td>0.055507</td>\n",
       "      <td>0.055657</td>\n",
       "      <td>0.066271</td>\n",
       "    </tr>\n",
       "    <tr>\n",
       "      <th>1</th>\n",
       "      <td>4324</td>\n",
       "      <td>1</td>\n",
       "      <td>0</td>\n",
       "      <td>0.500934</td>\n",
       "      <td>0.410642</td>\n",
       "      <td>0.069909</td>\n",
       "      <td>1</td>\n",
       "      <td>0</td>\n",
       "      <td>0.027778</td>\n",
       "      <td>0.0</td>\n",
       "      <td>0.0</td>\n",
       "      <td>0.29129</td>\n",
       "      <td>0.291249</td>\n",
       "      <td>0.038115</td>\n",
       "      <td>0.055507</td>\n",
       "      <td>0.055657</td>\n",
       "      <td>0.066271</td>\n",
       "    </tr>\n",
       "    <tr>\n",
       "      <th>2</th>\n",
       "      <td>4327</td>\n",
       "      <td>1</td>\n",
       "      <td>0</td>\n",
       "      <td>0.518284</td>\n",
       "      <td>0.406638</td>\n",
       "      <td>0.081775</td>\n",
       "      <td>1</td>\n",
       "      <td>0</td>\n",
       "      <td>0.027778</td>\n",
       "      <td>0.0</td>\n",
       "      <td>0.0</td>\n",
       "      <td>0.29129</td>\n",
       "      <td>0.291249</td>\n",
       "      <td>0.038115</td>\n",
       "      <td>0.055507</td>\n",
       "      <td>0.055657</td>\n",
       "      <td>0.066271</td>\n",
       "    </tr>\n",
       "    <tr>\n",
       "      <th>3</th>\n",
       "      <td>4330</td>\n",
       "      <td>1</td>\n",
       "      <td>0</td>\n",
       "      <td>0.505704</td>\n",
       "      <td>0.395426</td>\n",
       "      <td>0.070798</td>\n",
       "      <td>1</td>\n",
       "      <td>0</td>\n",
       "      <td>0.027778</td>\n",
       "      <td>0.0</td>\n",
       "      <td>0.0</td>\n",
       "      <td>0.29129</td>\n",
       "      <td>0.291249</td>\n",
       "      <td>0.038115</td>\n",
       "      <td>0.055507</td>\n",
       "      <td>0.055657</td>\n",
       "      <td>0.066271</td>\n",
       "    </tr>\n",
       "    <tr>\n",
       "      <th>4</th>\n",
       "      <td>4333</td>\n",
       "      <td>1</td>\n",
       "      <td>0</td>\n",
       "      <td>0.493350</td>\n",
       "      <td>0.389041</td>\n",
       "      <td>0.070185</td>\n",
       "      <td>1</td>\n",
       "      <td>0</td>\n",
       "      <td>0.027778</td>\n",
       "      <td>0.0</td>\n",
       "      <td>0.0</td>\n",
       "      <td>0.29129</td>\n",
       "      <td>0.291249</td>\n",
       "      <td>0.038115</td>\n",
       "      <td>0.055507</td>\n",
       "      <td>0.055657</td>\n",
       "      <td>0.066271</td>\n",
       "    </tr>\n",
       "  </tbody>\n",
       "</table>\n",
       "</div>"
      ],
      "text/plain": [
       "   frame  subject  class_label  rEar_norm  lEar_norm  mar_norm  \\\n",
       "0   4321        1            0   0.493253   0.405955  0.076367   \n",
       "1   4324        1            0   0.500934   0.410642  0.069909   \n",
       "2   4327        1            0   0.518284   0.406638  0.081775   \n",
       "3   4330        1            0   0.505704   0.395426  0.070798   \n",
       "4   4333        1            0   0.493350   0.389041  0.070185   \n",
       "\n",
       "   calc_eye_state  calc_mouth_state   perclos  microsleep_rate  yawning_rate  \\\n",
       "0               1                 0  0.027778              0.0           0.0   \n",
       "1               1                 0  0.027778              0.0           0.0   \n",
       "2               1                 0  0.027778              0.0           0.0   \n",
       "3               1                 0  0.027778              0.0           0.0   \n",
       "4               1                 0  0.027778              0.0           0.0   \n",
       "\n",
       "   mean_rEar  mean_lEar  mean_mar  std_rEar  std_lEar   std_mar  \n",
       "0    0.29129   0.291249  0.038115  0.055507  0.055657  0.066271  \n",
       "1    0.29129   0.291249  0.038115  0.055507  0.055657  0.066271  \n",
       "2    0.29129   0.291249  0.038115  0.055507  0.055657  0.066271  \n",
       "3    0.29129   0.291249  0.038115  0.055507  0.055657  0.066271  \n",
       "4    0.29129   0.291249  0.038115  0.055507  0.055657  0.066271  "
      ]
     },
     "execution_count": 57,
     "metadata": {},
     "output_type": "execute_result"
    }
   ],
   "source": [
    "df_identical.head()"
   ]
  },
  {
   "cell_type": "markdown",
   "metadata": {},
   "source": [
    "## Balancing Data"
   ]
  },
  {
   "cell_type": "markdown",
   "metadata": {},
   "source": [
    "Balance both original fps and identical fps data so that **for each subject has the same amount of data class 0 and class 1**"
   ]
  },
  {
   "cell_type": "markdown",
   "metadata": {},
   "source": [
    "#### get fps info"
   ]
  },
  {
   "cell_type": "code",
   "execution_count": 58,
   "metadata": {},
   "outputs": [],
   "source": [
    "FPS_PATH = \"D:/datasets/ngantuk/fps_info.txt\""
   ]
  },
  {
   "cell_type": "code",
   "execution_count": 59,
   "metadata": {},
   "outputs": [
    {
     "data": {
      "text/html": [
       "<div>\n",
       "<style scoped>\n",
       "    .dataframe tbody tr th:only-of-type {\n",
       "        vertical-align: middle;\n",
       "    }\n",
       "\n",
       "    .dataframe tbody tr th {\n",
       "        vertical-align: top;\n",
       "    }\n",
       "\n",
       "    .dataframe thead th {\n",
       "        text-align: right;\n",
       "    }\n",
       "</style>\n",
       "<table border=\"1\" class=\"dataframe\">\n",
       "  <thead>\n",
       "    <tr style=\"text-align: right;\">\n",
       "      <th></th>\n",
       "      <th>subject</th>\n",
       "      <th>class_label</th>\n",
       "      <th>fps</th>\n",
       "    </tr>\n",
       "  </thead>\n",
       "  <tbody>\n",
       "    <tr>\n",
       "      <th>0</th>\n",
       "      <td>1</td>\n",
       "      <td>0</td>\n",
       "      <td>24.91</td>\n",
       "    </tr>\n",
       "    <tr>\n",
       "      <th>1</th>\n",
       "      <td>1</td>\n",
       "      <td>1</td>\n",
       "      <td>24.91</td>\n",
       "    </tr>\n",
       "    <tr>\n",
       "      <th>2</th>\n",
       "      <td>2</td>\n",
       "      <td>0</td>\n",
       "      <td>30.00</td>\n",
       "    </tr>\n",
       "    <tr>\n",
       "      <th>3</th>\n",
       "      <td>2</td>\n",
       "      <td>1</td>\n",
       "      <td>30.00</td>\n",
       "    </tr>\n",
       "    <tr>\n",
       "      <th>4</th>\n",
       "      <td>3</td>\n",
       "      <td>0</td>\n",
       "      <td>30.03</td>\n",
       "    </tr>\n",
       "  </tbody>\n",
       "</table>\n",
       "</div>"
      ],
      "text/plain": [
       "   subject  class_label    fps\n",
       "0        1            0  24.91\n",
       "1        1            1  24.91\n",
       "2        2            0  30.00\n",
       "3        2            1  30.00\n",
       "4        3            0  30.03"
      ]
     },
     "execution_count": 59,
     "metadata": {},
     "output_type": "execute_result"
    }
   ],
   "source": [
    "df_fps = pd.read_csv(FPS_PATH, names=['subject','class_label','fps'], delimiter=';', index_col=False)\n",
    "df_fps.head()"
   ]
  },
  {
   "cell_type": "markdown",
   "metadata": {},
   "source": [
    "Get data **just for the first 2 minutes**"
   ]
  },
  {
   "cell_type": "code",
   "execution_count": 60,
   "metadata": {},
   "outputs": [],
   "source": [
    "MINUTES_LENGTH = 2"
   ]
  },
  {
   "cell_type": "markdown",
   "metadata": {},
   "source": [
    "#### normal data"
   ]
  },
  {
   "cell_type": "code",
   "execution_count": 61,
   "metadata": {},
   "outputs": [],
   "source": [
    "dfs_balanced = []"
   ]
  },
  {
   "cell_type": "code",
   "execution_count": 62,
   "metadata": {},
   "outputs": [],
   "source": [
    "for subject, df_subject in df.groupby('subject'):\n",
    "    min_fps = min(df_fps.loc[(df_fps['subject'] == subject)]['fps'].values)\n",
    "    window_size = int(min_fps * 60 * MINUTES_LENGTH) + 1\n",
    "    for class_label, df_class in df_subject.groupby('class_label'):\n",
    "        _df = pd.DataFrame(df_class).reset_index(drop=True)\n",
    "        dfs_balanced.append(_df.iloc[:window_size])"
   ]
  },
  {
   "cell_type": "code",
   "execution_count": 63,
   "metadata": {},
   "outputs": [],
   "source": [
    "df_balanced = pd.concat(dfs_balanced)"
   ]
  },
  {
   "cell_type": "code",
   "execution_count": 64,
   "metadata": {},
   "outputs": [
    {
     "data": {
      "text/html": [
       "<div>\n",
       "<style scoped>\n",
       "    .dataframe tbody tr th:only-of-type {\n",
       "        vertical-align: middle;\n",
       "    }\n",
       "\n",
       "    .dataframe tbody tr th {\n",
       "        vertical-align: top;\n",
       "    }\n",
       "\n",
       "    .dataframe thead th {\n",
       "        text-align: right;\n",
       "    }\n",
       "</style>\n",
       "<table border=\"1\" class=\"dataframe\">\n",
       "  <thead>\n",
       "    <tr style=\"text-align: right;\">\n",
       "      <th></th>\n",
       "      <th>frame</th>\n",
       "      <th>subject</th>\n",
       "      <th>class_label</th>\n",
       "      <th>rEar_norm</th>\n",
       "      <th>lEar_norm</th>\n",
       "      <th>mar_norm</th>\n",
       "      <th>calc_eye_state</th>\n",
       "      <th>calc_mouth_state</th>\n",
       "      <th>perclos</th>\n",
       "      <th>microsleep_rate</th>\n",
       "      <th>yawning_rate</th>\n",
       "      <th>mean_rEar</th>\n",
       "      <th>mean_lEar</th>\n",
       "      <th>mean_mar</th>\n",
       "      <th>std_rEar</th>\n",
       "      <th>std_lEar</th>\n",
       "      <th>std_mar</th>\n",
       "    </tr>\n",
       "  </thead>\n",
       "  <tbody>\n",
       "    <tr>\n",
       "      <th>0</th>\n",
       "      <td>4484</td>\n",
       "      <td>1</td>\n",
       "      <td>0</td>\n",
       "      <td>0.522064</td>\n",
       "      <td>0.441550</td>\n",
       "      <td>0.125197</td>\n",
       "      <td>1</td>\n",
       "      <td>0</td>\n",
       "      <td>0.031452</td>\n",
       "      <td>0.0</td>\n",
       "      <td>0.0</td>\n",
       "      <td>0.29129</td>\n",
       "      <td>0.291249</td>\n",
       "      <td>0.038115</td>\n",
       "      <td>0.055507</td>\n",
       "      <td>0.055657</td>\n",
       "      <td>0.066271</td>\n",
       "    </tr>\n",
       "    <tr>\n",
       "      <th>1</th>\n",
       "      <td>4485</td>\n",
       "      <td>1</td>\n",
       "      <td>0</td>\n",
       "      <td>0.518227</td>\n",
       "      <td>0.430843</td>\n",
       "      <td>0.122614</td>\n",
       "      <td>1</td>\n",
       "      <td>0</td>\n",
       "      <td>0.031452</td>\n",
       "      <td>0.0</td>\n",
       "      <td>0.0</td>\n",
       "      <td>0.29129</td>\n",
       "      <td>0.291249</td>\n",
       "      <td>0.038115</td>\n",
       "      <td>0.055507</td>\n",
       "      <td>0.055657</td>\n",
       "      <td>0.066271</td>\n",
       "    </tr>\n",
       "    <tr>\n",
       "      <th>2</th>\n",
       "      <td>4486</td>\n",
       "      <td>1</td>\n",
       "      <td>0</td>\n",
       "      <td>0.470524</td>\n",
       "      <td>0.406359</td>\n",
       "      <td>0.118601</td>\n",
       "      <td>1</td>\n",
       "      <td>0</td>\n",
       "      <td>0.031452</td>\n",
       "      <td>0.0</td>\n",
       "      <td>0.0</td>\n",
       "      <td>0.29129</td>\n",
       "      <td>0.291249</td>\n",
       "      <td>0.038115</td>\n",
       "      <td>0.055507</td>\n",
       "      <td>0.055657</td>\n",
       "      <td>0.066271</td>\n",
       "    </tr>\n",
       "    <tr>\n",
       "      <th>3</th>\n",
       "      <td>4487</td>\n",
       "      <td>1</td>\n",
       "      <td>0</td>\n",
       "      <td>0.530129</td>\n",
       "      <td>0.420594</td>\n",
       "      <td>0.121653</td>\n",
       "      <td>1</td>\n",
       "      <td>0</td>\n",
       "      <td>0.031229</td>\n",
       "      <td>0.0</td>\n",
       "      <td>0.0</td>\n",
       "      <td>0.29129</td>\n",
       "      <td>0.291249</td>\n",
       "      <td>0.038115</td>\n",
       "      <td>0.055507</td>\n",
       "      <td>0.055657</td>\n",
       "      <td>0.066271</td>\n",
       "    </tr>\n",
       "    <tr>\n",
       "      <th>4</th>\n",
       "      <td>4488</td>\n",
       "      <td>1</td>\n",
       "      <td>0</td>\n",
       "      <td>0.501878</td>\n",
       "      <td>0.396268</td>\n",
       "      <td>0.118319</td>\n",
       "      <td>1</td>\n",
       "      <td>0</td>\n",
       "      <td>0.031229</td>\n",
       "      <td>0.0</td>\n",
       "      <td>0.0</td>\n",
       "      <td>0.29129</td>\n",
       "      <td>0.291249</td>\n",
       "      <td>0.038115</td>\n",
       "      <td>0.055507</td>\n",
       "      <td>0.055657</td>\n",
       "      <td>0.066271</td>\n",
       "    </tr>\n",
       "  </tbody>\n",
       "</table>\n",
       "</div>"
      ],
      "text/plain": [
       "   frame  subject  class_label  rEar_norm  lEar_norm  mar_norm  \\\n",
       "0   4484        1            0   0.522064   0.441550  0.125197   \n",
       "1   4485        1            0   0.518227   0.430843  0.122614   \n",
       "2   4486        1            0   0.470524   0.406359  0.118601   \n",
       "3   4487        1            0   0.530129   0.420594  0.121653   \n",
       "4   4488        1            0   0.501878   0.396268  0.118319   \n",
       "\n",
       "   calc_eye_state  calc_mouth_state   perclos  microsleep_rate  yawning_rate  \\\n",
       "0               1                 0  0.031452              0.0           0.0   \n",
       "1               1                 0  0.031452              0.0           0.0   \n",
       "2               1                 0  0.031452              0.0           0.0   \n",
       "3               1                 0  0.031229              0.0           0.0   \n",
       "4               1                 0  0.031229              0.0           0.0   \n",
       "\n",
       "   mean_rEar  mean_lEar  mean_mar  std_rEar  std_lEar   std_mar  \n",
       "0    0.29129   0.291249  0.038115  0.055507  0.055657  0.066271  \n",
       "1    0.29129   0.291249  0.038115  0.055507  0.055657  0.066271  \n",
       "2    0.29129   0.291249  0.038115  0.055507  0.055657  0.066271  \n",
       "3    0.29129   0.291249  0.038115  0.055507  0.055657  0.066271  \n",
       "4    0.29129   0.291249  0.038115  0.055507  0.055657  0.066271  "
      ]
     },
     "execution_count": 64,
     "metadata": {},
     "output_type": "execute_result"
    }
   ],
   "source": [
    "df_balanced.head()"
   ]
  },
  {
   "cell_type": "code",
   "execution_count": 66,
   "metadata": {},
   "outputs": [
    {
     "data": {
      "text/plain": [
       "class_label\n",
       "0    28267\n",
       "1    28267\n",
       "Name: frame, dtype: int64"
      ]
     },
     "execution_count": 66,
     "metadata": {},
     "output_type": "execute_result"
    }
   ],
   "source": [
    "df_balanced.groupby('class_label').count()['frame']"
   ]
  },
  {
   "cell_type": "markdown",
   "metadata": {},
   "source": [
    "#### fps identical data"
   ]
  },
  {
   "cell_type": "code",
   "execution_count": 67,
   "metadata": {},
   "outputs": [],
   "source": [
    "dfs_identical_balanced = []"
   ]
  },
  {
   "cell_type": "code",
   "execution_count": 68,
   "metadata": {},
   "outputs": [],
   "source": [
    "FPS = 8\n",
    "WINDOW_SIZE = int(FPS * 60 * MINUTES_LENGTH) + 1"
   ]
  },
  {
   "cell_type": "code",
   "execution_count": 69,
   "metadata": {},
   "outputs": [],
   "source": [
    "for subject, df_subject in df_identical.groupby('subject'):\n",
    "    for class_label, df_class in df_subject.groupby('class_label'):\n",
    "        _df = pd.DataFrame(df_class).reset_index(drop=True)\n",
    "        dfs_identical_balanced.append(_df.iloc[:WINDOW_SIZE])"
   ]
  },
  {
   "cell_type": "code",
   "execution_count": 70,
   "metadata": {},
   "outputs": [],
   "source": [
    "df_identical_balanced = pd.concat(dfs_identical_balanced)"
   ]
  },
  {
   "cell_type": "code",
   "execution_count": 71,
   "metadata": {},
   "outputs": [
    {
     "data": {
      "text/html": [
       "<div>\n",
       "<style scoped>\n",
       "    .dataframe tbody tr th:only-of-type {\n",
       "        vertical-align: middle;\n",
       "    }\n",
       "\n",
       "    .dataframe tbody tr th {\n",
       "        vertical-align: top;\n",
       "    }\n",
       "\n",
       "    .dataframe thead th {\n",
       "        text-align: right;\n",
       "    }\n",
       "</style>\n",
       "<table border=\"1\" class=\"dataframe\">\n",
       "  <thead>\n",
       "    <tr style=\"text-align: right;\">\n",
       "      <th></th>\n",
       "      <th>frame</th>\n",
       "      <th>subject</th>\n",
       "      <th>class_label</th>\n",
       "      <th>rEar_norm</th>\n",
       "      <th>lEar_norm</th>\n",
       "      <th>mar_norm</th>\n",
       "      <th>calc_eye_state</th>\n",
       "      <th>calc_mouth_state</th>\n",
       "      <th>perclos</th>\n",
       "      <th>microsleep_rate</th>\n",
       "      <th>yawning_rate</th>\n",
       "      <th>mean_rEar</th>\n",
       "      <th>mean_lEar</th>\n",
       "      <th>mean_mar</th>\n",
       "      <th>std_rEar</th>\n",
       "      <th>std_lEar</th>\n",
       "      <th>std_mar</th>\n",
       "    </tr>\n",
       "  </thead>\n",
       "  <tbody>\n",
       "    <tr>\n",
       "      <th>0</th>\n",
       "      <td>4321</td>\n",
       "      <td>1</td>\n",
       "      <td>0</td>\n",
       "      <td>0.493253</td>\n",
       "      <td>0.405955</td>\n",
       "      <td>0.076367</td>\n",
       "      <td>1</td>\n",
       "      <td>0</td>\n",
       "      <td>0.027778</td>\n",
       "      <td>0.0</td>\n",
       "      <td>0.0</td>\n",
       "      <td>0.29129</td>\n",
       "      <td>0.291249</td>\n",
       "      <td>0.038115</td>\n",
       "      <td>0.055507</td>\n",
       "      <td>0.055657</td>\n",
       "      <td>0.066271</td>\n",
       "    </tr>\n",
       "    <tr>\n",
       "      <th>1</th>\n",
       "      <td>4324</td>\n",
       "      <td>1</td>\n",
       "      <td>0</td>\n",
       "      <td>0.500934</td>\n",
       "      <td>0.410642</td>\n",
       "      <td>0.069909</td>\n",
       "      <td>1</td>\n",
       "      <td>0</td>\n",
       "      <td>0.027778</td>\n",
       "      <td>0.0</td>\n",
       "      <td>0.0</td>\n",
       "      <td>0.29129</td>\n",
       "      <td>0.291249</td>\n",
       "      <td>0.038115</td>\n",
       "      <td>0.055507</td>\n",
       "      <td>0.055657</td>\n",
       "      <td>0.066271</td>\n",
       "    </tr>\n",
       "    <tr>\n",
       "      <th>2</th>\n",
       "      <td>4327</td>\n",
       "      <td>1</td>\n",
       "      <td>0</td>\n",
       "      <td>0.518284</td>\n",
       "      <td>0.406638</td>\n",
       "      <td>0.081775</td>\n",
       "      <td>1</td>\n",
       "      <td>0</td>\n",
       "      <td>0.027778</td>\n",
       "      <td>0.0</td>\n",
       "      <td>0.0</td>\n",
       "      <td>0.29129</td>\n",
       "      <td>0.291249</td>\n",
       "      <td>0.038115</td>\n",
       "      <td>0.055507</td>\n",
       "      <td>0.055657</td>\n",
       "      <td>0.066271</td>\n",
       "    </tr>\n",
       "    <tr>\n",
       "      <th>3</th>\n",
       "      <td>4330</td>\n",
       "      <td>1</td>\n",
       "      <td>0</td>\n",
       "      <td>0.505704</td>\n",
       "      <td>0.395426</td>\n",
       "      <td>0.070798</td>\n",
       "      <td>1</td>\n",
       "      <td>0</td>\n",
       "      <td>0.027778</td>\n",
       "      <td>0.0</td>\n",
       "      <td>0.0</td>\n",
       "      <td>0.29129</td>\n",
       "      <td>0.291249</td>\n",
       "      <td>0.038115</td>\n",
       "      <td>0.055507</td>\n",
       "      <td>0.055657</td>\n",
       "      <td>0.066271</td>\n",
       "    </tr>\n",
       "    <tr>\n",
       "      <th>4</th>\n",
       "      <td>4333</td>\n",
       "      <td>1</td>\n",
       "      <td>0</td>\n",
       "      <td>0.493350</td>\n",
       "      <td>0.389041</td>\n",
       "      <td>0.070185</td>\n",
       "      <td>1</td>\n",
       "      <td>0</td>\n",
       "      <td>0.027778</td>\n",
       "      <td>0.0</td>\n",
       "      <td>0.0</td>\n",
       "      <td>0.29129</td>\n",
       "      <td>0.291249</td>\n",
       "      <td>0.038115</td>\n",
       "      <td>0.055507</td>\n",
       "      <td>0.055657</td>\n",
       "      <td>0.066271</td>\n",
       "    </tr>\n",
       "  </tbody>\n",
       "</table>\n",
       "</div>"
      ],
      "text/plain": [
       "   frame  subject  class_label  rEar_norm  lEar_norm  mar_norm  \\\n",
       "0   4321        1            0   0.493253   0.405955  0.076367   \n",
       "1   4324        1            0   0.500934   0.410642  0.069909   \n",
       "2   4327        1            0   0.518284   0.406638  0.081775   \n",
       "3   4330        1            0   0.505704   0.395426  0.070798   \n",
       "4   4333        1            0   0.493350   0.389041  0.070185   \n",
       "\n",
       "   calc_eye_state  calc_mouth_state   perclos  microsleep_rate  yawning_rate  \\\n",
       "0               1                 0  0.027778              0.0           0.0   \n",
       "1               1                 0  0.027778              0.0           0.0   \n",
       "2               1                 0  0.027778              0.0           0.0   \n",
       "3               1                 0  0.027778              0.0           0.0   \n",
       "4               1                 0  0.027778              0.0           0.0   \n",
       "\n",
       "   mean_rEar  mean_lEar  mean_mar  std_rEar  std_lEar   std_mar  \n",
       "0    0.29129   0.291249  0.038115  0.055507  0.055657  0.066271  \n",
       "1    0.29129   0.291249  0.038115  0.055507  0.055657  0.066271  \n",
       "2    0.29129   0.291249  0.038115  0.055507  0.055657  0.066271  \n",
       "3    0.29129   0.291249  0.038115  0.055507  0.055657  0.066271  \n",
       "4    0.29129   0.291249  0.038115  0.055507  0.055657  0.066271  "
      ]
     },
     "execution_count": 71,
     "metadata": {},
     "output_type": "execute_result"
    }
   ],
   "source": [
    "df_identical_balanced.head()"
   ]
  },
  {
   "cell_type": "code",
   "execution_count": 72,
   "metadata": {},
   "outputs": [
    {
     "data": {
      "text/plain": [
       "class_label\n",
       "0    9610\n",
       "1    9610\n",
       "Name: frame, dtype: int64"
      ]
     },
     "execution_count": 72,
     "metadata": {},
     "output_type": "execute_result"
    }
   ],
   "source": [
    "df_identical_balanced.groupby('class_label').count()['frame']"
   ]
  },
  {
   "cell_type": "markdown",
   "metadata": {},
   "source": [
    "#### visualize balanced normal data"
   ]
  },
  {
   "cell_type": "code",
   "execution_count": 73,
   "metadata": {},
   "outputs": [],
   "source": [
    "df_balanced_count = df_balanced.groupby(['subject','class_label']).count().reset_index()"
   ]
  },
  {
   "cell_type": "code",
   "execution_count": 74,
   "metadata": {},
   "outputs": [
    {
     "data": {
      "text/plain": [
       "<matplotlib.axes._subplots.AxesSubplot at 0x1e16370f788>"
      ]
     },
     "execution_count": 74,
     "metadata": {},
     "output_type": "execute_result"
    },
    {
     "data": {
      "image/png": "[encoded data removed]",
      "text/plain": [
       "<Figure size 432x288 with 1 Axes>"
      ]
     },
     "metadata": {
      "needs_background": "light"
     },
     "output_type": "display_data"
    }
   ],
   "source": [
    "sns.barplot(x='subject',y='frame',data=df_balanced_count,hue='class_label')"
   ]
  },
  {
   "cell_type": "markdown",
   "metadata": {},
   "source": [
    "#### visualize balanced identical fps data"
   ]
  },
  {
   "cell_type": "code",
   "execution_count": 75,
   "metadata": {},
   "outputs": [],
   "source": [
    "df_identical_balanced_count = df_identical_balanced.groupby(['subject','class_label']).count().reset_index()"
   ]
  },
  {
   "cell_type": "code",
   "execution_count": 76,
   "metadata": {},
   "outputs": [
    {
     "data": {
      "text/plain": [
       "<matplotlib.axes._subplots.AxesSubplot at 0x1e129363fc8>"
      ]
     },
     "execution_count": 76,
     "metadata": {},
     "output_type": "execute_result"
    },
    {
     "data": {
      "image/png": "[encoded data removed]",
      "text/plain": [
       "<Figure size 432x288 with 1 Axes>"
      ]
     },
     "metadata": {
      "needs_background": "light"
     },
     "output_type": "display_data"
    }
   ],
   "source": [
    "sns.barplot(x='subject',y='frame',data=df_identical_balanced_count,hue='class_label')"
   ]
  },
  {
   "cell_type": "markdown",
   "metadata": {},
   "source": [
    "## Data Preparation for ANN"
   ]
  },
  {
   "cell_type": "markdown",
   "metadata": {},
   "source": [
    "#### get data"
   ]
  },
  {
   "cell_type": "code",
   "execution_count": 77,
   "metadata": {},
   "outputs": [],
   "source": [
    "df_ann = df_balanced[df_balanced.columns[2:]]"
   ]
  },
  {
   "cell_type": "code",
   "execution_count": 78,
   "metadata": {},
   "outputs": [
    {
     "data": {
      "text/html": [
       "<div>\n",
       "<style scoped>\n",
       "    .dataframe tbody tr th:only-of-type {\n",
       "        vertical-align: middle;\n",
       "    }\n",
       "\n",
       "    .dataframe tbody tr th {\n",
       "        vertical-align: top;\n",
       "    }\n",
       "\n",
       "    .dataframe thead th {\n",
       "        text-align: right;\n",
       "    }\n",
       "</style>\n",
       "<table border=\"1\" class=\"dataframe\">\n",
       "  <thead>\n",
       "    <tr style=\"text-align: right;\">\n",
       "      <th></th>\n",
       "      <th>class_label</th>\n",
       "      <th>rEar_norm</th>\n",
       "      <th>lEar_norm</th>\n",
       "      <th>mar_norm</th>\n",
       "      <th>calc_eye_state</th>\n",
       "      <th>calc_mouth_state</th>\n",
       "      <th>perclos</th>\n",
       "      <th>microsleep_rate</th>\n",
       "      <th>yawning_rate</th>\n",
       "      <th>mean_rEar</th>\n",
       "      <th>mean_lEar</th>\n",
       "      <th>mean_mar</th>\n",
       "      <th>std_rEar</th>\n",
       "      <th>std_lEar</th>\n",
       "      <th>std_mar</th>\n",
       "    </tr>\n",
       "  </thead>\n",
       "  <tbody>\n",
       "    <tr>\n",
       "      <th>0</th>\n",
       "      <td>0</td>\n",
       "      <td>0.522064</td>\n",
       "      <td>0.441550</td>\n",
       "      <td>0.125197</td>\n",
       "      <td>1</td>\n",
       "      <td>0</td>\n",
       "      <td>0.031452</td>\n",
       "      <td>0.0</td>\n",
       "      <td>0.0</td>\n",
       "      <td>0.29129</td>\n",
       "      <td>0.291249</td>\n",
       "      <td>0.038115</td>\n",
       "      <td>0.055507</td>\n",
       "      <td>0.055657</td>\n",
       "      <td>0.066271</td>\n",
       "    </tr>\n",
       "    <tr>\n",
       "      <th>1</th>\n",
       "      <td>0</td>\n",
       "      <td>0.518227</td>\n",
       "      <td>0.430843</td>\n",
       "      <td>0.122614</td>\n",
       "      <td>1</td>\n",
       "      <td>0</td>\n",
       "      <td>0.031452</td>\n",
       "      <td>0.0</td>\n",
       "      <td>0.0</td>\n",
       "      <td>0.29129</td>\n",
       "      <td>0.291249</td>\n",
       "      <td>0.038115</td>\n",
       "      <td>0.055507</td>\n",
       "      <td>0.055657</td>\n",
       "      <td>0.066271</td>\n",
       "    </tr>\n",
       "    <tr>\n",
       "      <th>2</th>\n",
       "      <td>0</td>\n",
       "      <td>0.470524</td>\n",
       "      <td>0.406359</td>\n",
       "      <td>0.118601</td>\n",
       "      <td>1</td>\n",
       "      <td>0</td>\n",
       "      <td>0.031452</td>\n",
       "      <td>0.0</td>\n",
       "      <td>0.0</td>\n",
       "      <td>0.29129</td>\n",
       "      <td>0.291249</td>\n",
       "      <td>0.038115</td>\n",
       "      <td>0.055507</td>\n",
       "      <td>0.055657</td>\n",
       "      <td>0.066271</td>\n",
       "    </tr>\n",
       "    <tr>\n",
       "      <th>3</th>\n",
       "      <td>0</td>\n",
       "      <td>0.530129</td>\n",
       "      <td>0.420594</td>\n",
       "      <td>0.121653</td>\n",
       "      <td>1</td>\n",
       "      <td>0</td>\n",
       "      <td>0.031229</td>\n",
       "      <td>0.0</td>\n",
       "      <td>0.0</td>\n",
       "      <td>0.29129</td>\n",
       "      <td>0.291249</td>\n",
       "      <td>0.038115</td>\n",
       "      <td>0.055507</td>\n",
       "      <td>0.055657</td>\n",
       "      <td>0.066271</td>\n",
       "    </tr>\n",
       "    <tr>\n",
       "      <th>4</th>\n",
       "      <td>0</td>\n",
       "      <td>0.501878</td>\n",
       "      <td>0.396268</td>\n",
       "      <td>0.118319</td>\n",
       "      <td>1</td>\n",
       "      <td>0</td>\n",
       "      <td>0.031229</td>\n",
       "      <td>0.0</td>\n",
       "      <td>0.0</td>\n",
       "      <td>0.29129</td>\n",
       "      <td>0.291249</td>\n",
       "      <td>0.038115</td>\n",
       "      <td>0.055507</td>\n",
       "      <td>0.055657</td>\n",
       "      <td>0.066271</td>\n",
       "    </tr>\n",
       "  </tbody>\n",
       "</table>\n",
       "</div>"
      ],
      "text/plain": [
       "   class_label  rEar_norm  lEar_norm  mar_norm  calc_eye_state  \\\n",
       "0            0   0.522064   0.441550  0.125197               1   \n",
       "1            0   0.518227   0.430843  0.122614               1   \n",
       "2            0   0.470524   0.406359  0.118601               1   \n",
       "3            0   0.530129   0.420594  0.121653               1   \n",
       "4            0   0.501878   0.396268  0.118319               1   \n",
       "\n",
       "   calc_mouth_state   perclos  microsleep_rate  yawning_rate  mean_rEar  \\\n",
       "0                 0  0.031452              0.0           0.0    0.29129   \n",
       "1                 0  0.031452              0.0           0.0    0.29129   \n",
       "2                 0  0.031452              0.0           0.0    0.29129   \n",
       "3                 0  0.031229              0.0           0.0    0.29129   \n",
       "4                 0  0.031229              0.0           0.0    0.29129   \n",
       "\n",
       "   mean_lEar  mean_mar  std_rEar  std_lEar   std_mar  \n",
       "0   0.291249  0.038115  0.055507  0.055657  0.066271  \n",
       "1   0.291249  0.038115  0.055507  0.055657  0.066271  \n",
       "2   0.291249  0.038115  0.055507  0.055657  0.066271  \n",
       "3   0.291249  0.038115  0.055507  0.055657  0.066271  \n",
       "4   0.291249  0.038115  0.055507  0.055657  0.066271  "
      ]
     },
     "execution_count": 78,
     "metadata": {},
     "output_type": "execute_result"
    }
   ],
   "source": [
    "df_ann.head()"
   ]
  },
  {
   "cell_type": "markdown",
   "metadata": {},
   "source": [
    "#### shuffle data"
   ]
  },
  {
   "cell_type": "code",
   "execution_count": 79,
   "metadata": {},
   "outputs": [],
   "source": [
    "df_ann = df_ann.sample(frac=1).reset_index(drop=True)"
   ]
  },
  {
   "cell_type": "code",
   "execution_count": 80,
   "metadata": {},
   "outputs": [
    {
     "data": {
      "text/html": [
       "<div>\n",
       "<style scoped>\n",
       "    .dataframe tbody tr th:only-of-type {\n",
       "        vertical-align: middle;\n",
       "    }\n",
       "\n",
       "    .dataframe tbody tr th {\n",
       "        vertical-align: top;\n",
       "    }\n",
       "\n",
       "    .dataframe thead th {\n",
       "        text-align: right;\n",
       "    }\n",
       "</style>\n",
       "<table border=\"1\" class=\"dataframe\">\n",
       "  <thead>\n",
       "    <tr style=\"text-align: right;\">\n",
       "      <th></th>\n",
       "      <th>class_label</th>\n",
       "      <th>rEar_norm</th>\n",
       "      <th>lEar_norm</th>\n",
       "      <th>mar_norm</th>\n",
       "      <th>calc_eye_state</th>\n",
       "      <th>calc_mouth_state</th>\n",
       "      <th>perclos</th>\n",
       "      <th>microsleep_rate</th>\n",
       "      <th>yawning_rate</th>\n",
       "      <th>mean_rEar</th>\n",
       "      <th>mean_lEar</th>\n",
       "      <th>mean_mar</th>\n",
       "      <th>std_rEar</th>\n",
       "      <th>std_lEar</th>\n",
       "      <th>std_mar</th>\n",
       "    </tr>\n",
       "  </thead>\n",
       "  <tbody>\n",
       "    <tr>\n",
       "      <th>0</th>\n",
       "      <td>1</td>\n",
       "      <td>0.464136</td>\n",
       "      <td>0.342630</td>\n",
       "      <td>0.120449</td>\n",
       "      <td>1</td>\n",
       "      <td>0</td>\n",
       "      <td>0.157222</td>\n",
       "      <td>0.005556</td>\n",
       "      <td>0.0</td>\n",
       "      <td>0.331725</td>\n",
       "      <td>0.365555</td>\n",
       "      <td>0.025425</td>\n",
       "      <td>0.029387</td>\n",
       "      <td>0.030480</td>\n",
       "      <td>0.008728</td>\n",
       "    </tr>\n",
       "    <tr>\n",
       "      <th>1</th>\n",
       "      <td>0</td>\n",
       "      <td>0.491711</td>\n",
       "      <td>0.387698</td>\n",
       "      <td>0.055279</td>\n",
       "      <td>1</td>\n",
       "      <td>0</td>\n",
       "      <td>0.037037</td>\n",
       "      <td>0.000000</td>\n",
       "      <td>0.0</td>\n",
       "      <td>0.331725</td>\n",
       "      <td>0.365555</td>\n",
       "      <td>0.025425</td>\n",
       "      <td>0.029387</td>\n",
       "      <td>0.030480</td>\n",
       "      <td>0.008728</td>\n",
       "    </tr>\n",
       "    <tr>\n",
       "      <th>2</th>\n",
       "      <td>0</td>\n",
       "      <td>0.422263</td>\n",
       "      <td>0.378843</td>\n",
       "      <td>0.070812</td>\n",
       "      <td>1</td>\n",
       "      <td>0</td>\n",
       "      <td>0.023867</td>\n",
       "      <td>0.000000</td>\n",
       "      <td>0.0</td>\n",
       "      <td>0.298865</td>\n",
       "      <td>0.293354</td>\n",
       "      <td>0.080800</td>\n",
       "      <td>0.069526</td>\n",
       "      <td>0.067990</td>\n",
       "      <td>0.131152</td>\n",
       "    </tr>\n",
       "    <tr>\n",
       "      <th>3</th>\n",
       "      <td>1</td>\n",
       "      <td>0.491918</td>\n",
       "      <td>0.392713</td>\n",
       "      <td>0.062029</td>\n",
       "      <td>1</td>\n",
       "      <td>0</td>\n",
       "      <td>0.177593</td>\n",
       "      <td>0.000000</td>\n",
       "      <td>0.0</td>\n",
       "      <td>0.331725</td>\n",
       "      <td>0.365555</td>\n",
       "      <td>0.025425</td>\n",
       "      <td>0.029387</td>\n",
       "      <td>0.030480</td>\n",
       "      <td>0.008728</td>\n",
       "    </tr>\n",
       "    <tr>\n",
       "      <th>4</th>\n",
       "      <td>1</td>\n",
       "      <td>0.497545</td>\n",
       "      <td>0.416607</td>\n",
       "      <td>0.062938</td>\n",
       "      <td>1</td>\n",
       "      <td>0</td>\n",
       "      <td>0.138804</td>\n",
       "      <td>0.000000</td>\n",
       "      <td>0.0</td>\n",
       "      <td>0.255562</td>\n",
       "      <td>0.297604</td>\n",
       "      <td>0.037324</td>\n",
       "      <td>0.031327</td>\n",
       "      <td>0.037948</td>\n",
       "      <td>0.030768</td>\n",
       "    </tr>\n",
       "  </tbody>\n",
       "</table>\n",
       "</div>"
      ],
      "text/plain": [
       "   class_label  rEar_norm  lEar_norm  mar_norm  calc_eye_state  \\\n",
       "0            1   0.464136   0.342630  0.120449               1   \n",
       "1            0   0.491711   0.387698  0.055279               1   \n",
       "2            0   0.422263   0.378843  0.070812               1   \n",
       "3            1   0.491918   0.392713  0.062029               1   \n",
       "4            1   0.497545   0.416607  0.062938               1   \n",
       "\n",
       "   calc_mouth_state   perclos  microsleep_rate  yawning_rate  mean_rEar  \\\n",
       "0                 0  0.157222         0.005556           0.0   0.331725   \n",
       "1                 0  0.037037         0.000000           0.0   0.331725   \n",
       "2                 0  0.023867         0.000000           0.0   0.298865   \n",
       "3                 0  0.177593         0.000000           0.0   0.331725   \n",
       "4                 0  0.138804         0.000000           0.0   0.255562   \n",
       "\n",
       "   mean_lEar  mean_mar  std_rEar  std_lEar   std_mar  \n",
       "0   0.365555  0.025425  0.029387  0.030480  0.008728  \n",
       "1   0.365555  0.025425  0.029387  0.030480  0.008728  \n",
       "2   0.293354  0.080800  0.069526  0.067990  0.131152  \n",
       "3   0.365555  0.025425  0.029387  0.030480  0.008728  \n",
       "4   0.297604  0.037324  0.031327  0.037948  0.030768  "
      ]
     },
     "execution_count": 80,
     "metadata": {},
     "output_type": "execute_result"
    }
   ],
   "source": [
    "df_ann.head()"
   ]
  },
  {
   "cell_type": "code",
   "execution_count": 81,
   "metadata": {},
   "outputs": [
    {
     "data": {
      "text/html": [
       "<div>\n",
       "<style scoped>\n",
       "    .dataframe tbody tr th:only-of-type {\n",
       "        vertical-align: middle;\n",
       "    }\n",
       "\n",
       "    .dataframe tbody tr th {\n",
       "        vertical-align: top;\n",
       "    }\n",
       "\n",
       "    .dataframe thead th {\n",
       "        text-align: right;\n",
       "    }\n",
       "</style>\n",
       "<table border=\"1\" class=\"dataframe\">\n",
       "  <thead>\n",
       "    <tr style=\"text-align: right;\">\n",
       "      <th></th>\n",
       "      <th>rEar_norm</th>\n",
       "      <th>lEar_norm</th>\n",
       "      <th>mar_norm</th>\n",
       "      <th>calc_eye_state</th>\n",
       "      <th>calc_mouth_state</th>\n",
       "      <th>perclos</th>\n",
       "      <th>microsleep_rate</th>\n",
       "      <th>yawning_rate</th>\n",
       "      <th>mean_rEar</th>\n",
       "      <th>mean_lEar</th>\n",
       "      <th>mean_mar</th>\n",
       "      <th>std_rEar</th>\n",
       "      <th>std_lEar</th>\n",
       "      <th>std_mar</th>\n",
       "    </tr>\n",
       "    <tr>\n",
       "      <th>class_label</th>\n",
       "      <th></th>\n",
       "      <th></th>\n",
       "      <th></th>\n",
       "      <th></th>\n",
       "      <th></th>\n",
       "      <th></th>\n",
       "      <th></th>\n",
       "      <th></th>\n",
       "      <th></th>\n",
       "      <th></th>\n",
       "      <th></th>\n",
       "      <th></th>\n",
       "      <th></th>\n",
       "      <th></th>\n",
       "    </tr>\n",
       "  </thead>\n",
       "  <tbody>\n",
       "    <tr>\n",
       "      <th>0</th>\n",
       "      <td>28267</td>\n",
       "      <td>28267</td>\n",
       "      <td>28267</td>\n",
       "      <td>28267</td>\n",
       "      <td>28267</td>\n",
       "      <td>28267</td>\n",
       "      <td>28267</td>\n",
       "      <td>28267</td>\n",
       "      <td>28267</td>\n",
       "      <td>28267</td>\n",
       "      <td>28267</td>\n",
       "      <td>28267</td>\n",
       "      <td>28267</td>\n",
       "      <td>28267</td>\n",
       "    </tr>\n",
       "    <tr>\n",
       "      <th>1</th>\n",
       "      <td>28267</td>\n",
       "      <td>28267</td>\n",
       "      <td>28267</td>\n",
       "      <td>28267</td>\n",
       "      <td>28267</td>\n",
       "      <td>28267</td>\n",
       "      <td>28267</td>\n",
       "      <td>28267</td>\n",
       "      <td>28267</td>\n",
       "      <td>28267</td>\n",
       "      <td>28267</td>\n",
       "      <td>28267</td>\n",
       "      <td>28267</td>\n",
       "      <td>28267</td>\n",
       "    </tr>\n",
       "  </tbody>\n",
       "</table>\n",
       "</div>"
      ],
      "text/plain": [
       "             rEar_norm  lEar_norm  mar_norm  calc_eye_state  calc_mouth_state  \\\n",
       "class_label                                                                     \n",
       "0                28267      28267     28267           28267             28267   \n",
       "1                28267      28267     28267           28267             28267   \n",
       "\n",
       "             perclos  microsleep_rate  yawning_rate  mean_rEar  mean_lEar  \\\n",
       "class_label                                                                 \n",
       "0              28267            28267         28267      28267      28267   \n",
       "1              28267            28267         28267      28267      28267   \n",
       "\n",
       "             mean_mar  std_rEar  std_lEar  std_mar  \n",
       "class_label                                         \n",
       "0               28267     28267     28267    28267  \n",
       "1               28267     28267     28267    28267  "
      ]
     },
     "execution_count": 81,
     "metadata": {},
     "output_type": "execute_result"
    }
   ],
   "source": [
    "df_ann.groupby('class_label').count()"
   ]
  },
  {
   "cell_type": "markdown",
   "metadata": {},
   "source": [
    "#### split data"
   ]
  },
  {
   "cell_type": "code",
   "execution_count": 26,
   "metadata": {},
   "outputs": [],
   "source": [
    "SPLIT_RATIO = 0.8"
   ]
  },
  {
   "cell_type": "code",
   "execution_count": 27,
   "metadata": {},
   "outputs": [],
   "source": [
    "length = len(df_ann)"
   ]
  },
  {
   "cell_type": "code",
   "execution_count": 28,
   "metadata": {},
   "outputs": [],
   "source": [
    "split_index = int(0.8*length)"
   ]
  },
  {
   "cell_type": "code",
   "execution_count": 29,
   "metadata": {},
   "outputs": [
    {
     "name": "stdout",
     "output_type": "stream",
     "text": [
      "from a total of 56534, data is split by 0.8 ratio into 45227 train data and 11307 test data\n"
     ]
    }
   ],
   "source": [
    "print(f\"from a total of {length}, data is split by {SPLIT_RATIO} ratio into {split_index} train data and {length-split_index} test data\")"
   ]
  },
  {
   "cell_type": "code",
   "execution_count": 30,
   "metadata": {},
   "outputs": [],
   "source": [
    "train = df_ann.iloc[:split_index].values\n",
    "test = df_ann.iloc[split_index:].values"
   ]
  },
  {
   "cell_type": "markdown",
   "metadata": {},
   "source": [
    "#### seperate into x and y"
   ]
  },
  {
   "cell_type": "code",
   "execution_count": 31,
   "metadata": {},
   "outputs": [],
   "source": [
    "def ann_xy_separator(data):\n",
    "    X = []\n",
    "    y = []\n",
    "    for row in data:\n",
    "        X.append(row[1:])\n",
    "        y.append(int(row[0]))\n",
    "    return np.array(X), np.array(y)"
   ]
  },
  {
   "cell_type": "code",
   "execution_count": 32,
   "metadata": {},
   "outputs": [],
   "source": [
    "X_train, y_train = ann_xy_separator(train)\n",
    "X_test, y_test = ann_xy_separator(test)"
   ]
  },
  {
   "cell_type": "markdown",
   "metadata": {},
   "source": [
    "#### data spotlight"
   ]
  },
  {
   "cell_type": "code",
   "execution_count": 33,
   "metadata": {},
   "outputs": [
    {
     "data": {
      "text/plain": [
       "array([0.47218361, 0.38606914, 0.06274783, 1.        , 0.        ,\n",
       "       0.17874952, 0.        , 0.        , 0.25556203, 0.29760351,\n",
       "       0.03732381, 0.03132706, 0.03794775, 0.03076791])"
      ]
     },
     "execution_count": 33,
     "metadata": {},
     "output_type": "execute_result"
    }
   ],
   "source": [
    "X_train[20]"
   ]
  },
  {
   "cell_type": "code",
   "execution_count": 34,
   "metadata": {},
   "outputs": [
    {
     "data": {
      "text/plain": [
       "0"
      ]
     },
     "execution_count": 34,
     "metadata": {},
     "output_type": "execute_result"
    }
   ],
   "source": [
    "y_train[20]"
   ]
  },
  {
   "cell_type": "markdown",
   "metadata": {},
   "source": [
    "#### save data"
   ]
  },
  {
   "cell_type": "code",
   "execution_count": 35,
   "metadata": {},
   "outputs": [],
   "source": [
    "filePath = f'dataset/{time.time()}-ann'"
   ]
  },
  {
   "cell_type": "code",
   "execution_count": 36,
   "metadata": {},
   "outputs": [],
   "source": [
    "# np.save(file=f'{filePath}-X_train', arr=X_train)\n",
    "# np.save(file=f'{filePath}-y_train', arr=y_train)\n",
    "# np.save(file=f'{filePath}-X_test', arr=X_test)\n",
    "# np.save(file=f'{filePath}-y_test', arr=y_test)"
   ]
  },
  {
   "cell_type": "markdown",
   "metadata": {},
   "source": [
    "## Data Preparation for LSTM"
   ]
  },
  {
   "cell_type": "markdown",
   "metadata": {},
   "source": [
    "**Data for LSTM is difference with data for ANN**. ANN required one frame for input at a time, while **LSTM requuired sequential collection of frame** for an input at a time. So first we need to sequentialize the data. the **window of sequentiial data is one minutes**"
   ]
  },
  {
   "cell_type": "code",
   "execution_count": 37,
   "metadata": {},
   "outputs": [],
   "source": [
    "MINUTES_LENGTH = 1\n",
    "FPS = 8\n",
    "SEQ_LEN = int(FPS * 60 * MINUTES_LENGTH)"
   ]
  },
  {
   "cell_type": "markdown",
   "metadata": {},
   "source": [
    "#### defince function to make a sequencial window"
   ]
  },
  {
   "cell_type": "code",
   "execution_count": 38,
   "metadata": {},
   "outputs": [],
   "source": [
    "def sequencialize(df, seq_len, label):\n",
    "    sequential_data = []\n",
    "    prev = deque(maxlen=seq_len)\n",
    "    for row in df.values:\n",
    "        prev.append([data for data in row[3:]])\n",
    "        if len(prev) == seq_len:\n",
    "            sequential_data.append([np.array(prev),label])\n",
    "    return sequential_data"
   ]
  },
  {
   "cell_type": "markdown",
   "metadata": {},
   "source": [
    "#### get data"
   ]
  },
  {
   "cell_type": "code",
   "execution_count": 39,
   "metadata": {},
   "outputs": [],
   "source": [
    "seq_datas = []"
   ]
  },
  {
   "cell_type": "code",
   "execution_count": 40,
   "metadata": {},
   "outputs": [],
   "source": [
    "for subject, df_subject in df_identical_balanced.groupby('subject'):\n",
    "    for class_label, df_class in df_subject.groupby('class_label'):\n",
    "        _df = pd.DataFrame(df_class)\n",
    "        seq_data = sequencialize(_df, SEQ_LEN, class_label)\n",
    "        seq_datas.extend(seq_data)"
   ]
  },
  {
   "cell_type": "markdown",
   "metadata": {},
   "source": [
    "#### shuffle data"
   ]
  },
  {
   "cell_type": "code",
   "execution_count": 41,
   "metadata": {},
   "outputs": [],
   "source": [
    "random.shuffle(seq_datas)"
   ]
  },
  {
   "cell_type": "markdown",
   "metadata": {},
   "source": [
    "#### split data"
   ]
  },
  {
   "cell_type": "code",
   "execution_count": 42,
   "metadata": {},
   "outputs": [],
   "source": [
    "SPLIT_RATIO = 0.8"
   ]
  },
  {
   "cell_type": "code",
   "execution_count": 43,
   "metadata": {},
   "outputs": [],
   "source": [
    "length = len(seq_datas)"
   ]
  },
  {
   "cell_type": "code",
   "execution_count": 44,
   "metadata": {},
   "outputs": [],
   "source": [
    "split_index = int(0.8*length)"
   ]
  },
  {
   "cell_type": "code",
   "execution_count": 45,
   "metadata": {},
   "outputs": [
    {
     "name": "stdout",
     "output_type": "stream",
     "text": [
      "from a total of 9640, data is split by 0.8 ratio into 7712 train data and 1928 test data\n"
     ]
    }
   ],
   "source": [
    "print(f\"from a total of {length}, data is split by {SPLIT_RATIO} ratio into {split_index} train data and {length-split_index} test data\")"
   ]
  },
  {
   "cell_type": "code",
   "execution_count": 46,
   "metadata": {},
   "outputs": [],
   "source": [
    "train = seq_datas[:split_index]\n",
    "test = seq_datas[split_index:]"
   ]
  },
  {
   "cell_type": "markdown",
   "metadata": {},
   "source": [
    "#### seperate into x and y"
   ]
  },
  {
   "cell_type": "code",
   "execution_count": 47,
   "metadata": {},
   "outputs": [],
   "source": [
    "def lstm_xy_separator(data):\n",
    "    X = []\n",
    "    y = []\n",
    "    for seq, label in data:\n",
    "        X.append(seq)\n",
    "        y.append(int(label))\n",
    "    return np.array(X), np.array(y)"
   ]
  },
  {
   "cell_type": "code",
   "execution_count": 48,
   "metadata": {},
   "outputs": [],
   "source": [
    "X_train, y_train = lstm_xy_separator(train)\n",
    "X_test, y_test = lstm_xy_separator(test)"
   ]
  },
  {
   "cell_type": "markdown",
   "metadata": {},
   "source": [
    "#### data spotlight"
   ]
  },
  {
   "cell_type": "code",
   "execution_count": 49,
   "metadata": {},
   "outputs": [
    {
     "data": {
      "text/plain": [
       "array([[0.40870148, 0.327463  , 0.06374895, ..., 0.06405702, 0.0716581 ,\n",
       "        0.05976451],\n",
       "       [0.38920396, 0.31944393, 0.06456365, ..., 0.06405702, 0.0716581 ,\n",
       "        0.05976451],\n",
       "       [0.40967713, 0.31488101, 0.06326591, ..., 0.06405702, 0.0716581 ,\n",
       "        0.05976451],\n",
       "       ...,\n",
       "       [0.43129691, 0.34480473, 0.06366017, ..., 0.06405702, 0.0716581 ,\n",
       "        0.05976451],\n",
       "       [0.42048961, 0.3373794 , 0.06238431, ..., 0.06405702, 0.0716581 ,\n",
       "        0.05976451],\n",
       "       [0.40249874, 0.32392288, 0.06453315, ..., 0.06405702, 0.0716581 ,\n",
       "        0.05976451]])"
      ]
     },
     "execution_count": 49,
     "metadata": {},
     "output_type": "execute_result"
    }
   ],
   "source": [
    "X_train[100]"
   ]
  },
  {
   "cell_type": "code",
   "execution_count": 50,
   "metadata": {},
   "outputs": [
    {
     "data": {
      "text/plain": [
       "1"
      ]
     },
     "execution_count": 50,
     "metadata": {},
     "output_type": "execute_result"
    }
   ],
   "source": [
    "y_train[100]"
   ]
  },
  {
   "cell_type": "markdown",
   "metadata": {},
   "source": [
    "#### save data"
   ]
  },
  {
   "cell_type": "code",
   "execution_count": 51,
   "metadata": {},
   "outputs": [],
   "source": [
    "filePath = f'dataset/{time.time()}-lstm'"
   ]
  },
  {
   "cell_type": "code",
   "execution_count": 52,
   "metadata": {},
   "outputs": [],
   "source": [
    "# np.save(file=f'{filePath}-X_train', arr=X_train)\n",
    "# np.save(file=f'{filePath}-y_train', arr=y_train)\n",
    "# np.save(file=f'{filePath}-X_test', arr=X_test)\n",
    "# np.save(file=f'{filePath}-y_test', arr=y_test)"
   ]
  },
  {
   "cell_type": "code",
   "execution_count": null,
   "metadata": {},
   "outputs": [],
   "source": []
  }
 ],
 "metadata": {
  "kernelspec": {
   "display_name": "Python 3",
   "language": "python",
   "name": "python3"
  },
  "language_info": {
   "codemirror_mode": {
    "name": "ipython",
    "version": 3
   },
   "file_extension": ".py",
   "mimetype": "text/x-python",
   "name": "python",
   "nbconvert_exporter": "python",
   "pygments_lexer": "ipython3",
   "version": "3.7.7"
  }
 },
 "nbformat": 4,
 "nbformat_minor": 4
}
