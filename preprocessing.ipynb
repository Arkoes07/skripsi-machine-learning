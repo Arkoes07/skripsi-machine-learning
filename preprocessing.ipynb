{
 "cells": [
  {
   "cell_type": "markdown",
   "metadata": {},
   "source": [
    "# Data Preprocessing\n",
    "**By: M. Alwi Sukra**"
   ]
  },
  {
   "cell_type": "markdown",
   "metadata": {},
   "source": [
    "Preprocess transformed data until prepared for machine learning algorithm"
   ]
  },
  {
   "cell_type": "markdown",
   "metadata": {},
   "source": [
    "#### import useful libraries"
   ]
  },
  {
   "cell_type": "code",
   "execution_count": 1,
   "metadata": {},
   "outputs": [],
   "source": [
    "import matplotlib.pyplot as plt\n",
    "import numpy as np\n",
    "import pandas as pd\n",
    "import random\n",
    "import seaborn as sns\n",
    "import time\n",
    "from collections import deque"
   ]
  },
  {
   "cell_type": "markdown",
   "metadata": {},
   "source": [
    "#### get transformed data"
   ]
  },
  {
   "cell_type": "code",
   "execution_count": 2,
   "metadata": {},
   "outputs": [],
   "source": [
    "timestamp = \"1593487344\""
   ]
  },
  {
   "cell_type": "code",
   "execution_count": 3,
   "metadata": {},
   "outputs": [],
   "source": [
    "df = pd.read_csv(f\"transformed-datas/{timestamp}_preprocessed-data.csv\", index_col=False)"
   ]
  },
  {
   "cell_type": "code",
   "execution_count": 4,
   "metadata": {},
   "outputs": [
    {
     "data": {
      "text/html": [
       "<div>\n",
       "<style scoped>\n",
       "    .dataframe tbody tr th:only-of-type {\n",
       "        vertical-align: middle;\n",
       "    }\n",
       "\n",
       "    .dataframe tbody tr th {\n",
       "        vertical-align: top;\n",
       "    }\n",
       "\n",
       "    .dataframe thead th {\n",
       "        text-align: right;\n",
       "    }\n",
       "</style>\n",
       "<table border=\"1\" class=\"dataframe\">\n",
       "  <thead>\n",
       "    <tr style=\"text-align: right;\">\n",
       "      <th></th>\n",
       "      <th>frame</th>\n",
       "      <th>subject</th>\n",
       "      <th>class_label</th>\n",
       "      <th>rEar_norm</th>\n",
       "      <th>lEar_norm</th>\n",
       "      <th>mar_norm</th>\n",
       "      <th>perclos</th>\n",
       "      <th>microsleep_rate</th>\n",
       "      <th>yawning_rate</th>\n",
       "    </tr>\n",
       "  </thead>\n",
       "  <tbody>\n",
       "    <tr>\n",
       "      <th>0</th>\n",
       "      <td>4484</td>\n",
       "      <td>1</td>\n",
       "      <td>0</td>\n",
       "      <td>0.582719</td>\n",
       "      <td>0.622472</td>\n",
       "      <td>0.216977</td>\n",
       "      <td>0.033683</td>\n",
       "      <td>0.0</td>\n",
       "      <td>0.0</td>\n",
       "    </tr>\n",
       "    <tr>\n",
       "      <th>1</th>\n",
       "      <td>4485</td>\n",
       "      <td>1</td>\n",
       "      <td>0</td>\n",
       "      <td>0.576412</td>\n",
       "      <td>0.601768</td>\n",
       "      <td>0.210735</td>\n",
       "      <td>0.033683</td>\n",
       "      <td>0.0</td>\n",
       "      <td>0.0</td>\n",
       "    </tr>\n",
       "    <tr>\n",
       "      <th>2</th>\n",
       "      <td>4486</td>\n",
       "      <td>1</td>\n",
       "      <td>0</td>\n",
       "      <td>0.498003</td>\n",
       "      <td>0.554422</td>\n",
       "      <td>0.201034</td>\n",
       "      <td>0.033460</td>\n",
       "      <td>0.0</td>\n",
       "      <td>0.0</td>\n",
       "    </tr>\n",
       "    <tr>\n",
       "      <th>3</th>\n",
       "      <td>4487</td>\n",
       "      <td>1</td>\n",
       "      <td>0</td>\n",
       "      <td>0.595975</td>\n",
       "      <td>0.581950</td>\n",
       "      <td>0.208411</td>\n",
       "      <td>0.033237</td>\n",
       "      <td>0.0</td>\n",
       "      <td>0.0</td>\n",
       "    </tr>\n",
       "    <tr>\n",
       "      <th>4</th>\n",
       "      <td>4488</td>\n",
       "      <td>1</td>\n",
       "      <td>0</td>\n",
       "      <td>0.549539</td>\n",
       "      <td>0.534910</td>\n",
       "      <td>0.200352</td>\n",
       "      <td>0.033237</td>\n",
       "      <td>0.0</td>\n",
       "      <td>0.0</td>\n",
       "    </tr>\n",
       "  </tbody>\n",
       "</table>\n",
       "</div>"
      ],
      "text/plain": [
       "   frame  subject  class_label  rEar_norm  lEar_norm  mar_norm   perclos  \\\n",
       "0   4484        1            0   0.582719   0.622472  0.216977  0.033683   \n",
       "1   4485        1            0   0.576412   0.601768  0.210735  0.033683   \n",
       "2   4486        1            0   0.498003   0.554422  0.201034  0.033460   \n",
       "3   4487        1            0   0.595975   0.581950  0.208411  0.033237   \n",
       "4   4488        1            0   0.549539   0.534910  0.200352  0.033237   \n",
       "\n",
       "   microsleep_rate  yawning_rate  \n",
       "0              0.0           0.0  \n",
       "1              0.0           0.0  \n",
       "2              0.0           0.0  \n",
       "3              0.0           0.0  \n",
       "4              0.0           0.0  "
      ]
     },
     "execution_count": 4,
     "metadata": {},
     "output_type": "execute_result"
    }
   ],
   "source": [
    "df.head()"
   ]
  },
  {
   "cell_type": "code",
   "execution_count": 5,
   "metadata": {},
   "outputs": [],
   "source": [
    "df_identical = pd.read_csv(f\"transformed-datas/{timestamp}_preprocessed-data-identical_fps.csv\", index_col=False)"
   ]
  },
  {
   "cell_type": "code",
   "execution_count": 6,
   "metadata": {},
   "outputs": [
    {
     "data": {
      "text/html": [
       "<div>\n",
       "<style scoped>\n",
       "    .dataframe tbody tr th:only-of-type {\n",
       "        vertical-align: middle;\n",
       "    }\n",
       "\n",
       "    .dataframe tbody tr th {\n",
       "        vertical-align: top;\n",
       "    }\n",
       "\n",
       "    .dataframe thead th {\n",
       "        text-align: right;\n",
       "    }\n",
       "</style>\n",
       "<table border=\"1\" class=\"dataframe\">\n",
       "  <thead>\n",
       "    <tr style=\"text-align: right;\">\n",
       "      <th></th>\n",
       "      <th>frame</th>\n",
       "      <th>subject</th>\n",
       "      <th>class_label</th>\n",
       "      <th>rEar_norm</th>\n",
       "      <th>lEar_norm</th>\n",
       "      <th>mar_norm</th>\n",
       "      <th>perclos</th>\n",
       "      <th>microsleep_rate</th>\n",
       "      <th>yawning_rate</th>\n",
       "    </tr>\n",
       "  </thead>\n",
       "  <tbody>\n",
       "    <tr>\n",
       "      <th>0</th>\n",
       "      <td>4321</td>\n",
       "      <td>1</td>\n",
       "      <td>0</td>\n",
       "      <td>0.535363</td>\n",
       "      <td>0.553641</td>\n",
       "      <td>0.098949</td>\n",
       "      <td>0.030556</td>\n",
       "      <td>0.0</td>\n",
       "      <td>0.0</td>\n",
       "    </tr>\n",
       "    <tr>\n",
       "      <th>1</th>\n",
       "      <td>4324</td>\n",
       "      <td>1</td>\n",
       "      <td>0</td>\n",
       "      <td>0.547988</td>\n",
       "      <td>0.562705</td>\n",
       "      <td>0.083339</td>\n",
       "      <td>0.030556</td>\n",
       "      <td>0.0</td>\n",
       "      <td>0.0</td>\n",
       "    </tr>\n",
       "    <tr>\n",
       "      <th>2</th>\n",
       "      <td>4327</td>\n",
       "      <td>1</td>\n",
       "      <td>0</td>\n",
       "      <td>0.576507</td>\n",
       "      <td>0.554961</td>\n",
       "      <td>0.112021</td>\n",
       "      <td>0.030556</td>\n",
       "      <td>0.0</td>\n",
       "      <td>0.0</td>\n",
       "    </tr>\n",
       "    <tr>\n",
       "      <th>3</th>\n",
       "      <td>4330</td>\n",
       "      <td>1</td>\n",
       "      <td>0</td>\n",
       "      <td>0.555828</td>\n",
       "      <td>0.533281</td>\n",
       "      <td>0.085486</td>\n",
       "      <td>0.030556</td>\n",
       "      <td>0.0</td>\n",
       "      <td>0.0</td>\n",
       "    </tr>\n",
       "    <tr>\n",
       "      <th>4</th>\n",
       "      <td>4333</td>\n",
       "      <td>1</td>\n",
       "      <td>0</td>\n",
       "      <td>0.535523</td>\n",
       "      <td>0.520933</td>\n",
       "      <td>0.084005</td>\n",
       "      <td>0.030556</td>\n",
       "      <td>0.0</td>\n",
       "      <td>0.0</td>\n",
       "    </tr>\n",
       "  </tbody>\n",
       "</table>\n",
       "</div>"
      ],
      "text/plain": [
       "   frame  subject  class_label  rEar_norm  lEar_norm  mar_norm   perclos  \\\n",
       "0   4321        1            0   0.535363   0.553641  0.098949  0.030556   \n",
       "1   4324        1            0   0.547988   0.562705  0.083339  0.030556   \n",
       "2   4327        1            0   0.576507   0.554961  0.112021  0.030556   \n",
       "3   4330        1            0   0.555828   0.533281  0.085486  0.030556   \n",
       "4   4333        1            0   0.535523   0.520933  0.084005  0.030556   \n",
       "\n",
       "   microsleep_rate  yawning_rate  \n",
       "0              0.0           0.0  \n",
       "1              0.0           0.0  \n",
       "2              0.0           0.0  \n",
       "3              0.0           0.0  \n",
       "4              0.0           0.0  "
      ]
     },
     "execution_count": 6,
     "metadata": {},
     "output_type": "execute_result"
    }
   ],
   "source": [
    "df_identical.head()"
   ]
  },
  {
   "cell_type": "markdown",
   "metadata": {},
   "source": [
    "## Balancing Data"
   ]
  },
  {
   "cell_type": "markdown",
   "metadata": {},
   "source": [
    "Balance both original fps and identical fps data so that **for each subject has the same amount of data class 0 and class 1**"
   ]
  },
  {
   "cell_type": "markdown",
   "metadata": {},
   "source": [
    "#### get fps info"
   ]
  },
  {
   "cell_type": "code",
   "execution_count": 7,
   "metadata": {},
   "outputs": [],
   "source": [
    "FPS_PATH = \"D:/datasets/ngantuk/fps_info.txt\""
   ]
  },
  {
   "cell_type": "code",
   "execution_count": 8,
   "metadata": {},
   "outputs": [
    {
     "data": {
      "text/html": [
       "<div>\n",
       "<style scoped>\n",
       "    .dataframe tbody tr th:only-of-type {\n",
       "        vertical-align: middle;\n",
       "    }\n",
       "\n",
       "    .dataframe tbody tr th {\n",
       "        vertical-align: top;\n",
       "    }\n",
       "\n",
       "    .dataframe thead th {\n",
       "        text-align: right;\n",
       "    }\n",
       "</style>\n",
       "<table border=\"1\" class=\"dataframe\">\n",
       "  <thead>\n",
       "    <tr style=\"text-align: right;\">\n",
       "      <th></th>\n",
       "      <th>subject</th>\n",
       "      <th>class_label</th>\n",
       "      <th>fps</th>\n",
       "    </tr>\n",
       "  </thead>\n",
       "  <tbody>\n",
       "    <tr>\n",
       "      <th>0</th>\n",
       "      <td>1</td>\n",
       "      <td>0</td>\n",
       "      <td>24.91</td>\n",
       "    </tr>\n",
       "    <tr>\n",
       "      <th>1</th>\n",
       "      <td>1</td>\n",
       "      <td>1</td>\n",
       "      <td>24.91</td>\n",
       "    </tr>\n",
       "    <tr>\n",
       "      <th>2</th>\n",
       "      <td>2</td>\n",
       "      <td>0</td>\n",
       "      <td>30.00</td>\n",
       "    </tr>\n",
       "    <tr>\n",
       "      <th>3</th>\n",
       "      <td>2</td>\n",
       "      <td>1</td>\n",
       "      <td>30.00</td>\n",
       "    </tr>\n",
       "    <tr>\n",
       "      <th>4</th>\n",
       "      <td>3</td>\n",
       "      <td>0</td>\n",
       "      <td>30.03</td>\n",
       "    </tr>\n",
       "  </tbody>\n",
       "</table>\n",
       "</div>"
      ],
      "text/plain": [
       "   subject  class_label    fps\n",
       "0        1            0  24.91\n",
       "1        1            1  24.91\n",
       "2        2            0  30.00\n",
       "3        2            1  30.00\n",
       "4        3            0  30.03"
      ]
     },
     "execution_count": 8,
     "metadata": {},
     "output_type": "execute_result"
    }
   ],
   "source": [
    "df_fps = pd.read_csv(FPS_PATH, names=['subject','class_label','fps'], delimiter=';', index_col=False)\n",
    "df_fps.head()"
   ]
  },
  {
   "cell_type": "markdown",
   "metadata": {},
   "source": [
    "Get data **just for the first 2 minutes**"
   ]
  },
  {
   "cell_type": "code",
   "execution_count": 9,
   "metadata": {},
   "outputs": [],
   "source": [
    "MINUTES_LENGTH = 2"
   ]
  },
  {
   "cell_type": "markdown",
   "metadata": {},
   "source": [
    "#### normal data"
   ]
  },
  {
   "cell_type": "code",
   "execution_count": 10,
   "metadata": {},
   "outputs": [],
   "source": [
    "dfs_balanced = []"
   ]
  },
  {
   "cell_type": "code",
   "execution_count": 11,
   "metadata": {},
   "outputs": [],
   "source": [
    "for subject, df_subject in df.groupby('subject'):\n",
    "    min_fps = min(df_fps.loc[(df_fps['subject'] == subject)]['fps'].values)\n",
    "    window_size = int(min_fps * 60 * MINUTES_LENGTH) + 1\n",
    "    for class_label, df_class in df_subject.groupby('class_label'):\n",
    "        _df = pd.DataFrame(df_class).reset_index(drop=True)\n",
    "        dfs_balanced.append(_df.iloc[:window_size])"
   ]
  },
  {
   "cell_type": "code",
   "execution_count": 12,
   "metadata": {},
   "outputs": [],
   "source": [
    "df_balanced = pd.concat(dfs_balanced)"
   ]
  },
  {
   "cell_type": "code",
   "execution_count": 13,
   "metadata": {},
   "outputs": [
    {
     "data": {
      "text/html": [
       "<div>\n",
       "<style scoped>\n",
       "    .dataframe tbody tr th:only-of-type {\n",
       "        vertical-align: middle;\n",
       "    }\n",
       "\n",
       "    .dataframe tbody tr th {\n",
       "        vertical-align: top;\n",
       "    }\n",
       "\n",
       "    .dataframe thead th {\n",
       "        text-align: right;\n",
       "    }\n",
       "</style>\n",
       "<table border=\"1\" class=\"dataframe\">\n",
       "  <thead>\n",
       "    <tr style=\"text-align: right;\">\n",
       "      <th></th>\n",
       "      <th>frame</th>\n",
       "      <th>subject</th>\n",
       "      <th>class_label</th>\n",
       "      <th>rEar_norm</th>\n",
       "      <th>lEar_norm</th>\n",
       "      <th>mar_norm</th>\n",
       "      <th>perclos</th>\n",
       "      <th>microsleep_rate</th>\n",
       "      <th>yawning_rate</th>\n",
       "    </tr>\n",
       "  </thead>\n",
       "  <tbody>\n",
       "    <tr>\n",
       "      <th>0</th>\n",
       "      <td>4484</td>\n",
       "      <td>1</td>\n",
       "      <td>0</td>\n",
       "      <td>0.582719</td>\n",
       "      <td>0.622472</td>\n",
       "      <td>0.216977</td>\n",
       "      <td>0.033683</td>\n",
       "      <td>0.0</td>\n",
       "      <td>0.0</td>\n",
       "    </tr>\n",
       "    <tr>\n",
       "      <th>1</th>\n",
       "      <td>4485</td>\n",
       "      <td>1</td>\n",
       "      <td>0</td>\n",
       "      <td>0.576412</td>\n",
       "      <td>0.601768</td>\n",
       "      <td>0.210735</td>\n",
       "      <td>0.033683</td>\n",
       "      <td>0.0</td>\n",
       "      <td>0.0</td>\n",
       "    </tr>\n",
       "    <tr>\n",
       "      <th>2</th>\n",
       "      <td>4486</td>\n",
       "      <td>1</td>\n",
       "      <td>0</td>\n",
       "      <td>0.498003</td>\n",
       "      <td>0.554422</td>\n",
       "      <td>0.201034</td>\n",
       "      <td>0.033460</td>\n",
       "      <td>0.0</td>\n",
       "      <td>0.0</td>\n",
       "    </tr>\n",
       "    <tr>\n",
       "      <th>3</th>\n",
       "      <td>4487</td>\n",
       "      <td>1</td>\n",
       "      <td>0</td>\n",
       "      <td>0.595975</td>\n",
       "      <td>0.581950</td>\n",
       "      <td>0.208411</td>\n",
       "      <td>0.033237</td>\n",
       "      <td>0.0</td>\n",
       "      <td>0.0</td>\n",
       "    </tr>\n",
       "    <tr>\n",
       "      <th>4</th>\n",
       "      <td>4488</td>\n",
       "      <td>1</td>\n",
       "      <td>0</td>\n",
       "      <td>0.549539</td>\n",
       "      <td>0.534910</td>\n",
       "      <td>0.200352</td>\n",
       "      <td>0.033237</td>\n",
       "      <td>0.0</td>\n",
       "      <td>0.0</td>\n",
       "    </tr>\n",
       "  </tbody>\n",
       "</table>\n",
       "</div>"
      ],
      "text/plain": [
       "   frame  subject  class_label  rEar_norm  lEar_norm  mar_norm   perclos  \\\n",
       "0   4484        1            0   0.582719   0.622472  0.216977  0.033683   \n",
       "1   4485        1            0   0.576412   0.601768  0.210735  0.033683   \n",
       "2   4486        1            0   0.498003   0.554422  0.201034  0.033460   \n",
       "3   4487        1            0   0.595975   0.581950  0.208411  0.033237   \n",
       "4   4488        1            0   0.549539   0.534910  0.200352  0.033237   \n",
       "\n",
       "   microsleep_rate  yawning_rate  \n",
       "0              0.0           0.0  \n",
       "1              0.0           0.0  \n",
       "2              0.0           0.0  \n",
       "3              0.0           0.0  \n",
       "4              0.0           0.0  "
      ]
     },
     "execution_count": 13,
     "metadata": {},
     "output_type": "execute_result"
    }
   ],
   "source": [
    "df_balanced.head()"
   ]
  },
  {
   "cell_type": "code",
   "execution_count": 14,
   "metadata": {},
   "outputs": [
    {
     "data": {
      "text/plain": [
       "class_label\n",
       "0    28267\n",
       "1    28267\n",
       "Name: frame, dtype: int64"
      ]
     },
     "execution_count": 14,
     "metadata": {},
     "output_type": "execute_result"
    }
   ],
   "source": [
    "df_balanced.groupby('class_label').count()['frame']"
   ]
  },
  {
   "cell_type": "markdown",
   "metadata": {},
   "source": [
    "#### fps identical data"
   ]
  },
  {
   "cell_type": "code",
   "execution_count": 15,
   "metadata": {},
   "outputs": [],
   "source": [
    "dfs_identical_balanced = []"
   ]
  },
  {
   "cell_type": "code",
   "execution_count": 16,
   "metadata": {},
   "outputs": [],
   "source": [
    "FPS = 10\n",
    "WINDOW_SIZE = int(FPS * 60 * MINUTES_LENGTH) + 1"
   ]
  },
  {
   "cell_type": "code",
   "execution_count": 17,
   "metadata": {},
   "outputs": [],
   "source": [
    "for subject, df_subject in df_identical.groupby('subject'):\n",
    "    for class_label, df_class in df_subject.groupby('class_label'):\n",
    "        _df = pd.DataFrame(df_class).reset_index(drop=True)\n",
    "        dfs_identical_balanced.append(_df.iloc[:WINDOW_SIZE])"
   ]
  },
  {
   "cell_type": "code",
   "execution_count": 18,
   "metadata": {},
   "outputs": [],
   "source": [
    "df_identical_balanced = pd.concat(dfs_identical_balanced)"
   ]
  },
  {
   "cell_type": "code",
   "execution_count": 19,
   "metadata": {},
   "outputs": [
    {
     "data": {
      "text/html": [
       "<div>\n",
       "<style scoped>\n",
       "    .dataframe tbody tr th:only-of-type {\n",
       "        vertical-align: middle;\n",
       "    }\n",
       "\n",
       "    .dataframe tbody tr th {\n",
       "        vertical-align: top;\n",
       "    }\n",
       "\n",
       "    .dataframe thead th {\n",
       "        text-align: right;\n",
       "    }\n",
       "</style>\n",
       "<table border=\"1\" class=\"dataframe\">\n",
       "  <thead>\n",
       "    <tr style=\"text-align: right;\">\n",
       "      <th></th>\n",
       "      <th>frame</th>\n",
       "      <th>subject</th>\n",
       "      <th>class_label</th>\n",
       "      <th>rEar_norm</th>\n",
       "      <th>lEar_norm</th>\n",
       "      <th>mar_norm</th>\n",
       "      <th>perclos</th>\n",
       "      <th>microsleep_rate</th>\n",
       "      <th>yawning_rate</th>\n",
       "    </tr>\n",
       "  </thead>\n",
       "  <tbody>\n",
       "    <tr>\n",
       "      <th>0</th>\n",
       "      <td>4321</td>\n",
       "      <td>1</td>\n",
       "      <td>0</td>\n",
       "      <td>0.535363</td>\n",
       "      <td>0.553641</td>\n",
       "      <td>0.098949</td>\n",
       "      <td>0.030556</td>\n",
       "      <td>0.0</td>\n",
       "      <td>0.0</td>\n",
       "    </tr>\n",
       "    <tr>\n",
       "      <th>1</th>\n",
       "      <td>4324</td>\n",
       "      <td>1</td>\n",
       "      <td>0</td>\n",
       "      <td>0.547988</td>\n",
       "      <td>0.562705</td>\n",
       "      <td>0.083339</td>\n",
       "      <td>0.030556</td>\n",
       "      <td>0.0</td>\n",
       "      <td>0.0</td>\n",
       "    </tr>\n",
       "    <tr>\n",
       "      <th>2</th>\n",
       "      <td>4327</td>\n",
       "      <td>1</td>\n",
       "      <td>0</td>\n",
       "      <td>0.576507</td>\n",
       "      <td>0.554961</td>\n",
       "      <td>0.112021</td>\n",
       "      <td>0.030556</td>\n",
       "      <td>0.0</td>\n",
       "      <td>0.0</td>\n",
       "    </tr>\n",
       "    <tr>\n",
       "      <th>3</th>\n",
       "      <td>4330</td>\n",
       "      <td>1</td>\n",
       "      <td>0</td>\n",
       "      <td>0.555828</td>\n",
       "      <td>0.533281</td>\n",
       "      <td>0.085486</td>\n",
       "      <td>0.030556</td>\n",
       "      <td>0.0</td>\n",
       "      <td>0.0</td>\n",
       "    </tr>\n",
       "    <tr>\n",
       "      <th>4</th>\n",
       "      <td>4333</td>\n",
       "      <td>1</td>\n",
       "      <td>0</td>\n",
       "      <td>0.535523</td>\n",
       "      <td>0.520933</td>\n",
       "      <td>0.084005</td>\n",
       "      <td>0.030556</td>\n",
       "      <td>0.0</td>\n",
       "      <td>0.0</td>\n",
       "    </tr>\n",
       "  </tbody>\n",
       "</table>\n",
       "</div>"
      ],
      "text/plain": [
       "   frame  subject  class_label  rEar_norm  lEar_norm  mar_norm   perclos  \\\n",
       "0   4321        1            0   0.535363   0.553641  0.098949  0.030556   \n",
       "1   4324        1            0   0.547988   0.562705  0.083339  0.030556   \n",
       "2   4327        1            0   0.576507   0.554961  0.112021  0.030556   \n",
       "3   4330        1            0   0.555828   0.533281  0.085486  0.030556   \n",
       "4   4333        1            0   0.535523   0.520933  0.084005  0.030556   \n",
       "\n",
       "   microsleep_rate  yawning_rate  \n",
       "0              0.0           0.0  \n",
       "1              0.0           0.0  \n",
       "2              0.0           0.0  \n",
       "3              0.0           0.0  \n",
       "4              0.0           0.0  "
      ]
     },
     "execution_count": 19,
     "metadata": {},
     "output_type": "execute_result"
    }
   ],
   "source": [
    "df_identical_balanced.head()"
   ]
  },
  {
   "cell_type": "code",
   "execution_count": 20,
   "metadata": {},
   "outputs": [
    {
     "data": {
      "text/plain": [
       "class_label\n",
       "0    11667\n",
       "1    11918\n",
       "Name: frame, dtype: int64"
      ]
     },
     "execution_count": 20,
     "metadata": {},
     "output_type": "execute_result"
    }
   ],
   "source": [
    "df_identical_balanced.groupby('class_label').count()['frame']"
   ]
  },
  {
   "cell_type": "markdown",
   "metadata": {},
   "source": [
    "## Data Preparation for ANN"
   ]
  },
  {
   "cell_type": "markdown",
   "metadata": {},
   "source": [
    "#### get data"
   ]
  },
  {
   "cell_type": "code",
   "execution_count": 21,
   "metadata": {},
   "outputs": [],
   "source": [
    "df_ann = df_balanced[df_balanced.columns[2:]]"
   ]
  },
  {
   "cell_type": "markdown",
   "metadata": {},
   "source": [
    "#### shuffle data"
   ]
  },
  {
   "cell_type": "code",
   "execution_count": 22,
   "metadata": {},
   "outputs": [],
   "source": [
    "df_ann = df_ann.sample(frac=1).reset_index(drop=True)"
   ]
  },
  {
   "cell_type": "code",
   "execution_count": 23,
   "metadata": {},
   "outputs": [
    {
     "data": {
      "text/html": [
       "<div>\n",
       "<style scoped>\n",
       "    .dataframe tbody tr th:only-of-type {\n",
       "        vertical-align: middle;\n",
       "    }\n",
       "\n",
       "    .dataframe tbody tr th {\n",
       "        vertical-align: top;\n",
       "    }\n",
       "\n",
       "    .dataframe thead th {\n",
       "        text-align: right;\n",
       "    }\n",
       "</style>\n",
       "<table border=\"1\" class=\"dataframe\">\n",
       "  <thead>\n",
       "    <tr style=\"text-align: right;\">\n",
       "      <th></th>\n",
       "      <th>class_label</th>\n",
       "      <th>rEar_norm</th>\n",
       "      <th>lEar_norm</th>\n",
       "      <th>mar_norm</th>\n",
       "      <th>perclos</th>\n",
       "      <th>microsleep_rate</th>\n",
       "      <th>yawning_rate</th>\n",
       "    </tr>\n",
       "  </thead>\n",
       "  <tbody>\n",
       "    <tr>\n",
       "      <th>0</th>\n",
       "      <td>1</td>\n",
       "      <td>0.530295</td>\n",
       "      <td>0.526667</td>\n",
       "      <td>0.081011</td>\n",
       "      <td>0.511378</td>\n",
       "      <td>0.000000</td>\n",
       "      <td>0.0</td>\n",
       "    </tr>\n",
       "    <tr>\n",
       "      <th>1</th>\n",
       "      <td>0</td>\n",
       "      <td>0.497504</td>\n",
       "      <td>0.491098</td>\n",
       "      <td>0.189768</td>\n",
       "      <td>0.161481</td>\n",
       "      <td>0.005556</td>\n",
       "      <td>0.0</td>\n",
       "    </tr>\n",
       "    <tr>\n",
       "      <th>2</th>\n",
       "      <td>1</td>\n",
       "      <td>0.488087</td>\n",
       "      <td>0.532871</td>\n",
       "      <td>0.145630</td>\n",
       "      <td>0.211481</td>\n",
       "      <td>0.011111</td>\n",
       "      <td>0.0</td>\n",
       "    </tr>\n",
       "    <tr>\n",
       "      <th>3</th>\n",
       "      <td>1</td>\n",
       "      <td>0.470621</td>\n",
       "      <td>0.534121</td>\n",
       "      <td>0.045105</td>\n",
       "      <td>0.254000</td>\n",
       "      <td>0.005556</td>\n",
       "      <td>0.0</td>\n",
       "    </tr>\n",
       "    <tr>\n",
       "      <th>4</th>\n",
       "      <td>0</td>\n",
       "      <td>0.611368</td>\n",
       "      <td>0.613629</td>\n",
       "      <td>0.071422</td>\n",
       "      <td>0.048925</td>\n",
       "      <td>0.000000</td>\n",
       "      <td>0.0</td>\n",
       "    </tr>\n",
       "  </tbody>\n",
       "</table>\n",
       "</div>"
      ],
      "text/plain": [
       "   class_label  rEar_norm  lEar_norm  mar_norm   perclos  microsleep_rate  \\\n",
       "0            1   0.530295   0.526667  0.081011  0.511378         0.000000   \n",
       "1            0   0.497504   0.491098  0.189768  0.161481         0.005556   \n",
       "2            1   0.488087   0.532871  0.145630  0.211481         0.011111   \n",
       "3            1   0.470621   0.534121  0.045105  0.254000         0.005556   \n",
       "4            0   0.611368   0.613629  0.071422  0.048925         0.000000   \n",
       "\n",
       "   yawning_rate  \n",
       "0           0.0  \n",
       "1           0.0  \n",
       "2           0.0  \n",
       "3           0.0  \n",
       "4           0.0  "
      ]
     },
     "execution_count": 23,
     "metadata": {},
     "output_type": "execute_result"
    }
   ],
   "source": [
    "df_ann.head()"
   ]
  },
  {
   "cell_type": "markdown",
   "metadata": {},
   "source": [
    "#### seperate into x and y"
   ]
  },
  {
   "cell_type": "code",
   "execution_count": 24,
   "metadata": {},
   "outputs": [],
   "source": [
    "def dnn_xy_separator(data, start_idx = 1, end_idx = 8):\n",
    "    X = []\n",
    "    y = []\n",
    "    for row in data:\n",
    "        X.append(row[start_idx:end_idx])\n",
    "        y.append(int(row[0]))\n",
    "    return np.array(X), np.array(y)"
   ]
  },
  {
   "cell_type": "code",
   "execution_count": 25,
   "metadata": {},
   "outputs": [
    {
     "name": "stdout",
     "output_type": "stream",
     "text": [
      "Wall time: 205 ms\n"
     ]
    }
   ],
   "source": [
    "%%time\n",
    "# all feature\n",
    "X_all, y_all = dnn_xy_separator(data=df_ann.values)\n",
    "# only base feature\n",
    "X_base, y_base = dnn_xy_separator(data=df_ann.values, end_idx=4)\n",
    "# only aggregate feature\n",
    "X_agg, y_agg = dnn_xy_separator(data=df_ann.values, start_idx=4)"
   ]
  },
  {
   "cell_type": "markdown",
   "metadata": {},
   "source": [
    "#### data spotlight"
   ]
  },
  {
   "cell_type": "code",
   "execution_count": 26,
   "metadata": {},
   "outputs": [
    {
     "name": "stdout",
     "output_type": "stream",
     "text": [
      "[0.64163624 0.59831496 0.06980418 0.28944444 0.03888889 0.        ] \n",
      " [0.64163624 0.59831496 0.06980418] \n",
      " [0.28944444 0.03888889 0.        ]\n"
     ]
    }
   ],
   "source": [
    "print(X_all[20],'\\n',X_base[20],'\\n',X_agg[20])"
   ]
  },
  {
   "cell_type": "code",
   "execution_count": 27,
   "metadata": {},
   "outputs": [
    {
     "name": "stdout",
     "output_type": "stream",
     "text": [
      "1 \n",
      " 1 \n",
      " 1\n"
     ]
    }
   ],
   "source": [
    "print(y_all[20],'\\n',y_base[20],'\\n',y_agg[20])"
   ]
  },
  {
   "cell_type": "markdown",
   "metadata": {},
   "source": [
    "#### save data"
   ]
  },
  {
   "cell_type": "code",
   "execution_count": 28,
   "metadata": {},
   "outputs": [],
   "source": [
    "prefix='datasets/dnn'\n",
    "# all feature\n",
    "np.save(file=f'{prefix}-all-X', arr=X_all)\n",
    "np.save(file=f'{prefix}-all-y', arr=y_all)\n",
    "# only base feature\n",
    "np.save(file=f'{prefix}-base-X', arr=X_base)\n",
    "np.save(file=f'{prefix}-base-y', arr=y_base)\n",
    "# only aggregate feature\n",
    "np.save(file=f'{prefix}-agg-X', arr=X_agg)\n",
    "np.save(file=f'{prefix}-agg-y', arr=y_agg)"
   ]
  },
  {
   "cell_type": "markdown",
   "metadata": {},
   "source": [
    "## Data Preparation for LSTM"
   ]
  },
  {
   "cell_type": "markdown",
   "metadata": {},
   "source": [
    "**Data for LSTM is difference with data for ANN**. ANN required one frame for input at a time, while **LSTM requuired sequential collection of frame** for an input at a time. So first we need to sequentialize the data. the **window of sequentiial data is one minutes**"
   ]
  },
  {
   "cell_type": "code",
   "execution_count": 29,
   "metadata": {},
   "outputs": [],
   "source": [
    "MINUTES_LENGTH = 1\n",
    "FPS = 10\n",
    "SEQ_LEN = int(FPS * 60 * MINUTES_LENGTH)"
   ]
  },
  {
   "cell_type": "markdown",
   "metadata": {},
   "source": [
    "#### defince function to make a sequencial window"
   ]
  },
  {
   "cell_type": "code",
   "execution_count": 30,
   "metadata": {},
   "outputs": [],
   "source": [
    "def sequencialize(df, seq_len, label):\n",
    "    sequential_data = []\n",
    "    prev = deque(maxlen=seq_len)\n",
    "    for row in df.values:\n",
    "        prev.append([data for data in row[3:]])\n",
    "        if len(prev) == seq_len:\n",
    "            sequential_data.append([np.array(prev),label])\n",
    "    return sequential_data"
   ]
  },
  {
   "cell_type": "markdown",
   "metadata": {},
   "source": [
    "#### get data"
   ]
  },
  {
   "cell_type": "code",
   "execution_count": 31,
   "metadata": {},
   "outputs": [],
   "source": [
    "seq_datas = []"
   ]
  },
  {
   "cell_type": "code",
   "execution_count": 32,
   "metadata": {},
   "outputs": [
    {
     "name": "stdout",
     "output_type": "stream",
     "text": [
      "Wall time: 4.1 s\n"
     ]
    }
   ],
   "source": [
    "%%time\n",
    "for subject, df_subject in df_identical_balanced.groupby('subject'):\n",
    "    for class_label, df_class in df_subject.groupby('class_label'):\n",
    "        _df = pd.DataFrame(df_class)\n",
    "        seq_data = sequencialize(_df, SEQ_LEN, class_label)\n",
    "        seq_datas.extend(seq_data)"
   ]
  },
  {
   "cell_type": "markdown",
   "metadata": {},
   "source": [
    "#### shuffle data"
   ]
  },
  {
   "cell_type": "code",
   "execution_count": 33,
   "metadata": {},
   "outputs": [],
   "source": [
    "random.shuffle(seq_datas)"
   ]
  },
  {
   "cell_type": "markdown",
   "metadata": {},
   "source": [
    "#### seperate into x and y"
   ]
  },
  {
   "cell_type": "code",
   "execution_count": 34,
   "metadata": {},
   "outputs": [],
   "source": [
    "def lstm_xy_separator(data, start_idx = 0, end_idx = 7):\n",
    "    X = []\n",
    "    y = []\n",
    "    for seq, label in data:\n",
    "        if(start_idx == 0 and end_idx == 7):\n",
    "            X.append(seq)\n",
    "        else:\n",
    "            X.append([attr[start_idx:end_idx] for attr in seq])\n",
    "        y.append(int(label))\n",
    "    return np.array(X), np.array(y)"
   ]
  },
  {
   "cell_type": "code",
   "execution_count": 35,
   "metadata": {},
   "outputs": [
    {
     "name": "stdout",
     "output_type": "stream",
     "text": [
      "Wall time: 10.8 s\n"
     ]
    }
   ],
   "source": [
    "%%time\n",
    "# all feature\n",
    "X_all, y_all = lstm_xy_separator(data=seq_datas)\n",
    "# only base feature\n",
    "X_base, y_base = lstm_xy_separator(data=seq_datas, end_idx=3)\n",
    "# only aggregate feature\n",
    "X_agg, y_agg = lstm_xy_separator(data=seq_datas, start_idx=3)"
   ]
  },
  {
   "cell_type": "markdown",
   "metadata": {},
   "source": [
    "#### data spotlight"
   ]
  },
  {
   "cell_type": "code",
   "execution_count": 36,
   "metadata": {},
   "outputs": [
    {
     "name": "stdout",
     "output_type": "stream",
     "text": [
      "[[0.52601531 0.5141006  0.11373574 0.25277778 0.02222222 0.        ]\n",
      " [0.53527573 0.52016758 0.10531359 0.25277778 0.02222222 0.        ]\n",
      " [0.54453615 0.52623457 0.09689145 0.25277778 0.02222222 0.        ]\n",
      " [0.55379657 0.53230156 0.0884693  0.25277778 0.02222222 0.        ]\n",
      " [0.56383134 0.55940122 0.0505471  0.25277778 0.02222222 0.        ]] \n",
      " [[0.52601531 0.5141006  0.11373574]\n",
      " [0.53527573 0.52016758 0.10531359]\n",
      " [0.54453615 0.52623457 0.09689145]\n",
      " [0.55379657 0.53230156 0.0884693 ]\n",
      " [0.56383134 0.55940122 0.0505471 ]] \n",
      " [[0.25277778 0.02222222 0.        ]\n",
      " [0.25277778 0.02222222 0.        ]\n",
      " [0.25277778 0.02222222 0.        ]\n",
      " [0.25277778 0.02222222 0.        ]\n",
      " [0.25277778 0.02222222 0.        ]]\n"
     ]
    }
   ],
   "source": [
    "print(X_all[100][:5],'\\n',X_base[100][:5],'\\n',X_agg[100][:5])"
   ]
  },
  {
   "cell_type": "code",
   "execution_count": 37,
   "metadata": {},
   "outputs": [
    {
     "name": "stdout",
     "output_type": "stream",
     "text": [
      "1 \n",
      " 1 \n",
      " 1\n"
     ]
    }
   ],
   "source": [
    "print(y_all[100],'\\n',y_base[100],'\\n',y_agg[100])"
   ]
  },
  {
   "cell_type": "markdown",
   "metadata": {},
   "source": [
    "#### save data"
   ]
  },
  {
   "cell_type": "code",
   "execution_count": 38,
   "metadata": {},
   "outputs": [],
   "source": [
    "prefix='datasets/lstm'\n",
    "# all feature\n",
    "np.save(file=f'{prefix}-all-X', arr=X_all)\n",
    "np.save(file=f'{prefix}-all-y', arr=y_all)\n",
    "# only base feature\n",
    "np.save(file=f'{prefix}-base-X', arr=X_base)\n",
    "np.save(file=f'{prefix}-base-y', arr=y_base)\n",
    "# only aggregate feature\n",
    "np.save(file=f'{prefix}-agg-X', arr=X_agg)\n",
    "np.save(file=f'{prefix}-agg-y', arr=y_agg)"
   ]
  },
  {
   "cell_type": "code",
   "execution_count": null,
   "metadata": {},
   "outputs": [],
   "source": []
  }
 ],
 "metadata": {
  "kernelspec": {
   "display_name": "Python 3",
   "language": "python",
   "name": "python3"
  },
  "language_info": {
   "codemirror_mode": {
    "name": "ipython",
    "version": 3
   },
   "file_extension": ".py",
   "mimetype": "text/x-python",
   "name": "python",
   "nbconvert_exporter": "python",
   "pygments_lexer": "ipython3",
   "version": "3.7.7"
  }
 },
 "nbformat": 4,
 "nbformat_minor": 4
}
