{
 "cells": [
  {
   "cell_type": "code",
   "execution_count": 2,
   "metadata": {},
   "outputs": [],
   "source": [
    "import numpy as np\n",
    "import pandas as pd\n",
    "import seaborn as sns\n",
    "import matplotlib.pyplot as plt"
   ]
  },
  {
   "cell_type": "code",
   "execution_count": 3,
   "metadata": {},
   "outputs": [],
   "source": [
    "df = pd.read_csv('calibration.csv')"
   ]
  },
  {
   "cell_type": "code",
   "execution_count": 16,
   "metadata": {},
   "outputs": [
    {
     "data": {
      "text/html": [
       "<div>\n",
       "<style scoped>\n",
       "    .dataframe tbody tr th:only-of-type {\n",
       "        vertical-align: middle;\n",
       "    }\n",
       "\n",
       "    .dataframe tbody tr th {\n",
       "        vertical-align: top;\n",
       "    }\n",
       "\n",
       "    .dataframe thead th {\n",
       "        text-align: right;\n",
       "    }\n",
       "</style>\n",
       "<table border=\"1\" class=\"dataframe\">\n",
       "  <thead>\n",
       "    <tr style=\"text-align: right;\">\n",
       "      <th></th>\n",
       "      <th>penggunaan kacamata</th>\n",
       "      <th>metode</th>\n",
       "      <th>percobaan</th>\n",
       "      <th>mean r-Ear</th>\n",
       "      <th>mean l-Ear</th>\n",
       "      <th>mean mar</th>\n",
       "      <th>std r-Ear</th>\n",
       "      <th>std l-Ear</th>\n",
       "      <th>std mar</th>\n",
       "    </tr>\n",
       "  </thead>\n",
       "  <tbody>\n",
       "    <tr>\n",
       "      <th>0</th>\n",
       "      <td>Kacamata</td>\n",
       "      <td>Tracking</td>\n",
       "      <td>1</td>\n",
       "      <td>0.325327</td>\n",
       "      <td>0.357046</td>\n",
       "      <td>0.042426</td>\n",
       "      <td>0.065532</td>\n",
       "      <td>0.066630</td>\n",
       "      <td>0.036341</td>\n",
       "    </tr>\n",
       "    <tr>\n",
       "      <th>1</th>\n",
       "      <td>Kacamata</td>\n",
       "      <td>Tracking</td>\n",
       "      <td>2</td>\n",
       "      <td>0.314980</td>\n",
       "      <td>0.344161</td>\n",
       "      <td>0.047017</td>\n",
       "      <td>0.060377</td>\n",
       "      <td>0.063436</td>\n",
       "      <td>0.023919</td>\n",
       "    </tr>\n",
       "    <tr>\n",
       "      <th>2</th>\n",
       "      <td>Kacamata</td>\n",
       "      <td>Tracking</td>\n",
       "      <td>3</td>\n",
       "      <td>0.292391</td>\n",
       "      <td>0.324209</td>\n",
       "      <td>0.032336</td>\n",
       "      <td>0.058426</td>\n",
       "      <td>0.052876</td>\n",
       "      <td>0.017434</td>\n",
       "    </tr>\n",
       "    <tr>\n",
       "      <th>3</th>\n",
       "      <td>Tidak Kacamata</td>\n",
       "      <td>Tracking</td>\n",
       "      <td>1</td>\n",
       "      <td>0.300237</td>\n",
       "      <td>0.342778</td>\n",
       "      <td>0.025468</td>\n",
       "      <td>0.075532</td>\n",
       "      <td>0.053649</td>\n",
       "      <td>0.104762</td>\n",
       "    </tr>\n",
       "    <tr>\n",
       "      <th>4</th>\n",
       "      <td>Tidak Kacamata</td>\n",
       "      <td>Tracking</td>\n",
       "      <td>2</td>\n",
       "      <td>0.305834</td>\n",
       "      <td>0.342700</td>\n",
       "      <td>0.017826</td>\n",
       "      <td>0.096330</td>\n",
       "      <td>0.049339</td>\n",
       "      <td>0.023289</td>\n",
       "    </tr>\n",
       "    <tr>\n",
       "      <th>5</th>\n",
       "      <td>Tidak Kacamata</td>\n",
       "      <td>Tracking</td>\n",
       "      <td>3</td>\n",
       "      <td>0.274867</td>\n",
       "      <td>0.313116</td>\n",
       "      <td>0.017524</td>\n",
       "      <td>0.072391</td>\n",
       "      <td>0.059739</td>\n",
       "      <td>0.018721</td>\n",
       "    </tr>\n",
       "    <tr>\n",
       "      <th>6</th>\n",
       "      <td>Kacamata</td>\n",
       "      <td>Tidak Tracking</td>\n",
       "      <td>1</td>\n",
       "      <td>0.299580</td>\n",
       "      <td>0.347430</td>\n",
       "      <td>0.026265</td>\n",
       "      <td>0.046864</td>\n",
       "      <td>0.054988</td>\n",
       "      <td>0.015853</td>\n",
       "    </tr>\n",
       "    <tr>\n",
       "      <th>7</th>\n",
       "      <td>Kacamata</td>\n",
       "      <td>Tidak Tracking</td>\n",
       "      <td>2</td>\n",
       "      <td>0.298345</td>\n",
       "      <td>0.347838</td>\n",
       "      <td>0.031474</td>\n",
       "      <td>0.045603</td>\n",
       "      <td>0.063000</td>\n",
       "      <td>0.021974</td>\n",
       "    </tr>\n",
       "    <tr>\n",
       "      <th>8</th>\n",
       "      <td>Kacamata</td>\n",
       "      <td>Tidak Tracking</td>\n",
       "      <td>3</td>\n",
       "      <td>0.298345</td>\n",
       "      <td>0.360656</td>\n",
       "      <td>0.040184</td>\n",
       "      <td>0.061216</td>\n",
       "      <td>0.073271</td>\n",
       "      <td>0.020625</td>\n",
       "    </tr>\n",
       "    <tr>\n",
       "      <th>9</th>\n",
       "      <td>Tidak Kacamata</td>\n",
       "      <td>Tidak Tracking</td>\n",
       "      <td>1</td>\n",
       "      <td>0.281294</td>\n",
       "      <td>0.330754</td>\n",
       "      <td>0.014617</td>\n",
       "      <td>0.043982</td>\n",
       "      <td>0.048075</td>\n",
       "      <td>0.012607</td>\n",
       "    </tr>\n",
       "    <tr>\n",
       "      <th>10</th>\n",
       "      <td>Tidak Kacamata</td>\n",
       "      <td>Tidak Tracking</td>\n",
       "      <td>2</td>\n",
       "      <td>0.314208</td>\n",
       "      <td>0.371739</td>\n",
       "      <td>0.019171</td>\n",
       "      <td>0.037517</td>\n",
       "      <td>0.045402</td>\n",
       "      <td>0.023113</td>\n",
       "    </tr>\n",
       "    <tr>\n",
       "      <th>11</th>\n",
       "      <td>Tidak Kacamata</td>\n",
       "      <td>Tidak Tracking</td>\n",
       "      <td>3</td>\n",
       "      <td>0.290979</td>\n",
       "      <td>0.353302</td>\n",
       "      <td>0.016470</td>\n",
       "      <td>0.041717</td>\n",
       "      <td>0.050792</td>\n",
       "      <td>0.023061</td>\n",
       "    </tr>\n",
       "  </tbody>\n",
       "</table>\n",
       "</div>"
      ],
      "text/plain": [
       "   penggunaan kacamata          metode  percobaan  mean r-Ear  mean l-Ear  \\\n",
       "0             Kacamata        Tracking          1    0.325327    0.357046   \n",
       "1             Kacamata        Tracking          2    0.314980    0.344161   \n",
       "2             Kacamata        Tracking          3    0.292391    0.324209   \n",
       "3       Tidak Kacamata        Tracking          1    0.300237    0.342778   \n",
       "4       Tidak Kacamata        Tracking          2    0.305834    0.342700   \n",
       "5       Tidak Kacamata        Tracking          3    0.274867    0.313116   \n",
       "6             Kacamata  Tidak Tracking          1    0.299580    0.347430   \n",
       "7             Kacamata  Tidak Tracking          2    0.298345    0.347838   \n",
       "8             Kacamata  Tidak Tracking          3    0.298345    0.360656   \n",
       "9       Tidak Kacamata  Tidak Tracking          1    0.281294    0.330754   \n",
       "10      Tidak Kacamata  Tidak Tracking          2    0.314208    0.371739   \n",
       "11      Tidak Kacamata  Tidak Tracking          3    0.290979    0.353302   \n",
       "\n",
       "    mean mar  std r-Ear  std l-Ear   std mar  \n",
       "0   0.042426   0.065532   0.066630  0.036341  \n",
       "1   0.047017   0.060377   0.063436  0.023919  \n",
       "2   0.032336   0.058426   0.052876  0.017434  \n",
       "3   0.025468   0.075532   0.053649  0.104762  \n",
       "4   0.017826   0.096330   0.049339  0.023289  \n",
       "5   0.017524   0.072391   0.059739  0.018721  \n",
       "6   0.026265   0.046864   0.054988  0.015853  \n",
       "7   0.031474   0.045603   0.063000  0.021974  \n",
       "8   0.040184   0.061216   0.073271  0.020625  \n",
       "9   0.014617   0.043982   0.048075  0.012607  \n",
       "10  0.019171   0.037517   0.045402  0.023113  \n",
       "11  0.016470   0.041717   0.050792  0.023061  "
      ]
     },
     "execution_count": 16,
     "metadata": {},
     "output_type": "execute_result"
    }
   ],
   "source": [
    "df"
   ]
  },
  {
   "cell_type": "code",
   "execution_count": 15,
   "metadata": {},
   "outputs": [
    {
     "data": {
      "text/plain": [
       "<matplotlib.axes._subplots.AxesSubplot at 0x24196afc208>"
      ]
     },
     "execution_count": 15,
     "metadata": {},
     "output_type": "execute_result"
    },
    {
     "data": {
      "image/png": "[encoded data removed]",
      "text/plain": [
       "<Figure size 432x288 with 1 Axes>"
      ]
     },
     "metadata": {
      "needs_background": "light"
     },
     "output_type": "display_data"
    }
   ],
   "source": [
    "sns.barplot(df['mean r-Ear'].values)"
   ]
  },
  {
   "cell_type": "code",
   "execution_count": 34,
   "metadata": {},
   "outputs": [],
   "source": [
    "df_km = df.groupby('penggunaan kacamata').mean().reset_index()"
   ]
  },
  {
   "cell_type": "code",
   "execution_count": 35,
   "metadata": {},
   "outputs": [],
   "source": [
    "df_t = df.groupby('metode').mean().reset_index()"
   ]
  },
  {
   "cell_type": "code",
   "execution_count": 36,
   "metadata": {},
   "outputs": [
    {
     "data": {
      "text/html": [
       "<div>\n",
       "<style scoped>\n",
       "    .dataframe tbody tr th:only-of-type {\n",
       "        vertical-align: middle;\n",
       "    }\n",
       "\n",
       "    .dataframe tbody tr th {\n",
       "        vertical-align: top;\n",
       "    }\n",
       "\n",
       "    .dataframe thead th {\n",
       "        text-align: right;\n",
       "    }\n",
       "</style>\n",
       "<table border=\"1\" class=\"dataframe\">\n",
       "  <thead>\n",
       "    <tr style=\"text-align: right;\">\n",
       "      <th></th>\n",
       "      <th>penggunaan kacamata</th>\n",
       "      <th>percobaan</th>\n",
       "      <th>mean r-Ear</th>\n",
       "      <th>mean l-Ear</th>\n",
       "      <th>mean mar</th>\n",
       "      <th>std r-Ear</th>\n",
       "      <th>std l-Ear</th>\n",
       "      <th>std mar</th>\n",
       "    </tr>\n",
       "  </thead>\n",
       "  <tbody>\n",
       "    <tr>\n",
       "      <th>0</th>\n",
       "      <td>Kacamata</td>\n",
       "      <td>2</td>\n",
       "      <td>0.304828</td>\n",
       "      <td>0.346890</td>\n",
       "      <td>0.036617</td>\n",
       "      <td>0.056336</td>\n",
       "      <td>0.062367</td>\n",
       "      <td>0.022691</td>\n",
       "    </tr>\n",
       "    <tr>\n",
       "      <th>1</th>\n",
       "      <td>Tidak Kacamata</td>\n",
       "      <td>2</td>\n",
       "      <td>0.294570</td>\n",
       "      <td>0.342398</td>\n",
       "      <td>0.018513</td>\n",
       "      <td>0.061245</td>\n",
       "      <td>0.051166</td>\n",
       "      <td>0.034259</td>\n",
       "    </tr>\n",
       "  </tbody>\n",
       "</table>\n",
       "</div>"
      ],
      "text/plain": [
       "  penggunaan kacamata  percobaan  mean r-Ear  mean l-Ear  mean mar  std r-Ear  \\\n",
       "0            Kacamata          2    0.304828    0.346890  0.036617   0.056336   \n",
       "1      Tidak Kacamata          2    0.294570    0.342398  0.018513   0.061245   \n",
       "\n",
       "   std l-Ear   std mar  \n",
       "0   0.062367  0.022691  \n",
       "1   0.051166  0.034259  "
      ]
     },
     "execution_count": 36,
     "metadata": {},
     "output_type": "execute_result"
    }
   ],
   "source": [
    "df_km"
   ]
  },
  {
   "cell_type": "code",
   "execution_count": 37,
   "metadata": {},
   "outputs": [
    {
     "data": {
      "text/html": [
       "<div>\n",
       "<style scoped>\n",
       "    .dataframe tbody tr th:only-of-type {\n",
       "        vertical-align: middle;\n",
       "    }\n",
       "\n",
       "    .dataframe tbody tr th {\n",
       "        vertical-align: top;\n",
       "    }\n",
       "\n",
       "    .dataframe thead th {\n",
       "        text-align: right;\n",
       "    }\n",
       "</style>\n",
       "<table border=\"1\" class=\"dataframe\">\n",
       "  <thead>\n",
       "    <tr style=\"text-align: right;\">\n",
       "      <th></th>\n",
       "      <th>metode</th>\n",
       "      <th>percobaan</th>\n",
       "      <th>mean r-Ear</th>\n",
       "      <th>mean l-Ear</th>\n",
       "      <th>mean mar</th>\n",
       "      <th>std r-Ear</th>\n",
       "      <th>std l-Ear</th>\n",
       "      <th>std mar</th>\n",
       "    </tr>\n",
       "  </thead>\n",
       "  <tbody>\n",
       "    <tr>\n",
       "      <th>0</th>\n",
       "      <td>Tidak Tracking</td>\n",
       "      <td>2</td>\n",
       "      <td>0.297125</td>\n",
       "      <td>0.351953</td>\n",
       "      <td>0.024697</td>\n",
       "      <td>0.046150</td>\n",
       "      <td>0.055921</td>\n",
       "      <td>0.019539</td>\n",
       "    </tr>\n",
       "    <tr>\n",
       "      <th>1</th>\n",
       "      <td>Tracking</td>\n",
       "      <td>2</td>\n",
       "      <td>0.302273</td>\n",
       "      <td>0.337335</td>\n",
       "      <td>0.030433</td>\n",
       "      <td>0.071432</td>\n",
       "      <td>0.057612</td>\n",
       "      <td>0.037411</td>\n",
       "    </tr>\n",
       "  </tbody>\n",
       "</table>\n",
       "</div>"
      ],
      "text/plain": [
       "           metode  percobaan  mean r-Ear  mean l-Ear  mean mar  std r-Ear  \\\n",
       "0  Tidak Tracking          2    0.297125    0.351953  0.024697   0.046150   \n",
       "1        Tracking          2    0.302273    0.337335  0.030433   0.071432   \n",
       "\n",
       "   std l-Ear   std mar  \n",
       "0   0.055921  0.019539  \n",
       "1   0.057612  0.037411  "
      ]
     },
     "execution_count": 37,
     "metadata": {},
     "output_type": "execute_result"
    }
   ],
   "source": [
    "df_t"
   ]
  },
  {
   "cell_type": "code",
   "execution_count": 46,
   "metadata": {},
   "outputs": [
    {
     "data": {
      "text/plain": [
       "<matplotlib.axes._subplots.AxesSubplot at 0x2419bfca508>"
      ]
     },
     "execution_count": 46,
     "metadata": {},
     "output_type": "execute_result"
    },
    {
     "data": {
      "image/png": "[encoded data removed]",
      "text/plain": [
       "<Figure size 1728x576 with 12 Axes>"
      ]
     },
     "metadata": {
      "needs_background": "light"
     },
     "output_type": "display_data"
    }
   ],
   "source": [
    "fig, axis = plt.subplots(2,6,figsize=(24,8), sharey=True)\n",
    "\n",
    "sns.barplot(x='penggunaan kacamata', y='mean r-Ear', data=df_km, ax=axis[0,0])\n",
    "sns.barplot(x='penggunaan kacamata', y='mean l-Ear', data=df_km, ax=axis[0,1])\n",
    "sns.barplot(x='penggunaan kacamata', y='mean mar', data=df_km, ax=axis[0,2])\n",
    "sns.barplot(x='penggunaan kacamata', y='std r-Ear', data=df_km, ax=axis[0,3])\n",
    "sns.barplot(x='penggunaan kacamata', y='std l-Ear', data=df_km, ax=axis[0,4])\n",
    "sns.barplot(x='penggunaan kacamata', y='std mar', data=df_km, ax=axis[0,5])\n",
    "sns.barplot(x='metode', y='mean r-Ear', data=df_t, ax=axis[1,0])\n",
    "sns.barplot(x='metode', y='mean l-Ear', data=df_t, ax=axis[1,1])\n",
    "sns.barplot(x='metode', y='mean mar', data=df_t, ax=axis[1,2])\n",
    "sns.barplot(x='metode', y='std r-Ear', data=df_t, ax=axis[1,3])\n",
    "sns.barplot(x='metode', y='std l-Ear', data=df_t, ax=axis[1,4])\n",
    "sns.barplot(x='metode', y='std mar', data=df_t, ax=axis[1,5])"
   ]
  },
  {
   "cell_type": "code",
   "execution_count": 47,
   "metadata": {},
   "outputs": [
    {
     "data": {
      "text/plain": [
       "percobaan     2.000000\n",
       "mean r-Ear    0.299699\n",
       "mean l-Ear    0.344644\n",
       "mean mar      0.027565\n",
       "std r-Ear     0.058791\n",
       "std l-Ear     0.056766\n",
       "std mar       0.028475\n",
       "dtype: float64"
      ]
     },
     "execution_count": 47,
     "metadata": {},
     "output_type": "execute_result"
    }
   ],
   "source": [
    "df.mean()"
   ]
  },
  {
   "cell_type": "code",
   "execution_count": null,
   "metadata": {},
   "outputs": [],
   "source": []
  }
 ],
 "metadata": {
  "kernelspec": {
   "display_name": "Python 3",
   "language": "python",
   "name": "python3"
  },
  "language_info": {
   "codemirror_mode": {
    "name": "ipython",
    "version": 3
   },
   "file_extension": ".py",
   "mimetype": "text/x-python",
   "name": "python",
   "nbconvert_exporter": "python",
   "pygments_lexer": "ipython3",
   "version": "3.7.7"
  }
 },
 "nbformat": 4,
 "nbformat_minor": 4
}
