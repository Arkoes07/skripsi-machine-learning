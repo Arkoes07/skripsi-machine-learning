{
 "cells": [
  {
   "cell_type": "code",
   "execution_count": 1,
   "metadata": {},
   "outputs": [],
   "source": [
    "import numpy as np\n",
    "import pandas as pd\n",
    "import seaborn as sns\n",
    "import matplotlib.pyplot as plt"
   ]
  },
  {
   "cell_type": "code",
   "execution_count": 2,
   "metadata": {},
   "outputs": [],
   "source": [
    "df = pd.read_csv('condition.csv')"
   ]
  },
  {
   "cell_type": "code",
   "execution_count": 3,
   "metadata": {},
   "outputs": [],
   "source": [
    "df['keberhasilan mata'] = df['keberhasilan mata']/20\n",
    "df['keberhasilan mulut'] = df['keberhasilan mulut']/20"
   ]
  },
  {
   "cell_type": "code",
   "execution_count": 4,
   "metadata": {},
   "outputs": [
    {
     "data": {
      "text/html": [
       "<div>\n",
       "<style scoped>\n",
       "    .dataframe tbody tr th:only-of-type {\n",
       "        vertical-align: middle;\n",
       "    }\n",
       "\n",
       "    .dataframe tbody tr th {\n",
       "        vertical-align: top;\n",
       "    }\n",
       "\n",
       "    .dataframe thead th {\n",
       "        text-align: right;\n",
       "    }\n",
       "</style>\n",
       "<table border=\"1\" class=\"dataframe\">\n",
       "  <thead>\n",
       "    <tr style=\"text-align: right;\">\n",
       "      <th></th>\n",
       "      <th>Metode</th>\n",
       "      <th>percobaan</th>\n",
       "      <th>keberhasilan mata</th>\n",
       "      <th>keberhasilan mulut</th>\n",
       "    </tr>\n",
       "  </thead>\n",
       "  <tbody>\n",
       "    <tr>\n",
       "      <th>0</th>\n",
       "      <td>tanpa pelacakan</td>\n",
       "      <td>1</td>\n",
       "      <td>0.55</td>\n",
       "      <td>0.70</td>\n",
       "    </tr>\n",
       "    <tr>\n",
       "      <th>1</th>\n",
       "      <td>pelacakan 5 frame</td>\n",
       "      <td>1</td>\n",
       "      <td>0.60</td>\n",
       "      <td>0.60</td>\n",
       "    </tr>\n",
       "    <tr>\n",
       "      <th>2</th>\n",
       "      <td>pelacakan 10 frame</td>\n",
       "      <td>1</td>\n",
       "      <td>0.65</td>\n",
       "      <td>0.35</td>\n",
       "    </tr>\n",
       "    <tr>\n",
       "      <th>3</th>\n",
       "      <td>pelacakan 15 frame</td>\n",
       "      <td>1</td>\n",
       "      <td>0.75</td>\n",
       "      <td>0.30</td>\n",
       "    </tr>\n",
       "    <tr>\n",
       "      <th>4</th>\n",
       "      <td>pelacakan 20 frame</td>\n",
       "      <td>1</td>\n",
       "      <td>0.80</td>\n",
       "      <td>0.20</td>\n",
       "    </tr>\n",
       "  </tbody>\n",
       "</table>\n",
       "</div>"
      ],
      "text/plain": [
       "               Metode  percobaan  keberhasilan mata  keberhasilan mulut\n",
       "0     tanpa pelacakan          1               0.55                0.70\n",
       "1   pelacakan 5 frame          1               0.60                0.60\n",
       "2  pelacakan 10 frame          1               0.65                0.35\n",
       "3  pelacakan 15 frame          1               0.75                0.30\n",
       "4  pelacakan 20 frame          1               0.80                0.20"
      ]
     },
     "execution_count": 4,
     "metadata": {},
     "output_type": "execute_result"
    }
   ],
   "source": [
    "df.head()"
   ]
  },
  {
   "cell_type": "code",
   "execution_count": 5,
   "metadata": {},
   "outputs": [],
   "source": [
    "agg_df = df.groupby('Metode').mean().reset_index()"
   ]
  },
  {
   "cell_type": "code",
   "execution_count": 6,
   "metadata": {},
   "outputs": [
    {
     "data": {
      "text/html": [
       "<div>\n",
       "<style scoped>\n",
       "    .dataframe tbody tr th:only-of-type {\n",
       "        vertical-align: middle;\n",
       "    }\n",
       "\n",
       "    .dataframe tbody tr th {\n",
       "        vertical-align: top;\n",
       "    }\n",
       "\n",
       "    .dataframe thead th {\n",
       "        text-align: right;\n",
       "    }\n",
       "</style>\n",
       "<table border=\"1\" class=\"dataframe\">\n",
       "  <thead>\n",
       "    <tr style=\"text-align: right;\">\n",
       "      <th></th>\n",
       "      <th>Metode</th>\n",
       "      <th>percobaan</th>\n",
       "      <th>keberhasilan mata</th>\n",
       "      <th>keberhasilan mulut</th>\n",
       "    </tr>\n",
       "  </thead>\n",
       "  <tbody>\n",
       "    <tr>\n",
       "      <th>0</th>\n",
       "      <td>pelacakan 10 frame</td>\n",
       "      <td>3</td>\n",
       "      <td>0.69</td>\n",
       "      <td>0.38</td>\n",
       "    </tr>\n",
       "    <tr>\n",
       "      <th>1</th>\n",
       "      <td>pelacakan 15 frame</td>\n",
       "      <td>3</td>\n",
       "      <td>0.66</td>\n",
       "      <td>0.36</td>\n",
       "    </tr>\n",
       "    <tr>\n",
       "      <th>2</th>\n",
       "      <td>pelacakan 20 frame</td>\n",
       "      <td>3</td>\n",
       "      <td>0.65</td>\n",
       "      <td>0.26</td>\n",
       "    </tr>\n",
       "    <tr>\n",
       "      <th>3</th>\n",
       "      <td>pelacakan 25 frame</td>\n",
       "      <td>3</td>\n",
       "      <td>0.59</td>\n",
       "      <td>0.28</td>\n",
       "    </tr>\n",
       "    <tr>\n",
       "      <th>4</th>\n",
       "      <td>pelacakan 5 frame</td>\n",
       "      <td>3</td>\n",
       "      <td>0.74</td>\n",
       "      <td>0.59</td>\n",
       "    </tr>\n",
       "  </tbody>\n",
       "</table>\n",
       "</div>"
      ],
      "text/plain": [
       "               Metode  percobaan  keberhasilan mata  keberhasilan mulut\n",
       "0  pelacakan 10 frame          3               0.69                0.38\n",
       "1  pelacakan 15 frame          3               0.66                0.36\n",
       "2  pelacakan 20 frame          3               0.65                0.26\n",
       "3  pelacakan 25 frame          3               0.59                0.28\n",
       "4   pelacakan 5 frame          3               0.74                0.59"
      ]
     },
     "execution_count": 6,
     "metadata": {},
     "output_type": "execute_result"
    }
   ],
   "source": [
    "agg_df.head()"
   ]
  },
  {
   "cell_type": "code",
   "execution_count": 9,
   "metadata": {},
   "outputs": [
    {
     "data": {
      "image/png": "[encoded data removed]",
      "text/plain": [
       "<Figure size 792x216 with 1 Axes>"
      ]
     },
     "metadata": {
      "needs_background": "light"
     },
     "output_type": "display_data"
    }
   ],
   "source": [
    "order = ['tanpa pelacakan','pelacakan 5 frame','pelacakan 10 frame','pelacakan 15 frame','pelacakan 20 frame','pelacakan 25 frame']\n",
    "bplot = sns.barplot(x='Metode', y='keberhasilan mata', data=agg_df, order=order, palette='gray')\n",
    "plt.ylim(0,1)\n",
    "plt.rcParams[\"figure.figsize\"] = (11,3)\n",
    "plt.title(\"Akurasi Keberhasilan Deteteksi Kondisi Mata\")\n",
    "for p in bplot.patches:\n",
    "     bplot.annotate(format(p.get_height(), '.2f'), (p.get_x() + p.get_width() / 2., p.get_height()), ha = 'center', va = 'center', xytext = (0, 10), textcoords = 'offset points')\n",
    "plt.savefig('plots/eye_condition_accuracy.png')"
   ]
  },
  {
   "cell_type": "code",
   "execution_count": 10,
   "metadata": {},
   "outputs": [
    {
     "data": {
      "image/png": "[encoded data removed]",
      "text/plain": [
       "<Figure size 792x216 with 1 Axes>"
      ]
     },
     "metadata": {
      "needs_background": "light"
     },
     "output_type": "display_data"
    }
   ],
   "source": [
    "order = ['tanpa pelacakan','pelacakan 5 frame','pelacakan 10 frame','pelacakan 15 frame','pelacakan 20 frame','pelacakan 25 frame']\n",
    "bplot = sns.barplot(x='Metode', y='keberhasilan mulut', data=agg_df, order=order, palette='gray')\n",
    "plt.ylim(0,1)\n",
    "plt.rcParams[\"figure.figsize\"] = (11,3)\n",
    "plt.title(\"Akurasi Keberhasilan Deteteksi Kondisi Mulut\")\n",
    "for p in bplot.patches:\n",
    "     bplot.annotate(format(p.get_height(), '.2f'), (p.get_x() + p.get_width() / 2., p.get_height()), ha = 'center', va = 'center', xytext = (0, 10), textcoords = 'offset points')\n",
    "plt.savefig('plots/mouth_condition_accuracy.png')"
   ]
  },
  {
   "cell_type": "code",
   "execution_count": null,
   "metadata": {},
   "outputs": [],
   "source": []
  }
 ],
 "metadata": {
  "kernelspec": {
   "display_name": "Python 3",
   "language": "python",
   "name": "python3"
  },
  "language_info": {
   "codemirror_mode": {
    "name": "ipython",
    "version": 3
   },
   "file_extension": ".py",
   "mimetype": "text/x-python",
   "name": "python",
   "nbconvert_exporter": "python",
   "pygments_lexer": "ipython3",
   "version": "3.7.7"
  }
 },
 "nbformat": 4,
 "nbformat_minor": 4
}
