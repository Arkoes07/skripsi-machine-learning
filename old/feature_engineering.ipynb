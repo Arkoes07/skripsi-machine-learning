{
 "cells": [
  {
   "cell_type": "markdown",
   "metadata": {},
   "source": [
    "# Feature Engineering\n",
    "### by: M. Alwi Sukra"
   ]
  },
  {
   "cell_type": "markdown",
   "metadata": {},
   "source": [
    "import library yang dibutuhkan"
   ]
  },
  {
   "cell_type": "code",
   "execution_count": 7,
   "metadata": {},
   "outputs": [],
   "source": [
    "import pandas as pd\n",
    "import numpy as np\n",
    "import matplotlib.pyplot as plt"
   ]
  },
  {
   "cell_type": "markdown",
   "metadata": {},
   "source": [
    "### 1. Get data\n",
    "get data resulting from the preparation step"
   ]
  },
  {
   "cell_type": "code",
   "execution_count": 8,
   "metadata": {},
   "outputs": [],
   "source": [
    "df_feature = pd.read_pickle(\"./prep-out.pkl\")"
   ]
  },
  {
   "cell_type": "code",
   "execution_count": 9,
   "metadata": {},
   "outputs": [
    {
     "data": {
      "text/html": [
       "<div>\n",
       "<style scoped>\n",
       "    .dataframe tbody tr th:only-of-type {\n",
       "        vertical-align: middle;\n",
       "    }\n",
       "\n",
       "    .dataframe tbody tr th {\n",
       "        vertical-align: top;\n",
       "    }\n",
       "\n",
       "    .dataframe thead th {\n",
       "        text-align: right;\n",
       "    }\n",
       "</style>\n",
       "<table border=\"1\" class=\"dataframe\">\n",
       "  <thead>\n",
       "    <tr style=\"text-align: right;\">\n",
       "      <th></th>\n",
       "      <th>subject</th>\n",
       "      <th>class</th>\n",
       "      <th>frame</th>\n",
       "      <th>rEar</th>\n",
       "      <th>lEar</th>\n",
       "      <th>mar</th>\n",
       "    </tr>\n",
       "  </thead>\n",
       "  <tbody>\n",
       "    <tr>\n",
       "      <th>0</th>\n",
       "      <td>60</td>\n",
       "      <td>0</td>\n",
       "      <td>1</td>\n",
       "      <td>0.656274</td>\n",
       "      <td>0.606485</td>\n",
       "      <td>0.025412</td>\n",
       "    </tr>\n",
       "    <tr>\n",
       "      <th>1</th>\n",
       "      <td>60</td>\n",
       "      <td>0</td>\n",
       "      <td>2</td>\n",
       "      <td>0.662613</td>\n",
       "      <td>0.606169</td>\n",
       "      <td>0.052597</td>\n",
       "    </tr>\n",
       "    <tr>\n",
       "      <th>2</th>\n",
       "      <td>60</td>\n",
       "      <td>0</td>\n",
       "      <td>3</td>\n",
       "      <td>0.723689</td>\n",
       "      <td>0.703438</td>\n",
       "      <td>0.035964</td>\n",
       "    </tr>\n",
       "    <tr>\n",
       "      <th>3</th>\n",
       "      <td>60</td>\n",
       "      <td>0</td>\n",
       "      <td>4</td>\n",
       "      <td>0.661827</td>\n",
       "      <td>0.583269</td>\n",
       "      <td>0.052423</td>\n",
       "    </tr>\n",
       "    <tr>\n",
       "      <th>4</th>\n",
       "      <td>60</td>\n",
       "      <td>0</td>\n",
       "      <td>5</td>\n",
       "      <td>0.808087</td>\n",
       "      <td>0.842442</td>\n",
       "      <td>0.068713</td>\n",
       "    </tr>\n",
       "  </tbody>\n",
       "</table>\n",
       "</div>"
      ],
      "text/plain": [
       "   subject  class  frame      rEar      lEar       mar\n",
       "0       60      0      1  0.656274  0.606485  0.025412\n",
       "1       60      0      2  0.662613  0.606169  0.052597\n",
       "2       60      0      3  0.723689  0.703438  0.035964\n",
       "3       60      0      4  0.661827  0.583269  0.052423\n",
       "4       60      0      5  0.808087  0.842442  0.068713"
      ]
     },
     "execution_count": 9,
     "metadata": {},
     "output_type": "execute_result"
    }
   ],
   "source": [
    "df_feature.head()"
   ]
  },
  {
   "cell_type": "markdown",
   "metadata": {},
   "source": [
    "also get fps info for each video for timing purpose"
   ]
  },
  {
   "cell_type": "code",
   "execution_count": 10,
   "metadata": {},
   "outputs": [],
   "source": [
    "df_fps = pd.read_csv('D:/datasets/UTA-RLDD/fps/fps.txt', delimiter=';', names=['subject','class','fps'], index_col=False)\n",
    "df_fps = df_fps.astype({\"class\": int})\n",
    "val_dict = dict([(0, 0), (5, 1), (10,2)])\n",
    "df_fps['class'].replace(val_dict, inplace=True)"
   ]
  },
  {
   "cell_type": "code",
   "execution_count": 11,
   "metadata": {},
   "outputs": [
    {
     "data": {
      "text/html": [
       "<div>\n",
       "<style scoped>\n",
       "    .dataframe tbody tr th:only-of-type {\n",
       "        vertical-align: middle;\n",
       "    }\n",
       "\n",
       "    .dataframe tbody tr th {\n",
       "        vertical-align: top;\n",
       "    }\n",
       "\n",
       "    .dataframe thead th {\n",
       "        text-align: right;\n",
       "    }\n",
       "</style>\n",
       "<table border=\"1\" class=\"dataframe\">\n",
       "  <thead>\n",
       "    <tr style=\"text-align: right;\">\n",
       "      <th></th>\n",
       "      <th>subject</th>\n",
       "      <th>class</th>\n",
       "      <th>fps</th>\n",
       "    </tr>\n",
       "  </thead>\n",
       "  <tbody>\n",
       "    <tr>\n",
       "      <th>0</th>\n",
       "      <td>1</td>\n",
       "      <td>0</td>\n",
       "      <td>29.9689</td>\n",
       "    </tr>\n",
       "    <tr>\n",
       "      <th>1</th>\n",
       "      <td>1</td>\n",
       "      <td>2</td>\n",
       "      <td>29.9689</td>\n",
       "    </tr>\n",
       "    <tr>\n",
       "      <th>2</th>\n",
       "      <td>1</td>\n",
       "      <td>1</td>\n",
       "      <td>29.9689</td>\n",
       "    </tr>\n",
       "    <tr>\n",
       "      <th>3</th>\n",
       "      <td>2</td>\n",
       "      <td>0</td>\n",
       "      <td>29.9689</td>\n",
       "    </tr>\n",
       "    <tr>\n",
       "      <th>4</th>\n",
       "      <td>2</td>\n",
       "      <td>2</td>\n",
       "      <td>29.9689</td>\n",
       "    </tr>\n",
       "  </tbody>\n",
       "</table>\n",
       "</div>"
      ],
      "text/plain": [
       "   subject  class      fps\n",
       "0        1      0  29.9689\n",
       "1        1      2  29.9689\n",
       "2        1      1  29.9689\n",
       "3        2      0  29.9689\n",
       "4        2      2  29.9689"
      ]
     },
     "execution_count": 11,
     "metadata": {},
     "output_type": "execute_result"
    }
   ],
   "source": [
    "df_fps.head()"
   ]
  },
  {
   "cell_type": "markdown",
   "metadata": {},
   "source": [
    "print video duration"
   ]
  },
  {
   "cell_type": "code",
   "execution_count": 12,
   "metadata": {},
   "outputs": [
    {
     "name": "stdout",
     "output_type": "stream",
     "text": [
      "for video class 0, frame for one minute = 1791.96 so the duration is 10.075001674144513 minutes\n",
      "for video class 1, frame for one minute = 1738.812 so the duration is 10.083321256121996 minutes\n",
      "for video class 2, frame for one minute = 1776.384 so the duration is 10.460013150309843 minutes\n"
     ]
    }
   ],
   "source": [
    "groups = df_feature.groupby('class')\n",
    "for idx_class, df_class in groups:\n",
    "    fps = df_fps.loc[(df_fps['subject'] == 60) & (df_fps['class'] == idx_class)].fps.values[0]\n",
    "    duration_second = len(df_class)/fps\n",
    "    frame_for_one_minute = fps*60\n",
    "    print(f'for video class {idx_class}, frame for one minute = {frame_for_one_minute} so the duration is {duration_second/60} minutes')"
   ]
  },
  {
   "cell_type": "markdown",
   "metadata": {},
   "source": [
    "### 2. Feature"
   ]
  },
  {
   "cell_type": "markdown",
   "metadata": {},
   "source": [
    "Get dataframe by class, and set index to timeframe"
   ]
  },
  {
   "cell_type": "code",
   "execution_count": 13,
   "metadata": {},
   "outputs": [],
   "source": [
    "class_0_df = groups.get_group(0).set_index('frame')\n",
    "class_1_df = groups.get_group(1).set_index('frame')\n",
    "class_2_df = groups.get_group(2).set_index('frame')"
   ]
  },
  {
   "cell_type": "markdown",
   "metadata": {},
   "source": [
    "Function to calculate **perclos** in dataframe"
   ]
  },
  {
   "cell_type": "code",
   "execution_count": 14,
   "metadata": {},
   "outputs": [],
   "source": [
    "def calculate_perclos(df, window_size, eye_threshold):\n",
    "    df['eye_closed'] = 0\n",
    "    df.loc[(df['rEar'] < eye_threshold) & (df['lEar'] < eye_threshold), 'eye_closed'] = 1\n",
    "    start_frame = 1\n",
    "    for current_idx in range(window_size+1,len(df)+1):\n",
    "        stop_frame = current_idx - 1\n",
    "        df.loc[current_idx,'perclos'] = df.loc[start_frame:stop_frame,'eye_closed'].eq(1).sum() / window_size\n",
    "        start_frame = start_frame + 1  \n",
    "    df.drop(['eye_closed'], axis=1, inplace=True)\n",
    "    return df"
   ]
  },
  {
   "cell_type": "markdown",
   "metadata": {},
   "source": [
    "function to track **consecutive** eye closed and mouth opened"
   ]
  },
  {
   "cell_type": "code",
   "execution_count": 15,
   "metadata": {},
   "outputs": [],
   "source": [
    "def track_consecutive(df, eye_threshold, mouth_threshold):\n",
    "    # default value\n",
    "    df['btb_eye_closed'] = 0\n",
    "    df['btb_mouth_opened'] = 0\n",
    "    # check if eye closed and mouth open\n",
    "    df.loc[(df['rEar'] < eye_threshold) & (df['lEar'] < eye_threshold), 'btb_eye_closed'] = 1\n",
    "    df.loc[df['mar'] > mouth_threshold, 'btb_mouth_opened'] = 1\n",
    "    # track consecutive\n",
    "    eye = df['btb_eye_closed']\n",
    "    mouth = df['btb_mouth_opened']\n",
    "    df['btb_eye_closed'] = eye * (eye.groupby((eye != eye.shift()).cumsum()).cumcount() + 1)\n",
    "    df['btb_mouth_opened'] = mouth * (mouth.groupby((mouth != mouth.shift()).cumsum()).cumcount() + 1)\n",
    "    return df"
   ]
  },
  {
   "cell_type": "markdown",
   "metadata": {},
   "source": [
    "function to compute **microsleep and yawning** event rate (event) occured in some minutes length"
   ]
  },
  {
   "cell_type": "code",
   "execution_count": 16,
   "metadata": {},
   "outputs": [],
   "source": [
    "def calculate_event_rate(df, window_size, fps, btb_microsleep, btb_yawning):\n",
    "    start_frame = 1\n",
    "    for current_idx in range(window_size+1,len(df)+1):\n",
    "        stop_frame = current_idx - 1\n",
    "        df.loc[current_idx,'microsleep_rate'] = df.loc[start_frame:stop_frame,'btb_eye_closed'].eq(btb_microsleep).sum() / (window_size/fps)\n",
    "        df.loc[current_idx,'yawning_rate'] = df.loc[start_frame:stop_frame,'btb_mouth_opened'].eq(btb_yawning).sum() / (window_size/fps)\n",
    "        start_frame = start_frame + 1  \n",
    "    return df"
   ]
  },
  {
   "cell_type": "markdown",
   "metadata": {},
   "source": [
    "function that combine 3 above function into one function"
   ]
  },
  {
   "cell_type": "code",
   "execution_count": 17,
   "metadata": {},
   "outputs": [],
   "source": [
    "def feature(df, fps, minutes_length, eye_threshold, mouth_threshold, btb_microsleep, btb_yawning):\n",
    "    window_size = int(fps * 60 * minutes_length)\n",
    "    df = calculate_perclos(df, window_size, eye_threshold)\n",
    "    df = track_consecutive(df, eye_threshold, mouth_threshold)\n",
    "    df = calculate_event_rate(df, window_size, fps, btb_microsleep, btb_yawning)\n",
    "    df.drop(['btb_eye_closed', 'btb_mouth_opened'], axis=1, inplace=True)\n",
    "    return df"
   ]
  },
  {
   "cell_type": "markdown",
   "metadata": {},
   "source": [
    "run function"
   ]
  },
  {
   "cell_type": "code",
   "execution_count": 18,
   "metadata": {},
   "outputs": [
    {
     "name": "stdout",
     "output_type": "stream",
     "text": [
      "Wall time: 3min 46s\n"
     ]
    }
   ],
   "source": [
    "%%time\n",
    "# several variable\n",
    "minutes_length = 3\n",
    "eye_threshold = 0.5\n",
    "mouth_threshold = 0.5\n",
    "fps = df_fps.loc[(df_fps['subject'] == 60) & (df_fps['class'] == 0)].fps.values[0]\n",
    "btb_microsleep = int(fps) # 1 detik\n",
    "btb_yawning = int(fps * 6) # 6 detik\n",
    "# run for each class\n",
    "class_0_df = feature(class_0_df, fps, minutes_length, eye_threshold, mouth_threshold, btb_microsleep, btb_yawning)\n",
    "class_1_df = feature(class_1_df, fps, minutes_length, eye_threshold, mouth_threshold, btb_microsleep, btb_yawning)\n",
    "class_2_df = feature(class_2_df, fps, minutes_length, eye_threshold, mouth_threshold, btb_microsleep, btb_yawning)"
   ]
  },
  {
   "cell_type": "code",
   "execution_count": 19,
   "metadata": {},
   "outputs": [
    {
     "data": {
      "text/html": [
       "<div>\n",
       "<style scoped>\n",
       "    .dataframe tbody tr th:only-of-type {\n",
       "        vertical-align: middle;\n",
       "    }\n",
       "\n",
       "    .dataframe tbody tr th {\n",
       "        vertical-align: top;\n",
       "    }\n",
       "\n",
       "    .dataframe thead th {\n",
       "        text-align: right;\n",
       "    }\n",
       "</style>\n",
       "<table border=\"1\" class=\"dataframe\">\n",
       "  <thead>\n",
       "    <tr style=\"text-align: right;\">\n",
       "      <th></th>\n",
       "      <th>subject</th>\n",
       "      <th>class</th>\n",
       "      <th>rEar</th>\n",
       "      <th>lEar</th>\n",
       "      <th>mar</th>\n",
       "      <th>perclos</th>\n",
       "      <th>microsleep_rate</th>\n",
       "      <th>yawning_rate</th>\n",
       "    </tr>\n",
       "    <tr>\n",
       "      <th>frame</th>\n",
       "      <th></th>\n",
       "      <th></th>\n",
       "      <th></th>\n",
       "      <th></th>\n",
       "      <th></th>\n",
       "      <th></th>\n",
       "      <th></th>\n",
       "      <th></th>\n",
       "    </tr>\n",
       "  </thead>\n",
       "  <tbody>\n",
       "    <tr>\n",
       "      <th>1</th>\n",
       "      <td>60</td>\n",
       "      <td>2</td>\n",
       "      <td>0.478260</td>\n",
       "      <td>0.529179</td>\n",
       "      <td>0.038887</td>\n",
       "      <td>NaN</td>\n",
       "      <td>NaN</td>\n",
       "      <td>NaN</td>\n",
       "    </tr>\n",
       "    <tr>\n",
       "      <th>2</th>\n",
       "      <td>60</td>\n",
       "      <td>2</td>\n",
       "      <td>0.383731</td>\n",
       "      <td>0.513765</td>\n",
       "      <td>0.060113</td>\n",
       "      <td>NaN</td>\n",
       "      <td>NaN</td>\n",
       "      <td>NaN</td>\n",
       "    </tr>\n",
       "    <tr>\n",
       "      <th>3</th>\n",
       "      <td>60</td>\n",
       "      <td>2</td>\n",
       "      <td>0.524658</td>\n",
       "      <td>0.578807</td>\n",
       "      <td>0.035523</td>\n",
       "      <td>NaN</td>\n",
       "      <td>NaN</td>\n",
       "      <td>NaN</td>\n",
       "    </tr>\n",
       "    <tr>\n",
       "      <th>4</th>\n",
       "      <td>60</td>\n",
       "      <td>2</td>\n",
       "      <td>0.369651</td>\n",
       "      <td>0.433534</td>\n",
       "      <td>0.048409</td>\n",
       "      <td>NaN</td>\n",
       "      <td>NaN</td>\n",
       "      <td>NaN</td>\n",
       "    </tr>\n",
       "    <tr>\n",
       "      <th>5</th>\n",
       "      <td>60</td>\n",
       "      <td>2</td>\n",
       "      <td>0.492733</td>\n",
       "      <td>0.513923</td>\n",
       "      <td>0.025608</td>\n",
       "      <td>NaN</td>\n",
       "      <td>NaN</td>\n",
       "      <td>NaN</td>\n",
       "    </tr>\n",
       "  </tbody>\n",
       "</table>\n",
       "</div>"
      ],
      "text/plain": [
       "       subject  class      rEar      lEar       mar  perclos  microsleep_rate  \\\n",
       "frame                                                                           \n",
       "1           60      2  0.478260  0.529179  0.038887      NaN              NaN   \n",
       "2           60      2  0.383731  0.513765  0.060113      NaN              NaN   \n",
       "3           60      2  0.524658  0.578807  0.035523      NaN              NaN   \n",
       "4           60      2  0.369651  0.433534  0.048409      NaN              NaN   \n",
       "5           60      2  0.492733  0.513923  0.025608      NaN              NaN   \n",
       "\n",
       "       yawning_rate  \n",
       "frame                \n",
       "1               NaN  \n",
       "2               NaN  \n",
       "3               NaN  \n",
       "4               NaN  \n",
       "5               NaN  "
      ]
     },
     "execution_count": 19,
     "metadata": {},
     "output_type": "execute_result"
    }
   ],
   "source": [
    "class_2_df.head()"
   ]
  },
  {
   "cell_type": "code",
   "execution_count": 20,
   "metadata": {},
   "outputs": [],
   "source": [
    "# container for data going to be plotted\n",
    "data = {'perclos':np.empty(3, dtype=object), 'microsleep_rate':np.empty(3, dtype=object), 'yawning_rate':np.empty(3, dtype=object)}\n",
    "keys = [*data]\n",
    "# clearna\n",
    "class_0_df.dropna(inplace=True)\n",
    "class_1_df.dropna(inplace=True)\n",
    "class_2_df.dropna(inplace=True)\n",
    "# get data\n",
    "data['perclos'][0] = class_0_df['perclos'].values\n",
    "data['perclos'][1] = class_1_df['perclos'].values\n",
    "data['perclos'][2] = class_2_df['perclos'].values\n",
    "data['microsleep_rate'][0] = class_0_df['microsleep_rate'].values\n",
    "data['microsleep_rate'][1] = class_1_df['microsleep_rate'].values\n",
    "data['microsleep_rate'][2] = class_2_df['microsleep_rate'].values\n",
    "data['yawning_rate'][0] = class_0_df['yawning_rate'].values\n",
    "data['yawning_rate'][1] = class_1_df['yawning_rate'].values\n",
    "data['yawning_rate'][2] = class_2_df['yawning_rate'].values"
   ]
  },
  {
   "cell_type": "code",
   "execution_count": 21,
   "metadata": {},
   "outputs": [
    {
     "data": {
      "image/png": "[encoded data removed]",
      "text/plain": [
       "<Figure size 720x720 with 3 Axes>"
      ]
     },
     "metadata": {
      "needs_background": "light"
     },
     "output_type": "display_data"
    }
   ],
   "source": [
    "fig, ax = plt.subplots(3, 1, sharey=True, figsize = (10,10))\n",
    "\n",
    "for i in range(3):\n",
    "    ax[i].set_xticklabels([0,1,2])\n",
    "    ax[i].set_ylabel(keys[i])\n",
    "    ax[i].boxplot(data[keys[i]])"
   ]
  },
  {
   "cell_type": "code",
   "execution_count": null,
   "metadata": {},
   "outputs": [],
   "source": []
  }
 ],
 "metadata": {
  "kernelspec": {
   "display_name": "Python 3",
   "language": "python",
   "name": "python3"
  },
  "language_info": {
   "codemirror_mode": {
    "name": "ipython",
    "version": 3
   },
   "file_extension": ".py",
   "mimetype": "text/x-python",
   "name": "python",
   "nbconvert_exporter": "python",
   "pygments_lexer": "ipython3",
   "version": "3.7.7"
  }
 },
 "nbformat": 4,
 "nbformat_minor": 4
}
