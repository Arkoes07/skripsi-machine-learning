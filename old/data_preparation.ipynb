{
 "cells": [
  {
   "cell_type": "markdown",
   "metadata": {},
   "source": [
    "Import useful modules"
   ]
  },
  {
   "cell_type": "code",
   "execution_count": 1,
   "metadata": {},
   "outputs": [],
   "source": [
    "import os\n",
    "import time\n",
    "import scipy\n",
    "import pandas as pd\n",
    "import numpy as np \n",
    "import matplotlib.pyplot as plt\n",
    "from sklearn.preprocessing import MinMaxScaler\n",
    "# custom module frpm ./mymodul.py\n",
    "from mymodule import Preprocess"
   ]
  },
  {
   "cell_type": "markdown",
   "metadata": {},
   "source": [
    "Declare path of the resources going to be used"
   ]
  },
  {
   "cell_type": "code",
   "execution_count": 2,
   "metadata": {},
   "outputs": [],
   "source": [
    "# input\n",
    "DATASET_PATH = \"D:/datasets/UTA-RLDD/csv/\"\n",
    "FPS_INFO_PATH = \"D:/datasets/UTA-RLDD/fps/fps.txt\"\n",
    "# output\n",
    "BASE_PATH = \"dataset/base/\"\n",
    "BASE_DERIVED_PATH = \"dataset/base_derived/\"\n",
    "SEQ_BASE_PATH = \"dataset/seq_base/\"\n",
    "SEQ_BASE_DERIVED_PATH = \"dataset/seq_base_derived/\""
   ]
  },
  {
   "cell_type": "markdown",
   "metadata": {},
   "source": [
    "Declare constant variable"
   ]
  },
  {
   "cell_type": "code",
   "execution_count": 3,
   "metadata": {},
   "outputs": [],
   "source": [
    "MINUTES_LENGTH = 3 # will be used as window length for calculate accumulative features and sequential window length \n",
    "EYE_THRESHOLD = 0.5\n",
    "MOUTH_THRESHOLD = 0.5\n",
    "RATIO_THRESHOLD = 0.1 # will be used to eliminate subject csv's if there is a NaN percentage more than this value\n",
    "BTB_MICROSLEEP_SECOND = 1\n",
    "BTB_YAWNING_SECOND = 6\n",
    "NEW_FPS = 3\n",
    "SEQ_LEN = int(NEW_FPS * 60 * MINUTES_LENGTH)"
   ]
  },
  {
   "cell_type": "markdown",
   "metadata": {},
   "source": [
    "Config preprocess module"
   ]
  },
  {
   "cell_type": "code",
   "execution_count": 4,
   "metadata": {},
   "outputs": [],
   "source": [
    "Preprocess.config(EYE_THRESHOLD, MOUTH_THRESHOLD, BTB_MICROSLEEP_SECOND, BTB_YAWNING_SECOND)"
   ]
  },
  {
   "cell_type": "markdown",
   "metadata": {},
   "source": [
    "Get FPS information for each video"
   ]
  },
  {
   "cell_type": "code",
   "execution_count": 5,
   "metadata": {},
   "outputs": [
    {
     "data": {
      "text/html": [
       "<div>\n",
       "<style scoped>\n",
       "    .dataframe tbody tr th:only-of-type {\n",
       "        vertical-align: middle;\n",
       "    }\n",
       "\n",
       "    .dataframe tbody tr th {\n",
       "        vertical-align: top;\n",
       "    }\n",
       "\n",
       "    .dataframe thead th {\n",
       "        text-align: right;\n",
       "    }\n",
       "</style>\n",
       "<table border=\"1\" class=\"dataframe\">\n",
       "  <thead>\n",
       "    <tr style=\"text-align: right;\">\n",
       "      <th></th>\n",
       "      <th>subject</th>\n",
       "      <th>class</th>\n",
       "      <th>fps</th>\n",
       "    </tr>\n",
       "  </thead>\n",
       "  <tbody>\n",
       "    <tr>\n",
       "      <th>0</th>\n",
       "      <td>1</td>\n",
       "      <td>0</td>\n",
       "      <td>29.9689</td>\n",
       "    </tr>\n",
       "    <tr>\n",
       "      <th>1</th>\n",
       "      <td>1</td>\n",
       "      <td>2</td>\n",
       "      <td>29.9689</td>\n",
       "    </tr>\n",
       "    <tr>\n",
       "      <th>2</th>\n",
       "      <td>1</td>\n",
       "      <td>1</td>\n",
       "      <td>29.9689</td>\n",
       "    </tr>\n",
       "    <tr>\n",
       "      <th>3</th>\n",
       "      <td>2</td>\n",
       "      <td>0</td>\n",
       "      <td>29.9689</td>\n",
       "    </tr>\n",
       "    <tr>\n",
       "      <th>4</th>\n",
       "      <td>2</td>\n",
       "      <td>2</td>\n",
       "      <td>29.9689</td>\n",
       "    </tr>\n",
       "  </tbody>\n",
       "</table>\n",
       "</div>"
      ],
      "text/plain": [
       "   subject  class      fps\n",
       "0        1      0  29.9689\n",
       "1        1      2  29.9689\n",
       "2        1      1  29.9689\n",
       "3        2      0  29.9689\n",
       "4        2      2  29.9689"
      ]
     },
     "execution_count": 5,
     "metadata": {},
     "output_type": "execute_result"
    }
   ],
   "source": [
    "df_fps = pd.read_csv(FPS_INFO_PATH, delimiter=';', names=['subject','class','fps'], index_col=False)\n",
    "df_fps = df_fps.astype({\"class\": int})\n",
    "df_fps = Preprocess.changeClassLabel(df_fps, False)\n",
    "df_fps.head()"
   ]
  },
  {
   "cell_type": "markdown",
   "metadata": {},
   "source": [
    "loop through csv dataset folder, for each subject, create four types of data"
   ]
  },
  {
   "cell_type": "code",
   "execution_count": 6,
   "metadata": {},
   "outputs": [
    {
     "name": "stdout",
     "output_type": "stream",
     "text": [
      "processing finished for 01.csv\n",
      "processing finished for 02.csv\n",
      "processing finished for 03.csv\n",
      "processing finished for 04.csv\n",
      "processing finished for 05.csv\n",
      "processing finished for 06.csv\n",
      "processing finished for 07.csv\n",
      "processing finished for 08.csv\n",
      "processing finished for 09.csv\n",
      "processing finished for 10.csv\n",
      "processing failed for 11.csv, there is more than 10% NaN values exists, continue to next file\n",
      "processing finished for 12.csv\n",
      "processing finished for 13.csv\n",
      "processing finished for 14.csv\n",
      "processing finished for 15.csv\n",
      "processing finished for 16.csv\n",
      "processing finished for 17.csv\n",
      "processing finished for 18.csv\n",
      "processing finished for 19.csv\n",
      "processing finished for 20.csv\n",
      "processing finished for 21.csv\n",
      "processing finished for 22.csv\n",
      "processing failed for 23.csv, there is more than 10% NaN values exists, continue to next file\n",
      "processing finished for 24.csv\n",
      "processing finished for 25.csv\n",
      "processing finished for 26.csv\n",
      "processing finished for 27.csv\n",
      "processing finished for 28.csv\n",
      "processing finished for 29.csv\n",
      "processing finished for 30.csv\n",
      "processing finished for 31.csv\n",
      "processing finished for 32.csv\n",
      "processing finished for 33.csv\n",
      "processing finished for 34.csv\n",
      "processing finished for 35.csv\n",
      "processing finished for 36.csv\n",
      "processing finished for 37.csv\n",
      "processing finished for 38.csv\n",
      "processing finished for 39.csv\n",
      "processing finished for 40.csv\n",
      "processing finished for 41.csv\n",
      "processing finished for 42.csv\n",
      "processing finished for 43.csv\n",
      "processing finished for 44.csv\n",
      "processing finished for 45.csv\n",
      "processing finished for 46.csv\n",
      "processing finished for 47.csv\n",
      "processing failed for 48.csv, there is more than 10% NaN values exists, continue to next file\n",
      "processing failed for 49.csv, there is more than 10% NaN values exists, continue to next file\n",
      "processing finished for 50.csv\n",
      "processing finished for 51.csv\n",
      "processing finished for 52.csv\n",
      "processing finished for 53.csv\n",
      "processing failed for 54.csv, there is more than 10% NaN values exists, continue to next file\n",
      "processing finished for 55.csv\n",
      "processing finished for 56.csv\n",
      "processing finished for 57.csv\n",
      "processing finished for 58.csv\n",
      "processing finished for 59.csv\n",
      "processing finished for 60.csv\n",
      "Wall time: 9min 2s\n"
     ]
    }
   ],
   "source": [
    "%%time\n",
    "for filename in os.listdir(DATASET_PATH):\n",
    "    if filename.endswith('.csv'):\n",
    "        subject = int(filename[:2])\n",
    "        filepath = DATASET_PATH + filename\n",
    "        \n",
    "        # create dataframe from csv\n",
    "        df = pd.read_csv(filepath, delimiter=';', names=['subject','class','frame','rEar','lEar','mar'])\n",
    "        df = Preprocess.changeClassLabel(df)\n",
    "        \n",
    "        # pass or failed the NaN ratio test\n",
    "        if not Preprocess.isSufficient(df, RATIO_THRESHOLD):\n",
    "            # failed, there is more than 10 percent NaN values, continue to next failed\n",
    "            print(f\"processing failed for {filename}, there is more than 10% NaN values exists, continue to next file\")\n",
    "            continue\n",
    "            \n",
    "        # fill the NaN value and transform data\n",
    "        df.fillna(method=\"ffill\", inplace=True)\n",
    "        df.fillna(method=\"bfill\", inplace=True)\n",
    "        df = Preprocess.transform(df)\n",
    "        \n",
    "        # data containers\n",
    "        container_base = []\n",
    "        container_seq_base = []\n",
    "        container_base_derived = []\n",
    "        container_seq_base_derived = []\n",
    "        \n",
    "        # Loops through eaach class\n",
    "        groups = df.groupby(\"class\")\n",
    "        for idx_class in range(3):\n",
    "            # DataFrame for each class\n",
    "            df_class = groups.get_group(idx_class).set_index('frame')\n",
    "            # get fps for this subject and class\n",
    "            fps = df_fps.loc[(df_fps[\"class\"] == idx_class) & (df_fps[\"subject\"] == subject)].fps.values[0]\n",
    "            # lowering fps, so that sequential data doesnt have so much data to save and process\n",
    "            df_class = Preprocess.change_fps(df_class, fps, NEW_FPS)\n",
    "            \n",
    "            # Save Base Data\n",
    "            container_base.append(df_class.iloc[:,2:].values)\n",
    "             \n",
    "            # Make sequential and save Seq Base Data\n",
    "            container_seq_base.append(Preprocess.sequencialize(df_class, SEQ_LEN))\n",
    "            \n",
    "            # perform feature engineering\n",
    "            df_class = Preprocess.feature(df_class, NEW_FPS, MINUTES_LENGTH)\n",
    "             \n",
    "            #Save Base Derived Data\n",
    "            container_base_derived.append(df_class.iloc[:,2:].values)\n",
    "            \n",
    "            #Make sequential and save Seq Base Derived Data\n",
    "            container_seq_base_derived.append(Preprocess.sequencialize(df_class, SEQ_LEN))\n",
    "            \n",
    "        np.save(file=f'{BASE_PATH}{filename[:2]}', arr=Preprocess.balancing_labelling(container_base))\n",
    "        np.save(file=f'{BASE_DERIVED_PATH}{filename[:2]}', arr=Preprocess.balancing_labelling(container_base_derived))\n",
    "        np.save(file=f'{SEQ_BASE_PATH}{filename[:2]}', arr=Preprocess.balancing_labelling(container_seq_base))\n",
    "        np.save(file=f'{SEQ_BASE_DERIVED_PATH}{filename[:2]}', arr=Preprocess.balancing_labelling(container_seq_base_derived))\n",
    "        \n",
    "        print(f\"processing finished for {filename}\")"
   ]
  },
  {
   "cell_type": "code",
   "execution_count": null,
   "metadata": {},
   "outputs": [],
   "source": []
  }
 ],
 "metadata": {
  "kernelspec": {
   "display_name": "Python 3",
   "language": "python",
   "name": "python3"
  },
  "language_info": {
   "codemirror_mode": {
    "name": "ipython",
    "version": 3
   },
   "file_extension": ".py",
   "mimetype": "text/x-python",
   "name": "python",
   "nbconvert_exporter": "python",
   "pygments_lexer": "ipython3",
   "version": "3.7.7"
  }
 },
 "nbformat": 4,
 "nbformat_minor": 4
}
