{
 "cells": [
  {
   "cell_type": "code",
   "execution_count": 5,
   "metadata": {},
   "outputs": [],
   "source": [
    "import random\n",
    "import numpy as np\n",
    "import pandas as pd\n",
    "import tensorflow as tf"
   ]
  },
  {
   "cell_type": "markdown",
   "metadata": {},
   "source": [
    "### 1. Get the data"
   ]
  },
  {
   "cell_type": "markdown",
   "metadata": {},
   "source": [
    "read from pickle which is the output from preprocessing.py"
   ]
  },
  {
   "cell_type": "code",
   "execution_count": 6,
   "metadata": {},
   "outputs": [],
   "source": [
    "df_class_0 = pd.read_pickle(\"./preprocessed-data/class_0.pkl\")\n",
    "df_class_1 = pd.read_pickle(\"./preprocessed-data/class_1.pkl\")\n",
    "df_class_2 = pd.read_pickle(\"./preprocessed-data/class_2.pkl\")"
   ]
  },
  {
   "cell_type": "markdown",
   "metadata": {},
   "source": [
    "Data quick look"
   ]
  },
  {
   "cell_type": "code",
   "execution_count": 7,
   "metadata": {},
   "outputs": [
    {
     "data": {
      "text/html": [
       "<div>\n",
       "<style scoped>\n",
       "    .dataframe tbody tr th:only-of-type {\n",
       "        vertical-align: middle;\n",
       "    }\n",
       "\n",
       "    .dataframe tbody tr th {\n",
       "        vertical-align: top;\n",
       "    }\n",
       "\n",
       "    .dataframe thead th {\n",
       "        text-align: right;\n",
       "    }\n",
       "</style>\n",
       "<table border=\"1\" class=\"dataframe\">\n",
       "  <thead>\n",
       "    <tr style=\"text-align: right;\">\n",
       "      <th></th>\n",
       "      <th>class</th>\n",
       "      <th>rEar</th>\n",
       "      <th>lEar</th>\n",
       "      <th>mar</th>\n",
       "      <th>perclos</th>\n",
       "      <th>microsleep_rate</th>\n",
       "      <th>yawning_rate</th>\n",
       "    </tr>\n",
       "  </thead>\n",
       "  <tbody>\n",
       "    <tr>\n",
       "      <th>count</th>\n",
       "      <td>674668.0</td>\n",
       "      <td>674668.000000</td>\n",
       "      <td>674668.000000</td>\n",
       "      <td>674668.000000</td>\n",
       "      <td>674668.000000</td>\n",
       "      <td>674668.000000</td>\n",
       "      <td>674668.0</td>\n",
       "    </tr>\n",
       "    <tr>\n",
       "      <th>mean</th>\n",
       "      <td>0.0</td>\n",
       "      <td>0.606884</td>\n",
       "      <td>0.603751</td>\n",
       "      <td>0.126231</td>\n",
       "      <td>0.194997</td>\n",
       "      <td>0.022779</td>\n",
       "      <td>0.0</td>\n",
       "    </tr>\n",
       "    <tr>\n",
       "      <th>std</th>\n",
       "      <td>0.0</td>\n",
       "      <td>0.164535</td>\n",
       "      <td>0.158557</td>\n",
       "      <td>0.141144</td>\n",
       "      <td>0.257503</td>\n",
       "      <td>0.047628</td>\n",
       "      <td>0.0</td>\n",
       "    </tr>\n",
       "    <tr>\n",
       "      <th>min</th>\n",
       "      <td>0.0</td>\n",
       "      <td>0.000000</td>\n",
       "      <td>0.000000</td>\n",
       "      <td>0.000000</td>\n",
       "      <td>0.000370</td>\n",
       "      <td>0.000000</td>\n",
       "      <td>0.0</td>\n",
       "    </tr>\n",
       "    <tr>\n",
       "      <th>25%</th>\n",
       "      <td>0.0</td>\n",
       "      <td>0.510882</td>\n",
       "      <td>0.508743</td>\n",
       "      <td>0.025389</td>\n",
       "      <td>0.032258</td>\n",
       "      <td>0.000000</td>\n",
       "      <td>0.0</td>\n",
       "    </tr>\n",
       "    <tr>\n",
       "      <th>50%</th>\n",
       "      <td>0.0</td>\n",
       "      <td>0.625695</td>\n",
       "      <td>0.622814</td>\n",
       "      <td>0.064654</td>\n",
       "      <td>0.084909</td>\n",
       "      <td>0.000000</td>\n",
       "      <td>0.0</td>\n",
       "    </tr>\n",
       "    <tr>\n",
       "      <th>75%</th>\n",
       "      <td>0.0</td>\n",
       "      <td>0.718808</td>\n",
       "      <td>0.708880</td>\n",
       "      <td>0.191937</td>\n",
       "      <td>0.213462</td>\n",
       "      <td>0.016668</td>\n",
       "      <td>0.0</td>\n",
       "    </tr>\n",
       "    <tr>\n",
       "      <th>max</th>\n",
       "      <td>0.0</td>\n",
       "      <td>1.000000</td>\n",
       "      <td>1.000000</td>\n",
       "      <td>1.000000</td>\n",
       "      <td>0.998520</td>\n",
       "      <td>0.272257</td>\n",
       "      <td>0.0</td>\n",
       "    </tr>\n",
       "  </tbody>\n",
       "</table>\n",
       "</div>"
      ],
      "text/plain": [
       "          class           rEar           lEar            mar        perclos  \\\n",
       "count  674668.0  674668.000000  674668.000000  674668.000000  674668.000000   \n",
       "mean        0.0       0.606884       0.603751       0.126231       0.194997   \n",
       "std         0.0       0.164535       0.158557       0.141144       0.257503   \n",
       "min         0.0       0.000000       0.000000       0.000000       0.000370   \n",
       "25%         0.0       0.510882       0.508743       0.025389       0.032258   \n",
       "50%         0.0       0.625695       0.622814       0.064654       0.084909   \n",
       "75%         0.0       0.718808       0.708880       0.191937       0.213462   \n",
       "max         0.0       1.000000       1.000000       1.000000       0.998520   \n",
       "\n",
       "       microsleep_rate  yawning_rate  \n",
       "count    674668.000000      674668.0  \n",
       "mean          0.022779           0.0  \n",
       "std           0.047628           0.0  \n",
       "min           0.000000           0.0  \n",
       "25%           0.000000           0.0  \n",
       "50%           0.000000           0.0  \n",
       "75%           0.016668           0.0  \n",
       "max           0.272257           0.0  "
      ]
     },
     "execution_count": 7,
     "metadata": {},
     "output_type": "execute_result"
    }
   ],
   "source": [
    "df_class_0.describe()"
   ]
  },
  {
   "cell_type": "code",
   "execution_count": 8,
   "metadata": {},
   "outputs": [
    {
     "data": {
      "text/html": [
       "<div>\n",
       "<style scoped>\n",
       "    .dataframe tbody tr th:only-of-type {\n",
       "        vertical-align: middle;\n",
       "    }\n",
       "\n",
       "    .dataframe tbody tr th {\n",
       "        vertical-align: top;\n",
       "    }\n",
       "\n",
       "    .dataframe thead th {\n",
       "        text-align: right;\n",
       "    }\n",
       "</style>\n",
       "<table border=\"1\" class=\"dataframe\">\n",
       "  <thead>\n",
       "    <tr style=\"text-align: right;\">\n",
       "      <th></th>\n",
       "      <th>class</th>\n",
       "      <th>rEar</th>\n",
       "      <th>lEar</th>\n",
       "      <th>mar</th>\n",
       "      <th>perclos</th>\n",
       "      <th>microsleep_rate</th>\n",
       "      <th>yawning_rate</th>\n",
       "    </tr>\n",
       "  </thead>\n",
       "  <tbody>\n",
       "    <tr>\n",
       "      <th>count</th>\n",
       "      <td>671030.0</td>\n",
       "      <td>671030.000000</td>\n",
       "      <td>671030.000000</td>\n",
       "      <td>671030.000000</td>\n",
       "      <td>671030.000000</td>\n",
       "      <td>671030.000000</td>\n",
       "      <td>671030.0</td>\n",
       "    </tr>\n",
       "    <tr>\n",
       "      <th>mean</th>\n",
       "      <td>1.0</td>\n",
       "      <td>0.596223</td>\n",
       "      <td>0.580454</td>\n",
       "      <td>0.118227</td>\n",
       "      <td>0.223984</td>\n",
       "      <td>0.023854</td>\n",
       "      <td>0.0</td>\n",
       "    </tr>\n",
       "    <tr>\n",
       "      <th>std</th>\n",
       "      <td>0.0</td>\n",
       "      <td>0.173370</td>\n",
       "      <td>0.179585</td>\n",
       "      <td>0.148358</td>\n",
       "      <td>0.259173</td>\n",
       "      <td>0.045631</td>\n",
       "      <td>0.0</td>\n",
       "    </tr>\n",
       "    <tr>\n",
       "      <th>min</th>\n",
       "      <td>1.0</td>\n",
       "      <td>0.000000</td>\n",
       "      <td>0.000000</td>\n",
       "      <td>0.000000</td>\n",
       "      <td>0.000370</td>\n",
       "      <td>0.000000</td>\n",
       "      <td>0.0</td>\n",
       "    </tr>\n",
       "    <tr>\n",
       "      <th>25%</th>\n",
       "      <td>1.0</td>\n",
       "      <td>0.489097</td>\n",
       "      <td>0.451631</td>\n",
       "      <td>0.019964</td>\n",
       "      <td>0.055144</td>\n",
       "      <td>0.000000</td>\n",
       "      <td>0.0</td>\n",
       "    </tr>\n",
       "    <tr>\n",
       "      <th>50%</th>\n",
       "      <td>1.0</td>\n",
       "      <td>0.610942</td>\n",
       "      <td>0.601640</td>\n",
       "      <td>0.046164</td>\n",
       "      <td>0.118889</td>\n",
       "      <td>0.000000</td>\n",
       "      <td>0.0</td>\n",
       "    </tr>\n",
       "    <tr>\n",
       "      <th>75%</th>\n",
       "      <td>1.0</td>\n",
       "      <td>0.714589</td>\n",
       "      <td>0.705466</td>\n",
       "      <td>0.162605</td>\n",
       "      <td>0.265692</td>\n",
       "      <td>0.016667</td>\n",
       "      <td>0.0</td>\n",
       "    </tr>\n",
       "    <tr>\n",
       "      <th>max</th>\n",
       "      <td>1.0</td>\n",
       "      <td>1.000000</td>\n",
       "      <td>1.000000</td>\n",
       "      <td>1.000000</td>\n",
       "      <td>0.994634</td>\n",
       "      <td>0.216675</td>\n",
       "      <td>0.0</td>\n",
       "    </tr>\n",
       "  </tbody>\n",
       "</table>\n",
       "</div>"
      ],
      "text/plain": [
       "          class           rEar           lEar            mar        perclos  \\\n",
       "count  671030.0  671030.000000  671030.000000  671030.000000  671030.000000   \n",
       "mean        1.0       0.596223       0.580454       0.118227       0.223984   \n",
       "std         0.0       0.173370       0.179585       0.148358       0.259173   \n",
       "min         1.0       0.000000       0.000000       0.000000       0.000370   \n",
       "25%         1.0       0.489097       0.451631       0.019964       0.055144   \n",
       "50%         1.0       0.610942       0.601640       0.046164       0.118889   \n",
       "75%         1.0       0.714589       0.705466       0.162605       0.265692   \n",
       "max         1.0       1.000000       1.000000       1.000000       0.994634   \n",
       "\n",
       "       microsleep_rate  yawning_rate  \n",
       "count    671030.000000      671030.0  \n",
       "mean          0.023854           0.0  \n",
       "std           0.045631           0.0  \n",
       "min           0.000000           0.0  \n",
       "25%           0.000000           0.0  \n",
       "50%           0.000000           0.0  \n",
       "75%           0.016667           0.0  \n",
       "max           0.216675           0.0  "
      ]
     },
     "execution_count": 8,
     "metadata": {},
     "output_type": "execute_result"
    }
   ],
   "source": [
    "df_class_1.describe()"
   ]
  },
  {
   "cell_type": "code",
   "execution_count": 9,
   "metadata": {},
   "outputs": [
    {
     "data": {
      "text/html": [
       "<div>\n",
       "<style scoped>\n",
       "    .dataframe tbody tr th:only-of-type {\n",
       "        vertical-align: middle;\n",
       "    }\n",
       "\n",
       "    .dataframe tbody tr th {\n",
       "        vertical-align: top;\n",
       "    }\n",
       "\n",
       "    .dataframe thead th {\n",
       "        text-align: right;\n",
       "    }\n",
       "</style>\n",
       "<table border=\"1\" class=\"dataframe\">\n",
       "  <thead>\n",
       "    <tr style=\"text-align: right;\">\n",
       "      <th></th>\n",
       "      <th>class</th>\n",
       "      <th>rEar</th>\n",
       "      <th>lEar</th>\n",
       "      <th>mar</th>\n",
       "      <th>perclos</th>\n",
       "      <th>microsleep_rate</th>\n",
       "      <th>yawning_rate</th>\n",
       "    </tr>\n",
       "  </thead>\n",
       "  <tbody>\n",
       "    <tr>\n",
       "      <th>count</th>\n",
       "      <td>676759.0</td>\n",
       "      <td>676759.000000</td>\n",
       "      <td>676759.000000</td>\n",
       "      <td>676759.000000</td>\n",
       "      <td>676759.000000</td>\n",
       "      <td>676759.000000</td>\n",
       "      <td>676759.000000</td>\n",
       "    </tr>\n",
       "    <tr>\n",
       "      <th>mean</th>\n",
       "      <td>2.0</td>\n",
       "      <td>0.540240</td>\n",
       "      <td>0.532430</td>\n",
       "      <td>0.154074</td>\n",
       "      <td>0.352848</td>\n",
       "      <td>0.042466</td>\n",
       "      <td>0.000077</td>\n",
       "    </tr>\n",
       "    <tr>\n",
       "      <th>std</th>\n",
       "      <td>0.0</td>\n",
       "      <td>0.192173</td>\n",
       "      <td>0.192402</td>\n",
       "      <td>0.164366</td>\n",
       "      <td>0.301389</td>\n",
       "      <td>0.056208</td>\n",
       "      <td>0.000918</td>\n",
       "    </tr>\n",
       "    <tr>\n",
       "      <th>min</th>\n",
       "      <td>2.0</td>\n",
       "      <td>0.000000</td>\n",
       "      <td>0.000000</td>\n",
       "      <td>0.000000</td>\n",
       "      <td>0.000000</td>\n",
       "      <td>0.000000</td>\n",
       "      <td>0.000000</td>\n",
       "    </tr>\n",
       "    <tr>\n",
       "      <th>25%</th>\n",
       "      <td>2.0</td>\n",
       "      <td>0.396734</td>\n",
       "      <td>0.386533</td>\n",
       "      <td>0.032298</td>\n",
       "      <td>0.086667</td>\n",
       "      <td>0.000000</td>\n",
       "      <td>0.000000</td>\n",
       "    </tr>\n",
       "    <tr>\n",
       "      <th>50%</th>\n",
       "      <td>2.0</td>\n",
       "      <td>0.543804</td>\n",
       "      <td>0.525528</td>\n",
       "      <td>0.084911</td>\n",
       "      <td>0.269564</td>\n",
       "      <td>0.011112</td>\n",
       "      <td>0.000000</td>\n",
       "    </tr>\n",
       "    <tr>\n",
       "      <th>75%</th>\n",
       "      <td>2.0</td>\n",
       "      <td>0.675448</td>\n",
       "      <td>0.674613</td>\n",
       "      <td>0.227993</td>\n",
       "      <td>0.576255</td>\n",
       "      <td>0.066676</td>\n",
       "      <td>0.000000</td>\n",
       "    </tr>\n",
       "    <tr>\n",
       "      <th>max</th>\n",
       "      <td>2.0</td>\n",
       "      <td>1.000000</td>\n",
       "      <td>1.000000</td>\n",
       "      <td>1.000000</td>\n",
       "      <td>1.000000</td>\n",
       "      <td>0.283354</td>\n",
       "      <td>0.016668</td>\n",
       "    </tr>\n",
       "  </tbody>\n",
       "</table>\n",
       "</div>"
      ],
      "text/plain": [
       "          class           rEar           lEar            mar        perclos  \\\n",
       "count  676759.0  676759.000000  676759.000000  676759.000000  676759.000000   \n",
       "mean        2.0       0.540240       0.532430       0.154074       0.352848   \n",
       "std         0.0       0.192173       0.192402       0.164366       0.301389   \n",
       "min         2.0       0.000000       0.000000       0.000000       0.000000   \n",
       "25%         2.0       0.396734       0.386533       0.032298       0.086667   \n",
       "50%         2.0       0.543804       0.525528       0.084911       0.269564   \n",
       "75%         2.0       0.675448       0.674613       0.227993       0.576255   \n",
       "max         2.0       1.000000       1.000000       1.000000       1.000000   \n",
       "\n",
       "       microsleep_rate   yawning_rate  \n",
       "count    676759.000000  676759.000000  \n",
       "mean          0.042466       0.000077  \n",
       "std           0.056208       0.000918  \n",
       "min           0.000000       0.000000  \n",
       "25%           0.000000       0.000000  \n",
       "50%           0.011112       0.000000  \n",
       "75%           0.066676       0.000000  \n",
       "max           0.283354       0.016668  "
      ]
     },
     "execution_count": 9,
     "metadata": {},
     "output_type": "execute_result"
    }
   ],
   "source": [
    "df_class_2.describe()"
   ]
  },
  {
   "cell_type": "markdown",
   "metadata": {},
   "source": [
    "Get the values from each dataframe "
   ]
  },
  {
   "cell_type": "code",
   "execution_count": 10,
   "metadata": {},
   "outputs": [],
   "source": [
    "datasets = []\n",
    "datasets.append(df_class_0.values)\n",
    "datasets.append(df_class_1.values)\n",
    "datasets.append(df_class_2.values)"
   ]
  },
  {
   "cell_type": "code",
   "execution_count": 11,
   "metadata": {},
   "outputs": [
    {
     "name": "stdout",
     "output_type": "stream",
     "text": [
      "minimum length : 671030\n"
     ]
    }
   ],
   "source": [
    "min_length = min(len(df_class_0), len(df_class_1), len(df_class_2))\n",
    "print(f\"minimum length : {min_length}\")"
   ]
  },
  {
   "cell_type": "markdown",
   "metadata": {},
   "source": [
    "### 2. Data Preparation"
   ]
  },
  {
   "cell_type": "markdown",
   "metadata": {},
   "source": [
    "Balance data for each class"
   ]
  },
  {
   "cell_type": "code",
   "execution_count": 12,
   "metadata": {},
   "outputs": [],
   "source": [
    "for idx in range(3):\n",
    "    datasets[idx] = random.sample(list(datasets[idx]),min_length)"
   ]
  },
  {
   "cell_type": "markdown",
   "metadata": {},
   "source": [
    "Flatten the datasets"
   ]
  },
  {
   "cell_type": "code",
   "execution_count": 13,
   "metadata": {},
   "outputs": [
    {
     "name": "stdout",
     "output_type": "stream",
     "text": [
      "there is 2013090 rows in the datasets\n"
     ]
    }
   ],
   "source": [
    "dataset = [item for sublist in datasets for item in sublist]\n",
    "print(f\"there is {len(dataset)} rows in the datasets\")"
   ]
  },
  {
   "cell_type": "markdown",
   "metadata": {},
   "source": [
    "Shuffle the dataset"
   ]
  },
  {
   "cell_type": "code",
   "execution_count": 14,
   "metadata": {},
   "outputs": [],
   "source": [
    "random.shuffle(dataset)"
   ]
  },
  {
   "cell_type": "markdown",
   "metadata": {},
   "source": [
    "separate into and X and y values"
   ]
  },
  {
   "cell_type": "code",
   "execution_count": 15,
   "metadata": {},
   "outputs": [],
   "source": [
    "X = []\n",
    "y = []\n",
    "\n",
    "for data in dataset:\n",
    "    y.append(int(data[0]))\n",
    "    X.append(data[1:])"
   ]
  },
  {
   "cell_type": "markdown",
   "metadata": {},
   "source": [
    "convert into numpy array"
   ]
  },
  {
   "cell_type": "code",
   "execution_count": 16,
   "metadata": {},
   "outputs": [],
   "source": [
    "X = np.array(X)\n",
    "y = np.array(y)"
   ]
  },
  {
   "cell_type": "markdown",
   "metadata": {},
   "source": [
    "### 3. Model Design"
   ]
  },
  {
   "cell_type": "markdown",
   "metadata": {},
   "source": [
    "build model"
   ]
  },
  {
   "cell_type": "code",
   "execution_count": 17,
   "metadata": {},
   "outputs": [],
   "source": [
    "model = tf.keras.models.Sequential()"
   ]
  },
  {
   "cell_type": "markdown",
   "metadata": {},
   "source": [
    "add layers"
   ]
  },
  {
   "cell_type": "code",
   "execution_count": 18,
   "metadata": {},
   "outputs": [],
   "source": [
    "model.add(tf.keras.layers.Dense(512, activation=tf.nn.relu))\n",
    "model.add(tf.keras.layers.Dense(512, activation=tf.nn.relu))\n",
    "model.add(tf.keras.layers.Dense(512, activation=tf.nn.relu))\n",
    "model.add(tf.keras.layers.Dense(512, activation=tf.nn.relu))\n",
    "# output layers\n",
    "model.add(tf.keras.layers.Dense(3, activation=tf.nn.softmax))"
   ]
  },
  {
   "cell_type": "markdown",
   "metadata": {},
   "source": [
    "Compile model"
   ]
  },
  {
   "cell_type": "code",
   "execution_count": 19,
   "metadata": {},
   "outputs": [],
   "source": [
    "model.compile(optimizer='adam',\n",
    "              loss='sparse_categorical_crossentropy',\n",
    "              metrics=['accuracy'])"
   ]
  },
  {
   "cell_type": "markdown",
   "metadata": {},
   "source": [
    "Train model"
   ]
  },
  {
   "cell_type": "code",
   "execution_count": 20,
   "metadata": {},
   "outputs": [
    {
     "name": "stdout",
     "output_type": "stream",
     "text": [
      "Train on 1509817 samples, validate on 503273 samples\n",
      "Epoch 1/20\n",
      "1509817/1509817 [==============================] - 133s 88us/sample - loss: 0.7453 - accuracy: 0.6474 - val_loss: 0.6453 - val_accuracy: 0.7106\n",
      "Epoch 2/20\n",
      "1509817/1509817 [==============================] - 140s 93us/sample - loss: 0.6057 - accuracy: 0.7293 - val_loss: 0.5756 - val_accuracy: 0.7452\n",
      "Epoch 3/20\n",
      "1509817/1509817 [==============================] - 135s 90us/sample - loss: 0.5674 - accuracy: 0.7482 - val_loss: 0.5535 - val_accuracy: 0.7556\n",
      "Epoch 4/20\n",
      "1509817/1509817 [==============================] - 133s 88us/sample - loss: 0.5454 - accuracy: 0.7595 - val_loss: 0.5340 - val_accuracy: 0.7659\n",
      "Epoch 5/20\n",
      "1509817/1509817 [==============================] - 133s 88us/sample - loss: 0.5312 - accuracy: 0.7660 - val_loss: 0.5395 - val_accuracy: 0.7626\n",
      "Epoch 6/20\n",
      "1509817/1509817 [==============================] - 153s 101us/sample - loss: 0.5205 - accuracy: 0.7714 - val_loss: 0.5145 - val_accuracy: 0.7747\n",
      "Epoch 7/20\n",
      "1509817/1509817 [==============================] - 155s 102us/sample - loss: 0.5118 - accuracy: 0.7755 - val_loss: 0.5087 - val_accuracy: 0.7786\n",
      "Epoch 8/20\n",
      "1509817/1509817 [==============================] - 140s 92us/sample - loss: 0.5045 - accuracy: 0.7792 - val_loss: 0.5178 - val_accuracy: 0.7738\n",
      "Epoch 9/20\n",
      "1509817/1509817 [==============================] - 134s 89us/sample - loss: 0.4982 - accuracy: 0.7816 - val_loss: 0.5055 - val_accuracy: 0.7804\n",
      "Epoch 10/20\n",
      "1509817/1509817 [==============================] - 141s 93us/sample - loss: 0.4929 - accuracy: 0.7847 - val_loss: 0.4941 - val_accuracy: 0.7850\n",
      "Epoch 11/20\n",
      "1509817/1509817 [==============================] - 137s 91us/sample - loss: 0.4891 - accuracy: 0.7861 - val_loss: 0.4903 - val_accuracy: 0.7866\n",
      "Epoch 12/20\n",
      "1509817/1509817 [==============================] - 133s 88us/sample - loss: 0.4850 - accuracy: 0.7883 - val_loss: 0.4903 - val_accuracy: 0.7859\n",
      "Epoch 13/20\n",
      "1509817/1509817 [==============================] - 140s 93us/sample - loss: 0.4810 - accuracy: 0.7899 - val_loss: 0.4948 - val_accuracy: 0.7836\n",
      "Epoch 14/20\n",
      "1509817/1509817 [==============================] - 144s 96us/sample - loss: 0.4779 - accuracy: 0.7916 - val_loss: 0.4846 - val_accuracy: 0.7894\n",
      "Epoch 15/20\n",
      "1509817/1509817 [==============================] - 139s 92us/sample - loss: 0.4745 - accuracy: 0.7929 - val_loss: 0.4821 - val_accuracy: 0.7908\n",
      "Epoch 16/20\n",
      "1509817/1509817 [==============================] - 134s 89us/sample - loss: 0.4723 - accuracy: 0.7940 - val_loss: 0.4915 - val_accuracy: 0.7840\n",
      "Epoch 17/20\n",
      "1509817/1509817 [==============================] - 151s 100us/sample - loss: 0.4693 - accuracy: 0.7955 - val_loss: 0.4752 - val_accuracy: 0.7945\n",
      "Epoch 18/20\n",
      "1509817/1509817 [==============================] - 148s 98us/sample - loss: 0.4669 - accuracy: 0.7967 - val_loss: 0.4744 - val_accuracy: 0.7954\n",
      "Epoch 19/20\n",
      "1509817/1509817 [==============================] - 157s 104us/sample - loss: 0.4652 - accuracy: 0.7977 - val_loss: 0.4735 - val_accuracy: 0.7950\n",
      "Epoch 20/20\n",
      "1509817/1509817 [==============================] - 143s 95us/sample - loss: 0.4625 - accuracy: 0.7988 - val_loss: 0.4804 - val_accuracy: 0.7916\n"
     ]
    },
    {
     "data": {
      "text/plain": [
       "<tensorflow.python.keras.callbacks.History at 0x29521772808>"
      ]
     },
     "execution_count": 20,
     "metadata": {},
     "output_type": "execute_result"
    }
   ],
   "source": [
    "model.fit(X, y,  batch_size=128, epochs=20, validation_split=0.25)"
   ]
  },
  {
   "cell_type": "markdown",
   "metadata": {},
   "source": [
    "Convert to tflite format"
   ]
  },
  {
   "cell_type": "code",
   "execution_count": 21,
   "metadata": {},
   "outputs": [],
   "source": [
    "converter = tf.lite.TFLiteConverter.from_keras_model(model)\n",
    "tflite_model = converter.convert()"
   ]
  },
  {
   "cell_type": "markdown",
   "metadata": {},
   "source": [
    "Save to file"
   ]
  },
  {
   "cell_type": "code",
   "execution_count": 22,
   "metadata": {},
   "outputs": [
    {
     "data": {
      "text/plain": [
       "3174636"
      ]
     },
     "execution_count": 22,
     "metadata": {},
     "output_type": "execute_result"
    }
   ],
   "source": [
    "open(\"./tflite-model/ann_drowsy.tflite\", \"wb\").write(tflite_model)"
   ]
  }
 ],
 "metadata": {
  "kernelspec": {
   "display_name": "Python 3",
   "language": "python",
   "name": "python3"
  },
  "language_info": {
   "codemirror_mode": {
    "name": "ipython",
    "version": 3
   },
   "file_extension": ".py",
   "mimetype": "text/x-python",
   "name": "python",
   "nbconvert_exporter": "python",
   "pygments_lexer": "ipython3",
   "version": "3.7.7"
  }
 },
 "nbformat": 4,
 "nbformat_minor": 4
}
