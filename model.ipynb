{
 "cells": [
  {
   "cell_type": "markdown",
   "metadata": {},
   "source": [
    "# Machine Learning Model\n",
    "**By: M. Alwi Sukra**"
   ]
  },
  {
   "cell_type": "markdown",
   "metadata": {},
   "source": [
    "#### import useful libraries"
   ]
  },
  {
   "cell_type": "code",
   "execution_count": 1,
   "metadata": {},
   "outputs": [],
   "source": [
    "import numpy as np\n",
    "import seaborn as sns\n",
    "import pandas as pd\n",
    "import tensorflow as tf\n",
    "import time\n",
    "from matplotlib import pyplot as plt"
   ]
  },
  {
   "cell_type": "markdown",
   "metadata": {},
   "source": [
    "## ANN Model"
   ]
  },
  {
   "cell_type": "markdown",
   "metadata": {},
   "source": [
    "#### get data"
   ]
  },
  {
   "cell_type": "code",
   "execution_count": 2,
   "metadata": {},
   "outputs": [],
   "source": [
    "DATA_PATH = \"dataset/ann-all\""
   ]
  },
  {
   "cell_type": "code",
   "execution_count": 3,
   "metadata": {},
   "outputs": [],
   "source": [
    "X_train_ann = np.load(f\"{DATA_PATH}-X_train.npy\")\n",
    "y_train_ann = np.load(f\"{DATA_PATH}-y_train.npy\")\n",
    "X_test_ann = np.load(f\"{DATA_PATH}-X_test.npy\")\n",
    "y_test_ann = np.load(f\"{DATA_PATH}-y_test.npy\")"
   ]
  },
  {
   "cell_type": "code",
   "execution_count": 4,
   "metadata": {},
   "outputs": [
    {
     "data": {
      "text/plain": [
       "array([0.70747894, 0.62666669, 0.08818361, 0.04614529, 0.        ,\n",
       "       0.        ])"
      ]
     },
     "execution_count": 4,
     "metadata": {},
     "output_type": "execute_result"
    }
   ],
   "source": [
    "X_train_ann[23]"
   ]
  },
  {
   "cell_type": "code",
   "execution_count": 5,
   "metadata": {},
   "outputs": [
    {
     "data": {
      "text/plain": [
       "0"
      ]
     },
     "execution_count": 5,
     "metadata": {},
     "output_type": "execute_result"
    }
   ],
   "source": [
    "y_train_ann[23]"
   ]
  },
  {
   "cell_type": "markdown",
   "metadata": {},
   "source": [
    "#### build ANN model"
   ]
  },
  {
   "cell_type": "code",
   "execution_count": 6,
   "metadata": {},
   "outputs": [],
   "source": [
    "layers = [6,6,6]\n",
    "short_desc = \"ANN_all_feature\""
   ]
  },
  {
   "cell_type": "code",
   "execution_count": 7,
   "metadata": {},
   "outputs": [],
   "source": [
    "# build model\n",
    "ann_model = tf.keras.models.Sequential()\n",
    "# add layers\n",
    "for nodes in layers:\n",
    "    ann_model.add(tf.keras.layers.Dense(nodes, activation=tf.nn.relu))\n",
    "# output layer\n",
    "ann_model.add(tf.keras.layers.Dense(1, activation=tf.nn.sigmoid))"
   ]
  },
  {
   "cell_type": "code",
   "execution_count": 8,
   "metadata": {},
   "outputs": [],
   "source": [
    "# compile and train model\n",
    "opt = tf.optimizers.Adam(lr=0.01)\n",
    "acc = tf.keras.metrics.BinaryAccuracy(threshold=0.5)\n",
    "ann_model.compile(optimizer=opt, loss=\"binary_crossentropy\", metrics=[acc])"
   ]
  },
  {
   "cell_type": "markdown",
   "metadata": {},
   "source": [
    "#### train model"
   ]
  },
  {
   "cell_type": "code",
   "execution_count": 9,
   "metadata": {},
   "outputs": [],
   "source": [
    "epochs = 20"
   ]
  },
  {
   "cell_type": "code",
   "execution_count": 10,
   "metadata": {},
   "outputs": [
    {
     "name": "stdout",
     "output_type": "stream",
     "text": [
      "Epoch 1/20\n",
      "1414/1414 [==============================] - 4s 3ms/step - loss: 0.3608 - binary_accuracy: 0.8170\n",
      "Epoch 2/20\n",
      "1414/1414 [==============================] - 4s 3ms/step - loss: 0.3015 - binary_accuracy: 0.8456\n",
      "Epoch 3/20\n",
      "1414/1414 [==============================] - 4s 3ms/step - loss: 0.2867 - binary_accuracy: 0.8550A: 1s \n",
      "Epoch 4/20\n",
      "1414/1414 [==============================] - 4s 3ms/step - loss: 0.2747 - binary_accuracy: 0.8617\n",
      "Epoch 5/20\n",
      "1414/1414 [==============================] - 4s 3ms/step - loss: 0.2673 - binary_accuracy: 0.8661\n",
      "Epoch 6/20\n",
      "1414/1414 [==============================] - 4s 3ms/step - loss: 0.2606 - binary_accuracy: 0.8699\n",
      "Epoch 7/20\n",
      "1414/1414 [==============================] - 4s 3ms/step - loss: 0.2577 - binary_accuracy: 0.8708\n",
      "Epoch 8/20\n",
      "1414/1414 [==============================] - 4s 3ms/step - loss: 0.2478 - binary_accuracy: 0.8812\n",
      "Epoch 9/20\n",
      "1414/1414 [==============================] - 4s 3ms/step - loss: 0.2387 - binary_accuracy: 0.8871\n",
      "Epoch 10/20\n",
      "1414/1414 [==============================] - 4s 3ms/step - loss: 0.2330 - binary_accuracy: 0.8898\n",
      "Epoch 11/20\n",
      "1414/1414 [==============================] - 4s 3ms/step - loss: 0.2274 - binary_accuracy: 0.8950\n",
      "Epoch 12/20\n",
      "1414/1414 [==============================] - 4s 3ms/step - loss: 0.2240 - binary_accuracy: 0.8985\n",
      "Epoch 13/20\n",
      "1414/1414 [==============================] - 4s 3ms/step - loss: 0.2155 - binary_accuracy: 0.9059\n",
      "Epoch 14/20\n",
      "1414/1414 [==============================] - 4s 3ms/step - loss: 0.2059 - binary_accuracy: 0.9135\n",
      "Epoch 15/20\n",
      "1414/1414 [==============================] - 4s 3ms/step - loss: 0.2015 - binary_accuracy: 0.9162\n",
      "Epoch 16/20\n",
      "1414/1414 [==============================] - 4s 3ms/step - loss: 0.1922 - binary_accuracy: 0.9216\n",
      "Epoch 17/20\n",
      "1414/1414 [==============================] - 4s 3ms/step - loss: 0.1934 - binary_accuracy: 0.9206\n",
      "Epoch 18/20\n",
      "1414/1414 [==============================] - 4s 3ms/step - loss: 0.1860 - binary_accuracy: 0.9256\n",
      "Epoch 19/20\n",
      "1414/1414 [==============================] - 4s 3ms/step - loss: 0.1851 - binary_accuracy: 0.9250\n",
      "Epoch 20/20\n",
      "1414/1414 [==============================] - 4s 3ms/step - loss: 0.1807 - binary_accuracy: 0.9283A: 1s - loss: 0.1817 - b\n"
     ]
    },
    {
     "data": {
      "text/plain": [
       "<tensorflow.python.keras.callbacks.History at 0x293d80f5348>"
      ]
     },
     "execution_count": 10,
     "metadata": {},
     "output_type": "execute_result"
    }
   ],
   "source": [
    "ann_model.fit(X_train_ann, y_train_ann, epochs=epochs, verbose=1)"
   ]
  },
  {
   "cell_type": "code",
   "execution_count": 12,
   "metadata": {},
   "outputs": [
    {
     "data": {
      "text/plain": [
       "2404"
      ]
     },
     "execution_count": 12,
     "metadata": {},
     "output_type": "execute_result"
    }
   ],
   "source": [
    "converter = tf.lite.TFLiteConverter.from_keras_model(ann_model)\n",
    "tflite_model = converter.convert()\n",
    "open(\"./tflite-model/ann_drowsy.tflite\", \"wb\").write(tflite_model)"
   ]
  },
  {
   "cell_type": "markdown",
   "metadata": {},
   "source": [
    "#### evaluate model"
   ]
  },
  {
   "cell_type": "code",
   "execution_count": 20,
   "metadata": {},
   "outputs": [
    {
     "name": "stdout",
     "output_type": "stream",
     "text": [
      "354/354 [==============================] - 1s 3ms/step - loss: 0.2216 - binary_accuracy: 0.8575\n",
      "time taken per input: 0.09950229762519208 ms\n"
     ]
    }
   ],
   "source": [
    "start_time = time.time()\n",
    "ann_model.evaluate(X_test_ann, y_test_ann, verbose=1)\n",
    "time_taken = (time.time() - start_time)/len(y_test_ann) * 1000\n",
    "print(f\"time taken per input: {time_taken} ms\")"
   ]
  },
  {
   "cell_type": "code",
   "execution_count": 21,
   "metadata": {},
   "outputs": [],
   "source": [
    "y_pred = ann_model.predict(X_test_ann)\n",
    "y_pred_ann = []\n",
    "for pred in y_pred:\n",
    "    if(pred >= 0.5):\n",
    "        y_pred_ann.append(1)\n",
    "    else:\n",
    "        y_pred_ann.append(0)\n",
    "y_pred_ann = np.array(y_pred_ann)"
   ]
  },
  {
   "cell_type": "code",
   "execution_count": 22,
   "metadata": {},
   "outputs": [],
   "source": [
    "ann_conf = tf.math.confusion_matrix(y_test_ann, y_pred_ann)"
   ]
  },
  {
   "cell_type": "code",
   "execution_count": 23,
   "metadata": {},
   "outputs": [
    {
     "data": {
      "text/plain": [
       "Text(0.5, 15.0, 'Predicted label')"
      ]
     },
     "execution_count": 23,
     "metadata": {},
     "output_type": "execute_result"
    },
    {
     "data": {
      "image/png": "[encoded data removed]",
      "text/plain": [
       "<Figure size 432x288 with 1 Axes>"
      ]
     },
     "metadata": {
      "needs_background": "light"
     },
     "output_type": "display_data"
    }
   ],
   "source": [
    "sns.heatmap(ann_conf.numpy(), annot=True, fmt='d', cmap='Blues', xticklabels=[1,0], yticklabels=[1,0], cbar=False)\n",
    "plt.ylabel('True label')\n",
    "plt.xlabel('Predicted label')"
   ]
  },
  {
   "cell_type": "code",
   "execution_count": 15,
   "metadata": {},
   "outputs": [],
   "source": [
    "TP = 4092\n",
    "TN = 5604\n",
    "FP = 0\n",
    "FN = 1611"
   ]
  },
  {
   "cell_type": "code",
   "execution_count": 16,
   "metadata": {},
   "outputs": [],
   "source": [
    "accuracy = (TP+TN)/(TP+TN+FP+FN)\n",
    "misclassification_rate = 1-accuracy\n",
    "precision = TP/(TP+FP)\n",
    "recall = TP/(TP+FN)\n",
    "specificity = TN/(TN+FP)\n",
    "f1score = 2 * ((precision*recall)/(precision+recall))"
   ]
  },
  {
   "cell_type": "code",
   "execution_count": 17,
   "metadata": {},
   "outputs": [],
   "source": [
    "ann_evaluation = ['ann', accuracy, misclassification_rate, precision, recall, specificity, f1score]"
   ]
  },
  {
   "cell_type": "code",
   "execution_count": 18,
   "metadata": {},
   "outputs": [
    {
     "name": "stdout",
     "output_type": "stream",
     "text": [
      "['ann', 0.8575218890952507, 0.14247811090474927, 1.0, 0.7175170962651236, 1.0, 0.8355283307810107]\n"
     ]
    }
   ],
   "source": [
    "print(ann_evaluation)"
   ]
  },
  {
   "cell_type": "markdown",
   "metadata": {},
   "source": [
    "## LSTM Model"
   ]
  },
  {
   "cell_type": "markdown",
   "metadata": {},
   "source": [
    "#### get data"
   ]
  },
  {
   "cell_type": "code",
   "execution_count": 2,
   "metadata": {},
   "outputs": [],
   "source": [
    "DATA_PATH = \"dataset/lstm-base\""
   ]
  },
  {
   "cell_type": "code",
   "execution_count": 3,
   "metadata": {},
   "outputs": [],
   "source": [
    "X_train_lstm = np.load(f\"{DATA_PATH}-X_train.npy\")\n",
    "y_train_lstm = np.load(f\"{DATA_PATH}-y_train.npy\")\n",
    "X_test_lstm = np.load(f\"{DATA_PATH}-X_test.npy\")\n",
    "y_test_lstm = np.load(f\"{DATA_PATH}-y_test.npy\")"
   ]
  },
  {
   "cell_type": "code",
   "execution_count": 4,
   "metadata": {},
   "outputs": [
    {
     "data": {
      "text/plain": [
       "array([[0.46524946, 0.37665594, 0.06368982],\n",
       "       [0.4748797 , 0.3735499 , 0.06272768],\n",
       "       [0.47463787, 0.36929742, 0.06776297],\n",
       "       ...,\n",
       "       [0.51165533, 0.40475967, 0.06315798],\n",
       "       [0.49011338, 0.38822615, 0.062077  ],\n",
       "       [0.49501998, 0.40690942, 0.07981111]])"
      ]
     },
     "execution_count": 4,
     "metadata": {},
     "output_type": "execute_result"
    }
   ],
   "source": [
    "X_train_lstm[76]"
   ]
  },
  {
   "cell_type": "code",
   "execution_count": 5,
   "metadata": {},
   "outputs": [
    {
     "data": {
      "text/plain": [
       "0"
      ]
     },
     "execution_count": 5,
     "metadata": {},
     "output_type": "execute_result"
    }
   ],
   "source": [
    "y_train_lstm[76]"
   ]
  },
  {
   "cell_type": "code",
   "execution_count": 6,
   "metadata": {},
   "outputs": [
    {
     "data": {
      "text/plain": [
       "(32, 480, 3)"
      ]
     },
     "execution_count": 6,
     "metadata": {},
     "output_type": "execute_result"
    }
   ],
   "source": [
    "(32,X_train_lstm.shape[1],X_train_lstm.shape[2])"
   ]
  },
  {
   "cell_type": "markdown",
   "metadata": {},
   "source": [
    "#### build LSTM Model"
   ]
  },
  {
   "cell_type": "code",
   "execution_count": 7,
   "metadata": {},
   "outputs": [],
   "source": [
    "# build model\n",
    "lstm_model = tf.keras.models.Sequential()\n",
    "# lstm\n",
    "lstm_model.add(tf.keras.layers.LSTM(1, activation=tf.nn.tanh, batch_input_shape=(32,X_train_lstm.shape[1],X_train_lstm.shape[2])))\n",
    "# output\n",
    "lstm_model.add(tf.keras.layers.Dense(1, activation=tf.nn.sigmoid))"
   ]
  },
  {
   "cell_type": "code",
   "execution_count": 8,
   "metadata": {},
   "outputs": [],
   "source": [
    "# compile and train model\n",
    "opt = tf.optimizers.Adam(lr=0.001)\n",
    "acc = tf.keras.metrics.BinaryAccuracy(threshold=0.5)\n",
    "lstm_model.compile(optimizer=opt, loss=\"binary_crossentropy\", metrics=[acc])"
   ]
  },
  {
   "cell_type": "markdown",
   "metadata": {},
   "source": [
    "#### train model"
   ]
  },
  {
   "cell_type": "code",
   "execution_count": 9,
   "metadata": {},
   "outputs": [],
   "source": [
    "epochs = 20"
   ]
  },
  {
   "cell_type": "code",
   "execution_count": 10,
   "metadata": {},
   "outputs": [
    {
     "name": "stdout",
     "output_type": "stream",
     "text": [
      "Epoch 1/20\n",
      "241/241 [==============================] - 5s 21ms/step - loss: 0.6931 - binary_accuracy: 0.5017\n",
      "Epoch 2/20\n",
      "241/241 [==============================] - 4s 17ms/step - loss: 0.6895 - binary_accuracy: 0.5266\n",
      "Epoch 3/20\n",
      "241/241 [==============================] - 4s 18ms/step - loss: 0.6879 - binary_accuracy: 0.6033\n",
      "Epoch 4/20\n",
      "241/241 [==============================] - 4s 18ms/step - loss: 0.6842 - binary_accuracy: 0.6102\n",
      "Epoch 5/20\n",
      "241/241 [==============================] - 4s 18ms/step - loss: 0.6585 - binary_accuracy: 0.6350\n",
      "Epoch 6/20\n",
      "241/241 [==============================] - 4s 18ms/step - loss: 0.5813 - binary_accuracy: 0.7426\n",
      "Epoch 7/20\n",
      "241/241 [==============================] - 4s 18ms/step - loss: 0.5244 - binary_accuracy: 0.7864\n",
      "Epoch 8/20\n",
      "241/241 [==============================] - 4s 18ms/step - loss: 0.5158 - binary_accuracy: 0.7819\n",
      "Epoch 9/20\n",
      "241/241 [==============================] - 5s 20ms/step - loss: 0.5123 - binary_accuracy: 0.7819\n",
      "Epoch 10/20\n",
      "241/241 [==============================] - 5s 19ms/step - loss: 0.6394 - binary_accuracy: 0.6678: 0s - loss: 0.6324 - binary_accuracy: 0\n",
      "Epoch 11/20\n",
      "241/241 [==============================] - 5s 20ms/step - loss: 0.7118 - binary_accuracy: 0.5406: 1s - loss: \n",
      "Epoch 12/20\n",
      "241/241 [==============================] - 5s 20ms/step - loss: 0.6790 - binary_accuracy: 0.5403\n",
      "Epoch 13/20\n",
      "241/241 [==============================] - 5s 19ms/step - loss: 0.6710 - binary_accuracy: 0.5402\n",
      "Epoch 14/20\n",
      "241/241 [==============================] - 5s 20ms/step - loss: 0.6691 - binary_accuracy: 0.5410\n",
      "Epoch 15/20\n",
      "241/241 [==============================] - 5s 19ms/step - loss: 0.6686 - binary_accuracy: 0.5451\n",
      "Epoch 16/20\n",
      "241/241 [==============================] - 5s 19ms/step - loss: 0.6684 - binary_accuracy: 0.5498\n",
      "Epoch 17/20\n",
      "241/241 [==============================] - 5s 19ms/step - loss: 0.6683 - binary_accuracy: 0.5503\n",
      "Epoch 18/20\n",
      "241/241 [==============================] - 5s 19ms/step - loss: 0.6681 - binary_accuracy: 0.5537\n",
      "Epoch 19/20\n",
      "241/241 [==============================] - 4s 18ms/step - loss: 0.6679 - binary_accuracy: 0.5539\n",
      "Epoch 20/20\n",
      "241/241 [==============================] - 5s 19ms/step - loss: 0.6678 - binary_accuracy: 0.5501\n"
     ]
    },
    {
     "data": {
      "text/plain": [
       "<tensorflow.python.keras.callbacks.History at 0x210cca8b4c8>"
      ]
     },
     "execution_count": 10,
     "metadata": {},
     "output_type": "execute_result"
    }
   ],
   "source": [
    "lstm_model.fit(X_train_lstm, y_train_lstm, epochs=epochs, verbose=1)"
   ]
  },
  {
   "cell_type": "markdown",
   "metadata": {},
   "source": [
    "#### evaluate model"
   ]
  },
  {
   "cell_type": "code",
   "execution_count": 29,
   "metadata": {},
   "outputs": [
    {
     "name": "stdout",
     "output_type": "stream",
     "text": [
      "61/61 [==============================] - 1s 11ms/step - loss: 0.1182 - binary_accuracy: 0.9549\n",
      "time taken per input: 0.08698870651367921 ms\n"
     ]
    }
   ],
   "source": [
    "start_time = time.time()\n",
    "lstm_model.evaluate(X_test_lstm, y_test_lstm, verbose=1)\n",
    "time_taken = (time.time() - start_time)/len(y_test_ann) * 1000\n",
    "print(f\"time taken per input: {time_taken} ms\")"
   ]
  },
  {
   "cell_type": "code",
   "execution_count": 30,
   "metadata": {},
   "outputs": [],
   "source": [
    "y_pred = lstm_model.predict(X_test_lstm)\n",
    "y_pred_lstm = []\n",
    "for pred in y_pred:\n",
    "    if(pred >= 0.5):\n",
    "        y_pred_lstm.append(1)\n",
    "    else:\n",
    "        y_pred_lstm.append(0)\n",
    "y_pred_lstm = np.array(y_pred_lstm)"
   ]
  },
  {
   "cell_type": "code",
   "execution_count": 31,
   "metadata": {},
   "outputs": [],
   "source": [
    "lstm_conf = tf.math.confusion_matrix(y_test_lstm, y_pred_lstm)"
   ]
  },
  {
   "cell_type": "code",
   "execution_count": 32,
   "metadata": {},
   "outputs": [
    {
     "data": {
      "text/plain": [
       "Text(0.5, 15.0, 'Predicted label')"
      ]
     },
     "execution_count": 32,
     "metadata": {},
     "output_type": "execute_result"
    },
    {
     "data": {
      "image/png": "[encoded data removed]",
      "text/plain": [
       "<Figure size 432x288 with 1 Axes>"
      ]
     },
     "metadata": {
      "needs_background": "light"
     },
     "output_type": "display_data"
    }
   ],
   "source": [
    "sns.heatmap(lstm_conf.numpy(), annot=True, fmt='d', cmap='Blues', xticklabels=[1,0], yticklabels=[1,0], cbar=False)\n",
    "plt.ylabel('True label')\n",
    "plt.xlabel('Predicted label')"
   ]
  },
  {
   "cell_type": "code",
   "execution_count": 42,
   "metadata": {},
   "outputs": [],
   "source": [
    "TP = 965\n",
    "TN = 576\n",
    "FP = 75\n",
    "FN = 12"
   ]
  },
  {
   "cell_type": "code",
   "execution_count": 43,
   "metadata": {},
   "outputs": [],
   "source": [
    "accuracy = (TP+TN)/(TP+TN+FP+FN)\n",
    "misclassification_rate = 1-accuracy\n",
    "precision = TP/(TP+FP)\n",
    "recall = TP/(TP+FN)\n",
    "specificity = TN/(TN+FP)\n",
    "f1score = 2 * ((precision*recall)/(precision+recall))"
   ]
  },
  {
   "cell_type": "code",
   "execution_count": 44,
   "metadata": {},
   "outputs": [],
   "source": [
    "lstm_evaluation = ['lstm', accuracy, misclassification_rate, precision, recall, specificity, f1score]"
   ]
  },
  {
   "cell_type": "markdown",
   "metadata": {},
   "source": [
    "#### Model Comparison"
   ]
  },
  {
   "cell_type": "code",
   "execution_count": 45,
   "metadata": {},
   "outputs": [],
   "source": [
    "evaluations = [ann_evaluation, lstm_evaluation]"
   ]
  },
  {
   "cell_type": "code",
   "execution_count": 47,
   "metadata": {},
   "outputs": [],
   "source": [
    "df_eval = pd.DataFrame(evaluations, columns=['model', 'accuracy', 'misclassification_rate', 'precision', 'recall', 'specificity', 'f1score'])"
   ]
  },
  {
   "cell_type": "code",
   "execution_count": 48,
   "metadata": {},
   "outputs": [
    {
     "data": {
      "text/html": [
       "<div>\n",
       "<style scoped>\n",
       "    .dataframe tbody tr th:only-of-type {\n",
       "        vertical-align: middle;\n",
       "    }\n",
       "\n",
       "    .dataframe tbody tr th {\n",
       "        vertical-align: top;\n",
       "    }\n",
       "\n",
       "    .dataframe thead th {\n",
       "        text-align: right;\n",
       "    }\n",
       "</style>\n",
       "<table border=\"1\" class=\"dataframe\">\n",
       "  <thead>\n",
       "    <tr style=\"text-align: right;\">\n",
       "      <th></th>\n",
       "      <th>model</th>\n",
       "      <th>accuracy</th>\n",
       "      <th>misclassification_rate</th>\n",
       "      <th>precision</th>\n",
       "      <th>recall</th>\n",
       "      <th>specificity</th>\n",
       "      <th>f1score</th>\n",
       "    </tr>\n",
       "  </thead>\n",
       "  <tbody>\n",
       "    <tr>\n",
       "      <th>0</th>\n",
       "      <td>ann</td>\n",
       "      <td>0.998497</td>\n",
       "      <td>0.001503</td>\n",
       "      <td>0.999648</td>\n",
       "      <td>0.997362</td>\n",
       "      <td>0.999644</td>\n",
       "      <td>0.998504</td>\n",
       "    </tr>\n",
       "    <tr>\n",
       "      <th>1</th>\n",
       "      <td>lstm</td>\n",
       "      <td>0.946560</td>\n",
       "      <td>0.053440</td>\n",
       "      <td>0.927885</td>\n",
       "      <td>0.987718</td>\n",
       "      <td>0.884793</td>\n",
       "      <td>0.956867</td>\n",
       "    </tr>\n",
       "  </tbody>\n",
       "</table>\n",
       "</div>"
      ],
      "text/plain": [
       "  model  accuracy  misclassification_rate  precision    recall  specificity  \\\n",
       "0   ann  0.998497                0.001503   0.999648  0.997362     0.999644   \n",
       "1  lstm  0.946560                0.053440   0.927885  0.987718     0.884793   \n",
       "\n",
       "    f1score  \n",
       "0  0.998504  \n",
       "1  0.956867  "
      ]
     },
     "execution_count": 48,
     "metadata": {},
     "output_type": "execute_result"
    }
   ],
   "source": [
    "df_eval.head()"
   ]
  },
  {
   "cell_type": "code",
   "execution_count": 50,
   "metadata": {},
   "outputs": [
    {
     "data": {
      "text/plain": [
       "Text(0.5, 1.0, 'accuracy')"
      ]
     },
     "execution_count": 50,
     "metadata": {},
     "output_type": "execute_result"
    },
    {
     "data": {
      "image/png": "[encoded data removed]",
      "text/plain": [
       "<Figure size 432x288 with 1 Axes>"
      ]
     },
     "metadata": {
      "needs_background": "light"
     },
     "output_type": "display_data"
    }
   ],
   "source": [
    "sns.barplot(x='model', y='accuracy', data=df_eval)\n",
    "plt.title('accuracy')"
   ]
  },
  {
   "cell_type": "code",
   "execution_count": 51,
   "metadata": {},
   "outputs": [
    {
     "data": {
      "text/plain": [
       "Text(0.5, 1.0, 'misclassification_rate')"
      ]
     },
     "execution_count": 51,
     "metadata": {},
     "output_type": "execute_result"
    },
    {
     "data": {
      "image/png": "[encoded data removed]",
      "text/plain": [
       "<Figure size 432x288 with 1 Axes>"
      ]
     },
     "metadata": {
      "needs_background": "light"
     },
     "output_type": "display_data"
    }
   ],
   "source": [
    "sns.barplot(x='model', y='misclassification_rate', data=df_eval)\n",
    "plt.title('misclassification_rate')"
   ]
  },
  {
   "cell_type": "code",
   "execution_count": 52,
   "metadata": {},
   "outputs": [
    {
     "data": {
      "text/plain": [
       "Text(0.5, 1.0, 'precision')"
      ]
     },
     "execution_count": 52,
     "metadata": {},
     "output_type": "execute_result"
    },
    {
     "data": {
      "image/png": "[encoded data removed]",
      "text/plain": [
       "<Figure size 432x288 with 1 Axes>"
      ]
     },
     "metadata": {
      "needs_background": "light"
     },
     "output_type": "display_data"
    }
   ],
   "source": [
    "sns.barplot(x='model', y='precision', data=df_eval)\n",
    "plt.title('precision')"
   ]
  },
  {
   "cell_type": "code",
   "execution_count": 53,
   "metadata": {},
   "outputs": [
    {
     "data": {
      "text/plain": [
       "Text(0.5, 1.0, 'recall')"
      ]
     },
     "execution_count": 53,
     "metadata": {},
     "output_type": "execute_result"
    },
    {
     "data": {
      "image/png": "[encoded data removed]",
      "text/plain": [
       "<Figure size 432x288 with 1 Axes>"
      ]
     },
     "metadata": {
      "needs_background": "light"
     },
     "output_type": "display_data"
    }
   ],
   "source": [
    "sns.barplot(x='model', y='recall', data=df_eval)\n",
    "plt.title('recall')"
   ]
  },
  {
   "cell_type": "code",
   "execution_count": 54,
   "metadata": {},
   "outputs": [
    {
     "data": {
      "text/plain": [
       "Text(0.5, 1.0, 'specificity')"
      ]
     },
     "execution_count": 54,
     "metadata": {},
     "output_type": "execute_result"
    },
    {
     "data": {
      "image/png": "[encoded data removed]",
      "text/plain": [
       "<Figure size 432x288 with 1 Axes>"
      ]
     },
     "metadata": {
      "needs_background": "light"
     },
     "output_type": "display_data"
    }
   ],
   "source": [
    "sns.barplot(x='model', y='specificity', data=df_eval)\n",
    "plt.title('specificity')"
   ]
  },
  {
   "cell_type": "code",
   "execution_count": 55,
   "metadata": {},
   "outputs": [
    {
     "data": {
      "text/plain": [
       "Text(0.5, 1.0, 'f1score')"
      ]
     },
     "execution_count": 55,
     "metadata": {},
     "output_type": "execute_result"
    },
    {
     "data": {
      "image/png": "[encoded data removed]",
      "text/plain": [
       "<Figure size 432x288 with 1 Axes>"
      ]
     },
     "metadata": {
      "needs_background": "light"
     },
     "output_type": "display_data"
    }
   ],
   "source": [
    "sns.barplot(x='model', y='f1score', data=df_eval)\n",
    "plt.title('f1score')"
   ]
  },
  {
   "cell_type": "code",
   "execution_count": 56,
   "metadata": {},
   "outputs": [
    {
     "name": "stdout",
     "output_type": "stream",
     "text": [
      "Model: \"sequential\"\n",
      "_________________________________________________________________\n",
      "Layer (type)                 Output Shape              Param #   \n",
      "=================================================================\n",
      "dense (Dense)                multiple                  60        \n",
      "_________________________________________________________________\n",
      "dense_1 (Dense)              multiple                  20        \n",
      "_________________________________________________________________\n",
      "dense_2 (Dense)              multiple                  20        \n",
      "_________________________________________________________________\n",
      "dense_3 (Dense)              multiple                  5         \n",
      "=================================================================\n",
      "Total params: 105\n",
      "Trainable params: 105\n",
      "Non-trainable params: 0\n",
      "_________________________________________________________________\n"
     ]
    }
   ],
   "source": [
    "ann_model.summary()"
   ]
  },
  {
   "cell_type": "code",
   "execution_count": 57,
   "metadata": {},
   "outputs": [
    {
     "name": "stdout",
     "output_type": "stream",
     "text": [
      "Model: \"sequential_1\"\n",
      "_________________________________________________________________\n",
      "Layer (type)                 Output Shape              Param #   \n",
      "=================================================================\n",
      "lstm (LSTM)                  (None, 1)                 64        \n",
      "_________________________________________________________________\n",
      "dense_4 (Dense)              (None, 1)                 2         \n",
      "=================================================================\n",
      "Total params: 66\n",
      "Trainable params: 66\n",
      "Non-trainable params: 0\n",
      "_________________________________________________________________\n"
     ]
    }
   ],
   "source": [
    "lstm_model.summary()"
   ]
  },
  {
   "cell_type": "markdown",
   "metadata": {},
   "source": [
    "## Save Model "
   ]
  },
  {
   "cell_type": "code",
   "execution_count": 59,
   "metadata": {},
   "outputs": [
    {
     "name": "stdout",
     "output_type": "stream",
     "text": [
      "WARNING:tensorflow:From C:\\Users\\legion\\Anaconda3\\envs\\deeplearn\\lib\\site-packages\\tensorflow\\python\\ops\\resource_variable_ops.py:1817: calling BaseResourceVariable.__init__ (from tensorflow.python.ops.resource_variable_ops) with constraint is deprecated and will be removed in a future version.\n",
      "Instructions for updating:\n",
      "If using Keras pass *_constraint arguments to layers.\n",
      "INFO:tensorflow:Assets written to: model/1592289178.4695408-ANN_model\\assets\n"
     ]
    }
   ],
   "source": [
    "ann_model.save(f\"model/{time.time()}-ANN_model\")"
   ]
  },
  {
   "cell_type": "code",
   "execution_count": 60,
   "metadata": {},
   "outputs": [
    {
     "name": "stdout",
     "output_type": "stream",
     "text": [
      "INFO:tensorflow:Assets written to: model/1592289238.7821648-LSTM_model\\assets\n"
     ]
    }
   ],
   "source": [
    "lstm_model.save(f\"model/{time.time()}-LSTM_model\")"
   ]
  },
  {
   "cell_type": "code",
   "execution_count": null,
   "metadata": {},
   "outputs": [],
   "source": []
  }
 ],
 "metadata": {
  "kernelspec": {
   "display_name": "Python 3",
   "language": "python",
   "name": "python3"
  },
  "language_info": {
   "codemirror_mode": {
    "name": "ipython",
    "version": 3
   },
   "file_extension": ".py",
   "mimetype": "text/x-python",
   "name": "python",
   "nbconvert_exporter": "python",
   "pygments_lexer": "ipython3",
   "version": "3.7.7"
  }
 },
 "nbformat": 4,
 "nbformat_minor": 4
}
