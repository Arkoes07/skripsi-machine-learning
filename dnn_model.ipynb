{
 "cells": [
  {
   "cell_type": "markdown",
   "metadata": {},
   "source": [
    "# Deep Neural Network Model Design"
   ]
  },
  {
   "cell_type": "markdown",
   "metadata": {},
   "source": [
    "**By: M. Alwi Sukra**"
   ]
  },
  {
   "cell_type": "code",
   "execution_count": 1,
   "metadata": {},
   "outputs": [],
   "source": [
    "import numpy as np\n",
    "import seaborn as sns\n",
    "import pandas as pd\n",
    "import tensorflow as tf\n",
    "import time\n",
    "from tensorflow.keras.callbacks import ModelCheckpoint, EarlyStopping, CSVLogger\n",
    "from matplotlib import pyplot as plt"
   ]
  },
  {
   "cell_type": "markdown",
   "metadata": {},
   "source": [
    "### 1. Get Data"
   ]
  },
  {
   "cell_type": "code",
   "execution_count": 2,
   "metadata": {},
   "outputs": [],
   "source": [
    "DATA_PATH = \"datasets/ann-all\""
   ]
  },
  {
   "cell_type": "code",
   "execution_count": 3,
   "metadata": {},
   "outputs": [],
   "source": [
    "X_train = np.load(f\"{DATA_PATH}-X_train.npy\")\n",
    "y_train = np.load(f\"{DATA_PATH}-y_train.npy\")\n",
    "X_test = np.load(f\"{DATA_PATH}-X_test.npy\")\n",
    "y_test = np.load(f\"{DATA_PATH}-y_test.npy\")"
   ]
  },
  {
   "cell_type": "code",
   "execution_count": 4,
   "metadata": {},
   "outputs": [
    {
     "data": {
      "text/plain": [
       "array([0.70747894, 0.62666669, 0.08818361, 0.04614529, 0.        ,\n",
       "       0.        ])"
      ]
     },
     "execution_count": 4,
     "metadata": {},
     "output_type": "execute_result"
    }
   ],
   "source": [
    "X_train[23]"
   ]
  },
  {
   "cell_type": "code",
   "execution_count": 5,
   "metadata": {},
   "outputs": [
    {
     "data": {
      "text/plain": [
       "0"
      ]
     },
     "execution_count": 5,
     "metadata": {},
     "output_type": "execute_result"
    }
   ],
   "source": [
    "y_train[23]"
   ]
  },
  {
   "cell_type": "markdown",
   "metadata": {},
   "source": [
    "### 2. Build Model"
   ]
  },
  {
   "cell_type": "code",
   "execution_count": 6,
   "metadata": {},
   "outputs": [],
   "source": [
    "MODEL_NAME = \"DNN_all-features\""
   ]
  },
  {
   "cell_type": "code",
   "execution_count": 7,
   "metadata": {},
   "outputs": [],
   "source": [
    "layers = [3,3,3]"
   ]
  },
  {
   "cell_type": "markdown",
   "metadata": {},
   "source": [
    "#### Model Structure"
   ]
  },
  {
   "cell_type": "code",
   "execution_count": 8,
   "metadata": {},
   "outputs": [],
   "source": [
    "model = tf.keras.models.Sequential()\n",
    "for neurons in layers:\n",
    "    model.add(tf.keras.layers.Dense(neurons, activation=tf.nn.relu))\n",
    "model.add(tf.keras.layers.Dense(1, activation=tf.nn.sigmoid))"
   ]
  },
  {
   "cell_type": "markdown",
   "metadata": {},
   "source": [
    "#### Compile Model"
   ]
  },
  {
   "cell_type": "code",
   "execution_count": 9,
   "metadata": {},
   "outputs": [],
   "source": [
    "opt = tf.optimizers.Adam(lr=0.01)\n",
    "acc = tf.keras.metrics.BinaryAccuracy(threshold=0.5)\n",
    "model.compile(optimizer=opt, loss=\"binary_crossentropy\", metrics=[acc])"
   ]
  },
  {
   "cell_type": "markdown",
   "metadata": {},
   "source": [
    "### 3. Train Model"
   ]
  },
  {
   "cell_type": "code",
   "execution_count": 10,
   "metadata": {},
   "outputs": [],
   "source": [
    "trained_on = int(time.time())"
   ]
  },
  {
   "cell_type": "code",
   "execution_count": 11,
   "metadata": {},
   "outputs": [],
   "source": [
    "EPOCHS = 50\n",
    "VALIDATION_SPLIT = 0.2"
   ]
  },
  {
   "cell_type": "markdown",
   "metadata": {},
   "source": [
    "#### Callbacks Initialization"
   ]
  },
  {
   "cell_type": "code",
   "execution_count": 12,
   "metadata": {},
   "outputs": [],
   "source": [
    "checkpoint_filepath = f\"saved-models/{trained_on}_{MODEL_NAME}\" + \"_ep-{epoch:02d}_valos-{val_loss:.4f}.hdf5\"\n",
    "log_filepath = f\"csv-train-logs/{trained_on}_{MODEL_NAME}.csv\""
   ]
  },
  {
   "cell_type": "code",
   "execution_count": 13,
   "metadata": {},
   "outputs": [],
   "source": [
    "checkpoint = ModelCheckpoint(checkpoint_filepath, monitor='val_loss', verbose=0, mode='min', save_best_only=True)"
   ]
  },
  {
   "cell_type": "code",
   "execution_count": 14,
   "metadata": {},
   "outputs": [],
   "source": [
    "csv_log = CSVLogger(log_filepath, separator=',', append=False)"
   ]
  },
  {
   "cell_type": "code",
   "execution_count": 15,
   "metadata": {},
   "outputs": [],
   "source": [
    "callbacks=[checkpoint, csv_log]"
   ]
  },
  {
   "cell_type": "markdown",
   "metadata": {},
   "source": [
    "#### Training Process"
   ]
  },
  {
   "cell_type": "code",
   "execution_count": 16,
   "metadata": {},
   "outputs": [
    {
     "name": "stdout",
     "output_type": "stream",
     "text": [
      "Epoch 1/50\n",
      "WARNING:tensorflow:Layer dense is casting an input tensor from dtype float64 to the layer's dtype of float32, which is new behavior in TensorFlow 2.  The layer has dtype float32 because it's dtype defaults to floatx.\n",
      "\n",
      "If you intended to run this layer in float32, you can safely ignore this warning. If in doubt, this warning is likely only an issue if you are porting a TensorFlow 1.X model to TensorFlow 2.\n",
      "\n",
      "To change all layers to have dtype float64 by default, call `tf.keras.backend.set_floatx('float64')`. To change just this layer, pass dtype='float64' to the layer constructor. If you are the author of this layer, you can disable autocasting by passing autocast=False to the base Layer constructor.\n",
      "\n",
      "1131/1131 - 3s - loss: 0.3961 - binary_accuracy: 0.8105 - val_loss: 0.3556 - val_binary_accuracy: 0.8372\n",
      "Epoch 2/50\n",
      "1131/1131 - 3s - loss: 0.3549 - binary_accuracy: 0.8304 - val_loss: 0.3534 - val_binary_accuracy: 0.8099\n",
      "Epoch 3/50\n",
      "1131/1131 - 3s - loss: 0.3495 - binary_accuracy: 0.8294 - val_loss: 0.3516 - val_binary_accuracy: 0.7990\n",
      "Epoch 4/50\n",
      "1131/1131 - 3s - loss: 0.3454 - binary_accuracy: 0.8319 - val_loss: 0.3397 - val_binary_accuracy: 0.8515\n",
      "Epoch 5/50\n",
      "1131/1131 - 3s - loss: 0.3402 - binary_accuracy: 0.8317 - val_loss: 0.3360 - val_binary_accuracy: 0.8518\n",
      "Epoch 6/50\n",
      "1131/1131 - 3s - loss: 0.3335 - binary_accuracy: 0.8303 - val_loss: 0.3270 - val_binary_accuracy: 0.8495\n",
      "Epoch 7/50\n",
      "1131/1131 - 3s - loss: 0.3256 - binary_accuracy: 0.8310 - val_loss: 0.3245 - val_binary_accuracy: 0.8028\n",
      "Epoch 8/50\n",
      "1131/1131 - 3s - loss: 0.3179 - binary_accuracy: 0.8326 - val_loss: 0.3174 - val_binary_accuracy: 0.8247\n",
      "Epoch 9/50\n",
      "1131/1131 - 3s - loss: 0.3161 - binary_accuracy: 0.8306 - val_loss: 0.3121 - val_binary_accuracy: 0.8542\n",
      "Epoch 10/50\n",
      "1131/1131 - 3s - loss: 0.3117 - binary_accuracy: 0.8311 - val_loss: 0.3099 - val_binary_accuracy: 0.8101\n",
      "Epoch 11/50\n",
      "1131/1131 - 3s - loss: 0.3110 - binary_accuracy: 0.8309 - val_loss: 0.3222 - val_binary_accuracy: 0.8012\n",
      "Epoch 12/50\n",
      "1131/1131 - 3s - loss: 0.3113 - binary_accuracy: 0.8287 - val_loss: 0.3048 - val_binary_accuracy: 0.8350\n",
      "Epoch 13/50\n",
      "1131/1131 - 3s - loss: 0.3104 - binary_accuracy: 0.8310 - val_loss: 0.3070 - val_binary_accuracy: 0.8529\n",
      "Epoch 14/50\n",
      "1131/1131 - 3s - loss: 0.3099 - binary_accuracy: 0.8295 - val_loss: 0.3043 - val_binary_accuracy: 0.8333\n",
      "Epoch 15/50\n",
      "1131/1131 - 3s - loss: 0.3094 - binary_accuracy: 0.8313 - val_loss: 0.3326 - val_binary_accuracy: 0.8201\n",
      "Epoch 16/50\n",
      "1131/1131 - 3s - loss: 0.3083 - binary_accuracy: 0.8292 - val_loss: 0.3113 - val_binary_accuracy: 0.8070\n",
      "Epoch 17/50\n",
      "1131/1131 - 3s - loss: 0.3114 - binary_accuracy: 0.8276 - val_loss: 0.3123 - val_binary_accuracy: 0.8025\n",
      "Epoch 18/50\n",
      "1131/1131 - 3s - loss: 0.3097 - binary_accuracy: 0.8304 - val_loss: 0.3053 - val_binary_accuracy: 0.8525\n",
      "Epoch 19/50\n",
      "1131/1131 - 3s - loss: 0.3093 - binary_accuracy: 0.8300 - val_loss: 0.3099 - val_binary_accuracy: 0.8053\n",
      "Epoch 20/50\n",
      "1131/1131 - 3s - loss: 0.3078 - binary_accuracy: 0.8308 - val_loss: 0.3257 - val_binary_accuracy: 0.8025\n",
      "Epoch 21/50\n",
      "1131/1131 - 3s - loss: 0.3103 - binary_accuracy: 0.8293 - val_loss: 0.3060 - val_binary_accuracy: 0.8523\n",
      "Epoch 22/50\n",
      "1131/1131 - 3s - loss: 0.3074 - binary_accuracy: 0.8319 - val_loss: 0.3088 - val_binary_accuracy: 0.8467\n",
      "Epoch 23/50\n",
      "1131/1131 - 3s - loss: 0.3078 - binary_accuracy: 0.8295 - val_loss: 0.3050 - val_binary_accuracy: 0.8296\n",
      "Epoch 24/50\n",
      "1131/1131 - 3s - loss: 0.3078 - binary_accuracy: 0.8279 - val_loss: 0.3113 - val_binary_accuracy: 0.8086\n",
      "Epoch 25/50\n",
      "1131/1131 - 3s - loss: 0.3080 - binary_accuracy: 0.8289 - val_loss: 0.3078 - val_binary_accuracy: 0.8107\n",
      "Epoch 26/50\n",
      "1131/1131 - 3s - loss: 0.3078 - binary_accuracy: 0.8308 - val_loss: 0.3036 - val_binary_accuracy: 0.8321\n",
      "Epoch 27/50\n",
      "1131/1131 - 3s - loss: 0.3087 - binary_accuracy: 0.8300 - val_loss: 0.3107 - val_binary_accuracy: 0.8025\n",
      "Epoch 28/50\n",
      "1131/1131 - 3s - loss: 0.3072 - binary_accuracy: 0.8288 - val_loss: 0.3193 - val_binary_accuracy: 0.8049\n",
      "Epoch 29/50\n",
      "1131/1131 - 3s - loss: 0.3067 - binary_accuracy: 0.8310 - val_loss: 0.3070 - val_binary_accuracy: 0.8522\n",
      "Epoch 30/50\n",
      "1131/1131 - 3s - loss: 0.3077 - binary_accuracy: 0.8305 - val_loss: 0.3037 - val_binary_accuracy: 0.8271\n",
      "Epoch 31/50\n",
      "1131/1131 - 3s - loss: 0.3078 - binary_accuracy: 0.8278 - val_loss: 0.3156 - val_binary_accuracy: 0.8143\n",
      "Epoch 32/50\n",
      "1131/1131 - 3s - loss: 0.3078 - binary_accuracy: 0.8292 - val_loss: 0.3098 - val_binary_accuracy: 0.8134\n",
      "Epoch 33/50\n",
      "1131/1131 - 3s - loss: 0.3061 - binary_accuracy: 0.8300 - val_loss: 0.3051 - val_binary_accuracy: 0.8216\n",
      "Epoch 34/50\n",
      "1131/1131 - 3s - loss: 0.3068 - binary_accuracy: 0.8307 - val_loss: 0.3047 - val_binary_accuracy: 0.8516\n",
      "Epoch 35/50\n",
      "1131/1131 - 3s - loss: 0.3066 - binary_accuracy: 0.8287 - val_loss: 0.3049 - val_binary_accuracy: 0.8535\n",
      "Epoch 36/50\n",
      "1131/1131 - 3s - loss: 0.3074 - binary_accuracy: 0.8306 - val_loss: 0.3046 - val_binary_accuracy: 0.8227\n",
      "Epoch 37/50\n",
      "1131/1131 - 3s - loss: 0.3099 - binary_accuracy: 0.8291 - val_loss: 0.3057 - val_binary_accuracy: 0.8224\n",
      "Epoch 38/50\n",
      "1131/1131 - 3s - loss: 0.3055 - binary_accuracy: 0.8316 - val_loss: 0.3028 - val_binary_accuracy: 0.8296\n",
      "Epoch 39/50\n",
      "1131/1131 - 3s - loss: 0.3067 - binary_accuracy: 0.8308 - val_loss: 0.3028 - val_binary_accuracy: 0.8492\n",
      "Epoch 40/50\n",
      "1131/1131 - 3s - loss: 0.3066 - binary_accuracy: 0.8306 - val_loss: 0.3022 - val_binary_accuracy: 0.8420\n",
      "Epoch 41/50\n",
      "1131/1131 - 3s - loss: 0.3083 - binary_accuracy: 0.8305 - val_loss: 0.3053 - val_binary_accuracy: 0.8184\n",
      "Epoch 42/50\n",
      "1131/1131 - 3s - loss: 0.3069 - binary_accuracy: 0.8296 - val_loss: 0.3098 - val_binary_accuracy: 0.8047\n",
      "Epoch 43/50\n",
      "1131/1131 - 3s - loss: 0.3068 - binary_accuracy: 0.8302 - val_loss: 0.3111 - val_binary_accuracy: 0.8403\n",
      "Epoch 44/50\n",
      "1131/1131 - 3s - loss: 0.3062 - binary_accuracy: 0.8302 - val_loss: 0.3180 - val_binary_accuracy: 0.8041\n",
      "Epoch 45/50\n",
      "1131/1131 - 3s - loss: 0.3046 - binary_accuracy: 0.8303 - val_loss: 0.2992 - val_binary_accuracy: 0.8424\n",
      "Epoch 46/50\n",
      "1131/1131 - 3s - loss: 0.3015 - binary_accuracy: 0.8249 - val_loss: 0.3009 - val_binary_accuracy: 0.8504\n",
      "Epoch 47/50\n",
      "1131/1131 - 3s - loss: 0.2994 - binary_accuracy: 0.8245 - val_loss: 0.2972 - val_binary_accuracy: 0.8197\n",
      "Epoch 48/50\n",
      "1131/1131 - 3s - loss: 0.2996 - binary_accuracy: 0.8208 - val_loss: 0.2990 - val_binary_accuracy: 0.7992\n",
      "Epoch 49/50\n",
      "1131/1131 - 3s - loss: 0.2982 - binary_accuracy: 0.8213 - val_loss: 0.2987 - val_binary_accuracy: 0.8170\n",
      "Epoch 50/50\n",
      "1131/1131 - 3s - loss: 0.2996 - binary_accuracy: 0.8221 - val_loss: 0.2948 - val_binary_accuracy: 0.8145\n"
     ]
    },
    {
     "data": {
      "text/plain": [
       "<tensorflow.python.keras.callbacks.History at 0x1da4b38a508>"
      ]
     },
     "execution_count": 16,
     "metadata": {},
     "output_type": "execute_result"
    }
   ],
   "source": [
    "model.fit(X_train, y_train, validation_split=VALIDATION_SPLIT, epochs=EPOCHS, verbose=2, callbacks=callbacks)"
   ]
  },
  {
   "cell_type": "code",
   "execution_count": null,
   "metadata": {},
   "outputs": [],
   "source": []
  }
 ],
 "metadata": {
  "kernelspec": {
   "display_name": "Python 3",
   "language": "python",
   "name": "python3"
  },
  "language_info": {
   "codemirror_mode": {
    "name": "ipython",
    "version": 3
   },
   "file_extension": ".py",
   "mimetype": "text/x-python",
   "name": "python",
   "nbconvert_exporter": "python",
   "pygments_lexer": "ipython3",
   "version": "3.7.7"
  }
 },
 "nbformat": 4,
 "nbformat_minor": 4
}
