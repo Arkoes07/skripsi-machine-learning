{
 "cells": [
  {
   "cell_type": "markdown",
   "metadata": {},
   "source": [
    "Import useful libraries"
   ]
  },
  {
   "cell_type": "code",
   "execution_count": 44,
   "metadata": {},
   "outputs": [],
   "source": [
    "import matplotlib\n",
    "import matplotlib.pyplot as plt\n",
    "import numpy as np\n",
    "import pandas as pd\n",
    "import time\n",
    "from statistics import mean\n",
    "# custom module frpm ./mymodul.py\n",
    "from mymodule import Preparation, ModelContainer"
   ]
  },
  {
   "cell_type": "markdown",
   "metadata": {},
   "source": [
    "Declare path and another useful constant"
   ]
  },
  {
   "cell_type": "code",
   "execution_count": 2,
   "metadata": {},
   "outputs": [],
   "source": [
    "DATA_PATHS = [\"dataset/base/\", \"dataset/base_derived/\"]\n",
    "SEQ_DATA_PATHS = [\"dataset/seq_base/\", \"dataset/seq_base_derived/\"]\n",
    "TOTAL_FOLDS = 5"
   ]
  },
  {
   "cell_type": "markdown",
   "metadata": {},
   "source": [
    "Configure ModelContainer module"
   ]
  },
  {
   "cell_type": "code",
   "execution_count": 3,
   "metadata": {},
   "outputs": [],
   "source": [
    "ModelContainer.config_train_logs_path(logs_path=\"comparison-logs/\")"
   ]
  },
  {
   "cell_type": "markdown",
   "metadata": {},
   "source": [
    "ANN Model"
   ]
  },
  {
   "cell_type": "code",
   "execution_count": 4,
   "metadata": {},
   "outputs": [
    {
     "name": "stdout",
     "output_type": "stream",
     "text": [
      "== processing : dataset/base/\n",
      "fold 1/5 (184458 train data and 41919 test data) = loss: 2.3893115520477295, accuracy: 0.327918142080307, time_taken: 6.336591270987509e-06 ms/row\n",
      "fold 2/5 (178629 train data and 47748 test data) = loss: 2.2877542972564697, accuracy: 0.39582809805870056, time_taken: 4.5712523257861215e-06 ms/row\n",
      "WARNING:tensorflow:Method (on_train_batch_end) is slow compared to the batch update (0.531534). Check your callbacks.\n",
      "fold 3/5 (181164 train data and 45213 test data) = loss: 2.379788875579834, accuracy: 0.35819342732429504, time_taken: 5.183301011955952e-06 ms/row\n",
      "WARNING:tensorflow:Method (on_train_batch_end) is slow compared to the batch update (0.515903). Check your callbacks.\n",
      "fold 4/5 (181257 train data and 45120 test data) = loss: 2.158970355987549, accuracy: 0.35463207960128784, time_taken: 4.4837435509296176e-06 ms/row\n",
      "WARNING:tensorflow:Method (on_train_batch_end) is slow compared to the batch update (0.531553). Check your callbacks.\n",
      "fold 5/5 (180000 train data and 46377 test data) = loss: 1.7680606842041016, accuracy: 0.4007590115070343, time_taken: 4.698229419035332e-06 ms/row\n",
      "== processing : dataset/base_derived/\n",
      "fold 1/5 (184458 train data and 41919 test data) = loss: 2.29738712310791, accuracy: 0.367422878742218, time_taken: 5.199668112765537e-06 ms/row\n",
      "fold 2/5 (178629 train data and 47748 test data) = loss: 2.3306820392608643, accuracy: 0.41566139459609985, time_taken: 4.563932194325895e-06 ms/row\n",
      "fold 3/5 (181164 train data and 45213 test data) = loss: 2.3539366722106934, accuracy: 0.3409860134124756, time_taken: 4.7399277756995795e-06 ms/row\n",
      "fold 4/5 (181257 train data and 45120 test data) = loss: 2.1503119468688965, accuracy: 0.35545212030410767, time_taken: 4.582661897578138e-06 ms/row\n",
      "WARNING:tensorflow:Method (on_train_batch_end) is slow compared to the batch update (0.500291). Check your callbacks.\n",
      "fold 5/5 (180000 train data and 46377 test data) = loss: 1.8999824523925781, accuracy: 0.38221532106399536, time_taken: 4.715878059138306e-06 ms/row\n",
      "Wall time: 5min 34s\n"
     ]
    }
   ],
   "source": [
    "%%time\n",
    "ann_overall_loss = []\n",
    "ann_overall_accuracy = []\n",
    "ann_overall_time_taken = []\n",
    "\n",
    "epochs=20\n",
    "layers=[512,512,512,512]\n",
    "\n",
    "for path in DATA_PATHS:\n",
    "    print(f\"== processing : {path}\")\n",
    "    \n",
    "    loss = []\n",
    "    accuracy = []\n",
    "    time_taken = []\n",
    "    \n",
    "    for fold in range(5):\n",
    "        # split data into X and y\n",
    "        X_train, X_test, y_train, y_test = Preparation.data_xy(DATA_PATHS[1], fold, TOTAL_FOLDS)\n",
    "        \n",
    "        # build, compile, train, and test model\n",
    "        model_name = f\"ANN-{path[8:-1]}-fold_{fold+1}\"\n",
    "        _loss, _accuracy, _time_taken = ModelContainer.FCModel(X_train, X_test, y_train, y_test, layers, epochs, model_name)\n",
    "        \n",
    "        loss.append(_loss)\n",
    "        accuracy.append(_accuracy)\n",
    "        time_taken.append(_time_taken)\n",
    "        \n",
    "        print(f\"fold {fold+1}/5 ({len(y_train)} train data and {len(y_test)} test data) = loss: {_loss}, accuracy: {_accuracy}, time_taken: {_time_taken} ms/row\")\n",
    "    ann_overall_loss.append(loss)\n",
    "    ann_overall_accuracy.append(accuracy)\n",
    "    ann_overall_time_taken.append(time_taken)"
   ]
  },
  {
   "cell_type": "code",
   "execution_count": 5,
   "metadata": {},
   "outputs": [],
   "source": [
    "arr = [ann_overall_loss, ann_overall_accuracy, ann_overall_time_taken]\n",
    "np.save(file=\"model-comparison-result/ann-model-result\", arr=arr)"
   ]
  },
  {
   "cell_type": "markdown",
   "metadata": {},
   "source": [
    "LSTM Model"
   ]
  },
  {
   "cell_type": "code",
   "execution_count": 6,
   "metadata": {},
   "outputs": [
    {
     "name": "stdout",
     "output_type": "stream",
     "text": [
      "== processing : dataset/seq_base/\n",
      "WARNING:tensorflow:Method (on_train_batch_end) is slow compared to the batch update (0.290001). Check your callbacks.\n",
      "fold 1/5 (184590 train data and 41952 test data) = loss: 1.1959013938903809, accuracy: 0.35585907101631165, time_taken: 8.041195111089222e-05 ms/row\n",
      "WARNING:tensorflow:Method (on_train_batch_end) is slow compared to the batch update (0.164442). Check your callbacks.\n",
      "fold 2/5 (178761 train data and 47781 test data) = loss: 1.029210090637207, accuracy: 0.486595094203949, time_taken: 8.008160773453503e-05 ms/row\n",
      "WARNING:tensorflow:Method (on_train_batch_end) is slow compared to the batch update (0.164867). Check your callbacks.\n",
      "fold 3/5 (181296 train data and 45246 test data) = loss: 1.1353124380111694, accuracy: 0.36334702372550964, time_taken: 8.015911274456258e-05 ms/row\n",
      "WARNING:tensorflow:Method (on_train_batch_end) is slow compared to the batch update (0.266070). Check your callbacks.\n",
      "fold 4/5 (181389 train data and 45153 test data) = loss: 1.085862636566162, accuracy: 0.31960225105285645, time_taken: 8.034996000779965e-05 ms/row\n",
      "fold 5/5 (180132 train data and 46410 test data) = loss: 1.0471912622451782, accuracy: 0.4744236171245575, time_taken: 8.07816446456794e-05 ms/row\n",
      "== processing : dataset/seq_base_derived/\n",
      "WARNING:tensorflow:Method (on_train_batch_end) is slow compared to the batch update (0.180018). Check your callbacks.\n",
      "fold 1/5 (113310 train data and 24132 test data) = loss: 1.2600407600402832, accuracy: 0.30842864513397217, time_taken: 8.927271098575247e-05 ms/row\n",
      "WARNING:tensorflow:Method (on_train_batch_end) is slow compared to the batch update (0.179716). Check your callbacks.\n",
      "fold 2/5 (107481 train data and 29961 test data) = loss: 1.019834280014038, accuracy: 0.501485288143158, time_taken: 8.70698587164168e-05 ms/row\n",
      "fold 3/5 (110016 train data and 27426 test data) = loss: 1.3044819831848145, accuracy: 0.4171953499317169, time_taken: 8.882247392366084e-05 ms/row\n",
      "fold 4/5 (110109 train data and 27333 test data) = loss: 1.0621922016143799, accuracy: 0.43270039558410645, time_taken: 8.859911084641776e-05 ms/row\n",
      "fold 5/5 (108852 train data and 28590 test data) = loss: 1.0544168949127197, accuracy: 0.4193074405193329, time_taken: 8.793832872997176e-05 ms/row\n",
      "Wall time: 1h 27min 1s\n"
     ]
    }
   ],
   "source": [
    "%%time\n",
    "lstm_overall_loss = []\n",
    "lstm_overall_accuracy = []\n",
    "lstm_overall_time_taken = []\n",
    "\n",
    "epochs=10\n",
    "\n",
    "for path in SEQ_DATA_PATHS:\n",
    "    print(f\"== processing : {path}\")\n",
    "    \n",
    "    loss = []\n",
    "    accuracy = []\n",
    "    time_taken = []\n",
    "    \n",
    "    for fold in range(5):\n",
    "        # split data into X and y\n",
    "        X_train, X_test, y_train, y_test = Preparation.data_xy(path, fold, TOTAL_FOLDS)\n",
    "        \n",
    "        # build, compile, train, and test model\n",
    "        model_name = f\"LSTM-{path[8:-1]}-fold_{fold+1}\"\n",
    "        _loss, _accuracy, _time_taken = ModelContainer.LSTMModel(X_train, X_test, y_train, y_test, epochs, model_name)\n",
    "        \n",
    "        loss.append(_loss)\n",
    "        accuracy.append(_accuracy)\n",
    "        time_taken.append(_time_taken)\n",
    "        \n",
    "        print(f\"fold {fold+1}/5 ({len(y_train)} train data and {len(y_test)} test data) = loss: {_loss}, accuracy: {_accuracy}, time_taken: {_time_taken} ms/row\")\n",
    "    lstm_overall_loss.append(loss)\n",
    "    lstm_overall_accuracy.append(accuracy)\n",
    "    lstm_overall_time_taken.append(time_taken)"
   ]
  },
  {
   "cell_type": "code",
   "execution_count": 7,
   "metadata": {},
   "outputs": [],
   "source": [
    "arr = [lstm_overall_loss, lstm_overall_accuracy, lstm_overall_time_taken]\n",
    "np.save(file=\"model-comparison-result/lstm-model-result\", arr=arr)"
   ]
  },
  {
   "cell_type": "markdown",
   "metadata": {},
   "source": [
    "Get result"
   ]
  },
  {
   "cell_type": "code",
   "execution_count": 24,
   "metadata": {},
   "outputs": [],
   "source": [
    "ann_result = np.load(\"model-comparison-result/ann-model-result.npy\")\n",
    "lstm_result = np.load(\"model-comparison-result/lstm-model-result.npy\")"
   ]
  },
  {
   "cell_type": "code",
   "execution_count": 46,
   "metadata": {},
   "outputs": [],
   "source": [
    "DATA_LABELS = ['ANN Base', 'ANN Base Derived', 'LSTM Base', 'LSTM Base Derived']"
   ]
  },
  {
   "cell_type": "markdown",
   "metadata": {},
   "source": [
    "Aggregate information"
   ]
  },
  {
   "cell_type": "code",
   "execution_count": 47,
   "metadata": {},
   "outputs": [],
   "source": [
    "loss_arr = [each for each in ann_result[0]]\n",
    "loss_arr.extend(lstm_result[0])\n",
    "accuracy_arr = [each for each in ann_result[1]]\n",
    "accuracy_arr.extend(lstm_result[1])\n",
    "time_taken_arr = [each for each in ann_result[2]]\n",
    "time_taken_arr.extend(lstm_result[2])"
   ]
  },
  {
   "cell_type": "code",
   "execution_count": 48,
   "metadata": {},
   "outputs": [
    {
     "name": "stdout",
     "output_type": "stream",
     "text": [
      "[2.1967771530151365, 2.2064600467681883, 1.0986955642700196, 1.140193223953247] [0.36746615171432495, 0.3723475456237793, 0.3999654114246368, 0.4158234238624573] [5.054623515738906e-06, 4.760413607901491e-06, 8.035685524869378e-05, 8.834049664044392e-05]\n"
     ]
    }
   ],
   "source": [
    "loss = [mean(each) for each in loss_arr]\n",
    "accuracy = [mean(each) for each in accuracy_arr]\n",
    "time_taken = [mean(each) for each in time_taken_arr]\n",
    "print(loss, accuracy, time_taken)"
   ]
  },
  {
   "cell_type": "markdown",
   "metadata": {},
   "source": [
    "Result visualization"
   ]
  },
  {
   "cell_type": "code",
   "execution_count": 51,
   "metadata": {},
   "outputs": [
    {
     "data": {
      "image/png": "[encoded data removed]",
      "text/plain": [
       "<Figure size 432x288 with 1 Axes>"
      ]
     },
     "metadata": {
      "needs_background": "light"
     },
     "output_type": "display_data"
    }
   ],
   "source": [
    "plt.bar(DATA_LABELS, loss)\n",
    "plt.title(\"Average Test Loss Comparison\")\n",
    "plt.show()"
   ]
  },
  {
   "cell_type": "code",
   "execution_count": 52,
   "metadata": {},
   "outputs": [
    {
     "data": {
      "image/png": "[encoded data removed]",
      "text/plain": [
       "<Figure size 432x288 with 1 Axes>"
      ]
     },
     "metadata": {
      "needs_background": "light"
     },
     "output_type": "display_data"
    }
   ],
   "source": [
    "plt.bar(DATA_LABELS, accuracy)\n",
    "plt.title(\"Average Test Accuracy Comparison\")\n",
    "plt.show()"
   ]
  },
  {
   "cell_type": "code",
   "execution_count": 54,
   "metadata": {},
   "outputs": [
    {
     "data": {
      "image/png": "[encoded data removed]",
      "text/plain": [
       "<Figure size 432x288 with 1 Axes>"
      ]
     },
     "metadata": {
      "needs_background": "light"
     },
     "output_type": "display_data"
    }
   ],
   "source": [
    "plt.bar(DATA_LABELS, time_taken)\n",
    "plt.title(\"Average Test Time Taken (ms) Comparison\")\n",
    "plt.show()"
   ]
  },
  {
   "cell_type": "code",
   "execution_count": null,
   "metadata": {},
   "outputs": [],
   "source": []
  }
 ],
 "metadata": {
  "kernelspec": {
   "display_name": "Python 3",
   "language": "python",
   "name": "python3"
  },
  "language_info": {
   "codemirror_mode": {
    "name": "ipython",
    "version": 3
   },
   "file_extension": ".py",
   "mimetype": "text/x-python",
   "name": "python",
   "nbconvert_exporter": "python",
   "pygments_lexer": "ipython3",
   "version": "3.7.7"
  }
 },
 "nbformat": 4,
 "nbformat_minor": 4
}
